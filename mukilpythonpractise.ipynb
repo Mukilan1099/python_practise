{
 "cells": [
  {
   "cell_type": "code",
   "execution_count": 2,
   "id": "9ba72910-fef5-4bef-bc5f-b5287d49ea71",
   "metadata": {},
   "outputs": [],
   "source": [
    "a=10\n",
    "b=6\n"
   ]
  },
  {
   "cell_type": "code",
   "execution_count": 3,
   "id": "5b61e463-c066-4225-b001-358bbc9a5511",
   "metadata": {},
   "outputs": [
    {
     "data": {
      "text/plain": [
       "16"
      ]
     },
     "execution_count": 3,
     "metadata": {},
     "output_type": "execute_result"
    }
   ],
   "source": [
    "a+b"
   ]
  },
  {
   "cell_type": "code",
   "execution_count": 3,
   "id": "b4b2a181-d998-4bbc-b1a2-9fa431eded9e",
   "metadata": {},
   "outputs": [
    {
     "data": {
      "text/plain": [
       "\"hello i'm mukil\""
      ]
     },
     "execution_count": 3,
     "metadata": {},
     "output_type": "execute_result"
    }
   ],
   "source": [
    "\"hello i'm mukil\""
   ]
  },
  {
   "cell_type": "code",
   "execution_count": 4,
   "id": "7aaeb47f-714f-43e6-8e17-fc1cdb2d0cde",
   "metadata": {},
   "outputs": [
    {
     "ename": "SyntaxError",
     "evalue": "unterminated string literal (detected at line 1) (3716289201.py, line 1)",
     "output_type": "error",
     "traceback": [
      "\u001b[1;36m  Cell \u001b[1;32mIn[4], line 1\u001b[1;36m\u001b[0m\n\u001b[1;33m    'hello i'm mukil'\u001b[0m\n\u001b[1;37m                    ^\u001b[0m\n\u001b[1;31mSyntaxError\u001b[0m\u001b[1;31m:\u001b[0m unterminated string literal (detected at line 1)\n"
     ]
    }
   ],
   "source": [
    "'hello i'm mukil'"
   ]
  },
  {
   "cell_type": "markdown",
   "id": "f026a7f7-73fd-45c5-89a6-a5ed4370fb93",
   "metadata": {},
   "source": [
    "have to be aware of the quotes in such situations  and recommended to use double quotes instead."
   ]
  },
  {
   "cell_type": "code",
   "execution_count": 5,
   "id": "31ecfbf8-9188-473e-899d-393379bb8b5e",
   "metadata": {},
   "outputs": [
    {
     "data": {
      "text/plain": [
       "'montycloud'"
      ]
     },
     "execution_count": 5,
     "metadata": {},
     "output_type": "execute_result"
    }
   ],
   "source": [
    "\"hello world\"\n",
    "\"montycloud\""
   ]
  },
  {
   "cell_type": "markdown",
   "id": "24884d26-bbc6-411e-ae98-458a20d0680b",
   "metadata": {},
   "source": [
    "recent last string is only shown as a output\n",
    "so use the print function instead."
   ]
  },
  {
   "cell_type": "code",
   "execution_count": 6,
   "id": "6ed32537-7333-4f7b-89fb-1c653a50d76f",
   "metadata": {},
   "outputs": [
    {
     "name": "stdout",
     "output_type": "stream",
     "text": [
      "hello world\n",
      "montycloud\n"
     ]
    }
   ],
   "source": [
    "print(\"hello world\")\n",
    "print(\"montycloud\")"
   ]
  },
  {
   "cell_type": "markdown",
   "id": "9777ce7d-0f6d-4e55-8045-30b316be801a",
   "metadata": {},
   "source": [
    "\\n=printing in next line\n",
    "\\t=printing with the spaces"
   ]
  },
  {
   "cell_type": "code",
   "execution_count": 7,
   "id": "d6f7702a-01f8-4844-aab9-a5609078a542",
   "metadata": {},
   "outputs": [
    {
     "name": "stdout",
     "output_type": "stream",
     "text": [
      "HELLO \n",
      "World\n"
     ]
    }
   ],
   "source": [
    "print('HELLO \\nWorld')"
   ]
  },
  {
   "cell_type": "code",
   "execution_count": 8,
   "id": "5c356117-75c5-48d3-a46c-e0a3cd9e9293",
   "metadata": {},
   "outputs": [
    {
     "name": "stdout",
     "output_type": "stream",
     "text": [
      "hello \n",
      " world\n"
     ]
    }
   ],
   "source": [
    "print(\"hello \\n world\")"
   ]
  },
  {
   "cell_type": "code",
   "execution_count": 9,
   "id": "130e7cff-5be2-4d79-8da2-643d62538942",
   "metadata": {},
   "outputs": [
    {
     "name": "stdout",
     "output_type": "stream",
     "text": [
      "hello \t world\n"
     ]
    }
   ],
   "source": [
    "print(\"hello \\t world\")"
   ]
  },
  {
   "cell_type": "code",
   "execution_count": 10,
   "id": "029d33b8-db8a-41f1-9d99-924388d1ab44",
   "metadata": {},
   "outputs": [
    {
     "data": {
      "text/plain": [
       "'mukilan'"
      ]
     },
     "execution_count": 10,
     "metadata": {},
     "output_type": "execute_result"
    }
   ],
   "source": [
    "'mukilan'"
   ]
  },
  {
   "cell_type": "code",
   "execution_count": 11,
   "id": "d9e30165-c792-4fb6-af9b-03e8d8117ab8",
   "metadata": {},
   "outputs": [
    {
     "data": {
      "text/plain": [
       "'a'"
      ]
     },
     "execution_count": 11,
     "metadata": {},
     "output_type": "execute_result"
    }
   ],
   "source": [
    "'mukilan'[5] #without assigning variable to string."
   ]
  },
  {
   "cell_type": "code",
   "execution_count": 12,
   "id": "a83b5c41-c18e-48bd-9a3c-0d605a3753aa",
   "metadata": {},
   "outputs": [
    {
     "data": {
      "text/plain": [
       "'monty cloud'"
      ]
     },
     "execution_count": 12,
     "metadata": {},
     "output_type": "execute_result"
    }
   ],
   "source": [
    "a=\"monty cloud\"\n",
    "#space is also counted in indexing.\n",
    "a[::]"
   ]
  },
  {
   "cell_type": "code",
   "execution_count": 13,
   "id": "81a38a9d-6f8b-4757-8f00-22c9c273d967",
   "metadata": {},
   "outputs": [
    {
     "data": {
      "text/plain": [
       "'ot l'"
      ]
     },
     "execution_count": 13,
     "metadata": {},
     "output_type": "execute_result"
    }
   ],
   "source": [
    "a=\"monty cloud\"\n",
    "a[1:9:2]"
   ]
  },
  {
   "cell_type": "code",
   "execution_count": 14,
   "id": "b8b8c211-ea4a-4f08-a5f3-ff59d6f07484",
   "metadata": {},
   "outputs": [
    {
     "data": {
      "text/plain": [
       "'duolc ytnom'"
      ]
     },
     "execution_count": 14,
     "metadata": {},
     "output_type": "execute_result"
    }
   ],
   "source": [
    "a=\"monty cloud\"\n",
    "a[::-1]"
   ]
  },
  {
   "cell_type": "code",
   "execution_count": 15,
   "id": "99c93258-d66e-4bb9-b123-a5455e0564ea",
   "metadata": {},
   "outputs": [
    {
     "data": {
      "text/plain": [
       "'onty'"
      ]
     },
     "execution_count": 15,
     "metadata": {},
     "output_type": "execute_result"
    }
   ],
   "source": [
    "a=\"monty\"\n",
    "a[1:]"
   ]
  },
  {
   "cell_type": "code",
   "execution_count": 19,
   "id": "390f15cc-75cd-42f8-ac01-86f72ac83251",
   "metadata": {},
   "outputs": [],
   "source": [
    "a=\"monty\"\n",
    "a=a+\"cloud\""
   ]
  },
  {
   "cell_type": "code",
   "execution_count": 20,
   "id": "ca220574-8464-4008-ae1b-6e50310f2310",
   "metadata": {},
   "outputs": [
    {
     "data": {
      "text/plain": [
       "'montycloud'"
      ]
     },
     "execution_count": 20,
     "metadata": {},
     "output_type": "execute_result"
    }
   ],
   "source": [
    "a"
   ]
  },
  {
   "cell_type": "code",
   "execution_count": 22,
   "id": "6ba3fba0-4592-4f87-a0ac-db8dc2d6df26",
   "metadata": {},
   "outputs": [
    {
     "name": "stdout",
     "output_type": "stream",
     "text": [
      "0000000000\n"
     ]
    }
   ],
   "source": [
    "n=\"0\"\n",
    "n=n*10\n",
    "print(n)"
   ]
  },
  {
   "cell_type": "code",
   "execution_count": 23,
   "id": "9a0591f4-3a8e-436d-8b82-124f993e3ccb",
   "metadata": {},
   "outputs": [
    {
     "name": "stdout",
     "output_type": "stream",
     "text": [
      "hari\n"
     ]
    }
   ],
   "source": [
    " a=\"hari\"\n",
    "a.split()\n",
    "print(a)"
   ]
  },
  {
   "cell_type": "code",
   "execution_count": 13,
   "id": "299dbcd9-d3ff-4e34-a69a-d1486f9d55b5",
   "metadata": {},
   "outputs": [
    {
     "name": "stdout",
     "output_type": "stream",
     "text": [
      "['Hi', 'monty', 'cloud']\n"
     ]
    }
   ],
   "source": [
    "a=\"Hi monty cloud\"\n",
    "a.split()\n",
    "print(a.split())"
   ]
  },
  {
   "cell_type": "code",
   "execution_count": 26,
   "id": "7a64152a-9731-4841-a3ea-e2408a3f5015",
   "metadata": {},
   "outputs": [
    {
     "data": {
      "text/plain": [
       "['h', ' ', ' am us', 'ng a str', 'ng ', 'n d', 'ffernt ways']"
      ]
     },
     "execution_count": 26,
     "metadata": {},
     "output_type": "execute_result"
    }
   ],
   "source": [
    "mukil=\"hi i am using a string in differnt ways\"\n",
    "mukil.split(\"i\")"
   ]
  },
  {
   "cell_type": "code",
   "execution_count": 29,
   "id": "1e08714c-24fe-4e00-ae05-f4b3e30e97bb",
   "metadata": {},
   "outputs": [
    {
     "name": "stdout",
     "output_type": "stream",
     "text": [
      "this is mukilan monty\n"
     ]
    }
   ],
   "source": [
    "#string formatting\n",
    "print(\"this is mukilan {}\".format(\"monty\"))"
   ]
  },
  {
   "cell_type": "code",
   "execution_count": 31,
   "id": "beb67f4e-22e9-4ac0-b02c-f076742a14df",
   "metadata": {},
   "outputs": [
    {
     "name": "stdout",
     "output_type": "stream",
     "text": [
      "this is mukilan monty cloud\n"
     ]
    }
   ],
   "source": [
    "print(\"this is mukilan {} {}\".format(\"monty\",'cloud'))"
   ]
  },
  {
   "cell_type": "code",
   "execution_count": 34,
   "id": "a173dd76-41a4-4981-81bf-aeb76ceb3b0c",
   "metadata": {},
   "outputs": [
    {
     "name": "stdout",
     "output_type": "stream",
     "text": [
      "this is mukilan monty cloud offc\n"
     ]
    }
   ],
   "source": [
    "print(\"this is mukilan {a} {b} {c}\".format(a=\"monty\",b='cloud',c=\"offc\"))"
   ]
  },
  {
   "cell_type": "markdown",
   "id": "b5bf7635-ccf6-4de0-a0ab-2934ecaacc33",
   "metadata": {},
   "source": [
    "#float formatting"
   ]
  },
  {
   "cell_type": "code",
   "execution_count": 39,
   "id": "65ae41ec-c1fa-4ea1-8182-37661686e8a5",
   "metadata": {},
   "outputs": [],
   "source": [
    "c=50/19"
   ]
  },
  {
   "cell_type": "code",
   "execution_count": 40,
   "id": "effe79ab-c06a-49d8-9038-f9c2ef11ff7b",
   "metadata": {},
   "outputs": [
    {
     "data": {
      "text/plain": [
       "2.6315789473684212"
      ]
     },
     "execution_count": 40,
     "metadata": {},
     "output_type": "execute_result"
    }
   ],
   "source": [
    "c"
   ]
  },
  {
   "cell_type": "code",
   "execution_count": 43,
   "id": "6c174137-890b-471e-8d75-d38a884e4c89",
   "metadata": {},
   "outputs": [
    {
     "name": "stdout",
     "output_type": "stream",
     "text": [
      "The value is 2.6316\n"
     ]
    }
   ],
   "source": [
    "print(\"The value is {g:1.4f}\".format(g=c))"
   ]
  },
  {
   "cell_type": "code",
   "execution_count": 48,
   "id": "b32ef01f-e2b0-4272-a257-fb6934674c0e",
   "metadata": {},
   "outputs": [
    {
     "name": "stdout",
     "output_type": "stream",
     "text": [
      "37.87655\n"
     ]
    }
   ],
   "source": [
    "#must assign a value in format column..and assign the variable inside print\n",
    "t=37.8765457\n",
    "print(\"{i:1.5f}\".format(i=t))"
   ]
  },
  {
   "cell_type": "code",
   "execution_count": 50,
   "id": "55f6c00f-7efa-4798-9a28-9fa7a4a21304",
   "metadata": {},
   "outputs": [
    {
     "name": "stdout",
     "output_type": "stream",
     "text": [
      "his name is hari\n"
     ]
    }
   ],
   "source": [
    "name=\"hari\"\n",
    "print(\"his name is {mukil}\".format(mukil=name))"
   ]
  },
  {
   "cell_type": "code",
   "execution_count": 51,
   "id": "25737076-535b-405f-9cc7-a83c41dd7f33",
   "metadata": {},
   "outputs": [
    {
     "name": "stdout",
     "output_type": "stream",
     "text": [
      "hello bhuvaneshwAari buvi how are you\n"
     ]
    }
   ],
   "source": [
    "#f string method\n",
    "name=\"buvi\"\n",
    "print(f\"hello bhuvaneshwAari {name} how are you\")"
   ]
  },
  {
   "cell_type": "code",
   "execution_count": 53,
   "id": "76d31b89-c0dc-4f90-8c67-3d5f2902d0c0",
   "metadata": {},
   "outputs": [
    {
     "name": "stdout",
     "output_type": "stream",
     "text": [
      "[1, 2, 3, 4, 5, 5]\n"
     ]
    }
   ],
   "source": [
    "list=[1,2,3]\n",
    "list2=[4,5,5]\n",
    "total_list=list+list2\n",
    "print(total_list)"
   ]
  },
  {
   "cell_type": "code",
   "execution_count": 54,
   "id": "47d440b6-9b41-4116-b7d3-a50891fb88fb",
   "metadata": {},
   "outputs": [
    {
     "data": {
      "text/plain": [
       "[1, 2, 3, 4, 5, 5]"
      ]
     },
     "execution_count": 54,
     "metadata": {},
     "output_type": "execute_result"
    }
   ],
   "source": [
    "total_list"
   ]
  },
  {
   "cell_type": "code",
   "execution_count": 55,
   "id": "5fcabbbf-495d-4e70-97e2-102d398b9fa3",
   "metadata": {},
   "outputs": [],
   "source": [
    "total_list[3]=\"helllo\""
   ]
  },
  {
   "cell_type": "code",
   "execution_count": 56,
   "id": "f5190b85-e09f-4ba6-a748-ede93f65bff7",
   "metadata": {},
   "outputs": [
    {
     "data": {
      "text/plain": [
       "[1, 2, 3, 'helllo', 5, 5]"
      ]
     },
     "execution_count": 56,
     "metadata": {},
     "output_type": "execute_result"
    }
   ],
   "source": [
    "total_list"
   ]
  },
  {
   "cell_type": "code",
   "execution_count": 57,
   "id": "e74f2da7-64c2-4f25-8e1a-5b9b40a24891",
   "metadata": {},
   "outputs": [
    {
     "data": {
      "text/plain": [
       "dict_keys(['hari', 'mukil'])"
      ]
     },
     "execution_count": 57,
     "metadata": {},
     "output_type": "execute_result"
    }
   ],
   "source": [
    "#dictionaries\n",
    "dict={'hari':45,'mukil':43}\n",
    "dict.keys()"
   ]
  },
  {
   "cell_type": "code",
   "execution_count": 61,
   "id": "1c8583b4-cf7e-407b-93b8-69879f47af69",
   "metadata": {},
   "outputs": [
    {
     "data": {
      "text/plain": [
       "dict_values([45, 43])"
      ]
     },
     "execution_count": 61,
     "metadata": {},
     "output_type": "execute_result"
    }
   ],
   "source": [
    "dict.values()"
   ]
  },
  {
   "cell_type": "code",
   "execution_count": 62,
   "id": "ea7a909f-70ca-4fc0-a1f9-0bd16bf86052",
   "metadata": {},
   "outputs": [
    {
     "data": {
      "text/plain": [
       "45"
      ]
     },
     "execution_count": 62,
     "metadata": {},
     "output_type": "execute_result"
    }
   ],
   "source": [
    "dict[\"hari\"]"
   ]
  },
  {
   "cell_type": "code",
   "execution_count": 63,
   "id": "9b326bd8-0a2e-403b-b3b4-4f92f1ebca0a",
   "metadata": {},
   "outputs": [
    {
     "ename": "SyntaxError",
     "evalue": "invalid syntax (542860687.py, line 1)",
     "output_type": "error",
     "traceback": [
      "\u001b[1;36m  Cell \u001b[1;32mIn[63], line 1\u001b[1;36m\u001b[0m\n\u001b[1;33m    dict.(\"hari\")\u001b[0m\n\u001b[1;37m         ^\u001b[0m\n\u001b[1;31mSyntaxError\u001b[0m\u001b[1;31m:\u001b[0m invalid syntax\n"
     ]
    }
   ],
   "source": [
    "dict.(\"hari\")#access only inside the dictionaries through square bracket."
   ]
  },
  {
   "cell_type": "code",
   "execution_count": 66,
   "id": "cd13c93c-1e59-4503-83eb-3b84a8eb8fbb",
   "metadata": {},
   "outputs": [],
   "source": [
    "#can access values through keys and we cant access the values through keys.\n"
   ]
  },
  {
   "cell_type": "code",
   "execution_count": 68,
   "id": "96e9dd01-13d6-4ea2-a95b-69cd50040615",
   "metadata": {},
   "outputs": [],
   "source": [
    "d={\"s\":120,\"b\":[23,34,22],\"c\":{\"inside\":233}}\n"
   ]
  },
  {
   "cell_type": "code",
   "execution_count": 69,
   "id": "0a9a491e-016a-4aaa-81ce-607bc6c6b976",
   "metadata": {},
   "outputs": [
    {
     "ename": "NameError",
     "evalue": "name 'keys' is not defined",
     "output_type": "error",
     "traceback": [
      "\u001b[1;31m---------------------------------------------------------------------------\u001b[0m",
      "\u001b[1;31mNameError\u001b[0m                                 Traceback (most recent call last)",
      "Cell \u001b[1;32mIn[69], line 1\u001b[0m\n\u001b[1;32m----> 1\u001b[0m d(keys)\n",
      "\u001b[1;31mNameError\u001b[0m: name 'keys' is not defined"
     ]
    }
   ],
   "source": [
    "d(keys)"
   ]
  },
  {
   "cell_type": "code",
   "execution_count": 70,
   "id": "a0a09f7a-3a6a-46e3-b527-2a87d44417e7",
   "metadata": {},
   "outputs": [
    {
     "data": {
      "text/plain": [
       "dict_keys(['s', 'b', 'c'])"
      ]
     },
     "execution_count": 70,
     "metadata": {},
     "output_type": "execute_result"
    }
   ],
   "source": [
    "d.keys()"
   ]
  },
  {
   "cell_type": "code",
   "execution_count": 71,
   "id": "bbd30272-9dc5-4419-bf8a-fc882e9dbe7d",
   "metadata": {},
   "outputs": [
    {
     "data": {
      "text/plain": [
       "dict_values([120, [23, 34, 22], {'inside': 233}])"
      ]
     },
     "execution_count": 71,
     "metadata": {},
     "output_type": "execute_result"
    }
   ],
   "source": [
    "d.values()"
   ]
  },
  {
   "cell_type": "code",
   "execution_count": 72,
   "id": "ecd93f4e-b266-48a9-a9d2-8d8eab5f4b1d",
   "metadata": {},
   "outputs": [
    {
     "data": {
      "text/plain": [
       "[23, 34, 22]"
      ]
     },
     "execution_count": 72,
     "metadata": {},
     "output_type": "execute_result"
    }
   ],
   "source": [
    "d[\"b\"]"
   ]
  },
  {
   "cell_type": "code",
   "execution_count": 73,
   "id": "608ba2f3-9a18-4e1b-b9e7-fead3fe68ef2",
   "metadata": {},
   "outputs": [
    {
     "data": {
      "text/plain": [
       "{'inside': 233}"
      ]
     },
     "execution_count": 73,
     "metadata": {},
     "output_type": "execute_result"
    }
   ],
   "source": [
    "d[\"c\"]"
   ]
  },
  {
   "cell_type": "code",
   "execution_count": 74,
   "id": "ec2b2e93-6347-43f8-907f-669f9537a491",
   "metadata": {},
   "outputs": [
    {
     "data": {
      "text/plain": [
       "34"
      ]
     },
     "execution_count": 74,
     "metadata": {},
     "output_type": "execute_result"
    }
   ],
   "source": [
    "d[\"b\"][1]"
   ]
  },
  {
   "cell_type": "code",
   "execution_count": 80,
   "id": "9366d5b1-2544-42d8-8712-9b11f3be6f36",
   "metadata": {},
   "outputs": [
    {
     "data": {
      "text/plain": [
       "{'key': [1, 3, 'ag', 6]}"
      ]
     },
     "execution_count": 80,
     "metadata": {},
     "output_type": "execute_result"
    }
   ],
   "source": [
    "list={\"key\":[1,3,\"ag\",6]}\n",
    "list"
   ]
  },
  {
   "cell_type": "code",
   "execution_count": 81,
   "id": "9993c789-1d2a-47e7-9fb6-3be908fe06f9",
   "metadata": {},
   "outputs": [
    {
     "data": {
      "text/plain": [
       "[1, 3, 'ag', 6]"
      ]
     },
     "execution_count": 81,
     "metadata": {},
     "output_type": "execute_result"
    }
   ],
   "source": [
    "list[\"key\"]"
   ]
  },
  {
   "cell_type": "code",
   "execution_count": 87,
   "id": "e91f013a-16ca-4a86-9fba-820bf54db677",
   "metadata": {},
   "outputs": [],
   "source": [
    "fin=list[\"key\"][2]"
   ]
  },
  {
   "cell_type": "code",
   "execution_count": 88,
   "id": "3807beb5-dba1-4178-a2ca-bd286d85b501",
   "metadata": {},
   "outputs": [
    {
     "data": {
      "text/plain": [
       "'ag'"
      ]
     },
     "execution_count": 88,
     "metadata": {},
     "output_type": "execute_result"
    }
   ],
   "source": [
    "fin"
   ]
  },
  {
   "cell_type": "code",
   "execution_count": 89,
   "id": "6c09813e-d9e0-465f-b0cc-7509bfcb49dc",
   "metadata": {},
   "outputs": [],
   "source": [
    "capital=fin.upper()"
   ]
  },
  {
   "cell_type": "code",
   "execution_count": 90,
   "id": "64a37707-cfa8-4d0e-a9ef-734bf4c3ab39",
   "metadata": {},
   "outputs": [
    {
     "data": {
      "text/plain": [
       "'AG'"
      ]
     },
     "execution_count": 90,
     "metadata": {},
     "output_type": "execute_result"
    }
   ],
   "source": [
    "capital"
   ]
  },
  {
   "cell_type": "code",
   "execution_count": 91,
   "id": "6da2ce80-0bc7-4238-a12f-d9b27d7b9bc6",
   "metadata": {},
   "outputs": [
    {
     "data": {
      "text/plain": [
       "{'key': [1, 3, 'ag', 6]}"
      ]
     },
     "execution_count": 91,
     "metadata": {},
     "output_type": "execute_result"
    }
   ],
   "source": [
    "list\n"
   ]
  },
  {
   "cell_type": "code",
   "execution_count": 92,
   "id": "e9ff5876-2c2b-49cc-8eba-7f8d1804bab7",
   "metadata": {},
   "outputs": [
    {
     "data": {
      "text/plain": [
       "{'key': [1, 3, 'ag', 6]}"
      ]
     },
     "execution_count": 92,
     "metadata": {},
     "output_type": "execute_result"
    }
   ],
   "source": [
    "list\n"
   ]
  },
  {
   "cell_type": "code",
   "execution_count": 95,
   "id": "14e765f7-6f99-4e58-ad0d-a8ab7d231752",
   "metadata": {},
   "outputs": [
    {
     "data": {
      "text/plain": [
       "'AG'"
      ]
     },
     "execution_count": 95,
     "metadata": {},
     "output_type": "execute_result"
    }
   ],
   "source": [
    "list[\"key\"][2].upper()"
   ]
  },
  {
   "cell_type": "code",
   "execution_count": 96,
   "id": "a0c27fa2-a309-46d9-8a9a-9890cb5be774",
   "metadata": {},
   "outputs": [
    {
     "data": {
      "text/plain": [
       "{'key': [1, 3, 'ag', 6]}"
      ]
     },
     "execution_count": 96,
     "metadata": {},
     "output_type": "execute_result"
    }
   ],
   "source": [
    "list"
   ]
  },
  {
   "cell_type": "code",
   "execution_count": 97,
   "id": "f8796c5b-9fbf-48ad-b750-e9ca734c447c",
   "metadata": {},
   "outputs": [
    {
     "data": {
      "text/plain": [
       "{'key': [1, 3, 'ag', 6], 'new': 350}"
      ]
     },
     "execution_count": 97,
     "metadata": {},
     "output_type": "execute_result"
    }
   ],
   "source": [
    "list['new']=350\n",
    "list"
   ]
  },
  {
   "cell_type": "code",
   "execution_count": 98,
   "id": "2924d84d-b949-4100-91bb-b226876d9a69",
   "metadata": {},
   "outputs": [
    {
     "data": {
      "text/plain": [
       "{'key': (543, 53), 'new': 350}"
      ]
     },
     "execution_count": 98,
     "metadata": {},
     "output_type": "execute_result"
    }
   ],
   "source": [
    "list['key']=543,53\n",
    "list"
   ]
  },
  {
   "cell_type": "code",
   "execution_count": 99,
   "id": "8848d05e-2a31-43ce-bc6e-b840192fde33",
   "metadata": {},
   "outputs": [
    {
     "data": {
      "text/plain": [
       "dict_items([('key', (543, 53)), ('new', 350)])"
      ]
     },
     "execution_count": 99,
     "metadata": {},
     "output_type": "execute_result"
    }
   ],
   "source": [
    "list.items()"
   ]
  },
  {
   "cell_type": "code",
   "execution_count": 100,
   "id": "e400aab6-4670-4579-aedf-7d0d39895895",
   "metadata": {},
   "outputs": [],
   "source": [
    "myset= set()"
   ]
  },
  {
   "cell_type": "code",
   "execution_count": 103,
   "id": "74e20d8c-30fc-4ad7-a0a4-e73918dc3976",
   "metadata": {},
   "outputs": [
    {
     "data": {
      "text/plain": [
       "set()"
      ]
     },
     "execution_count": 103,
     "metadata": {},
     "output_type": "execute_result"
    }
   ],
   "source": [
    "myset"
   ]
  },
  {
   "cell_type": "code",
   "execution_count": 104,
   "id": "c03c6b49-ef0f-40bd-a1b4-d74ea86a1ccf",
   "metadata": {},
   "outputs": [],
   "source": [
    "myset.add(34)"
   ]
  },
  {
   "cell_type": "code",
   "execution_count": 105,
   "id": "616164ef-bd76-40c2-8fd7-59139b09499c",
   "metadata": {},
   "outputs": [
    {
     "data": {
      "text/plain": [
       "set()"
      ]
     },
     "execution_count": 105,
     "metadata": {},
     "output_type": "execute_result"
    }
   ],
   "source": [
    "set()"
   ]
  },
  {
   "cell_type": "code",
   "execution_count": 106,
   "id": "6501bcc5-4a34-4146-8770-df73c18acf85",
   "metadata": {},
   "outputs": [
    {
     "data": {
      "text/plain": [
       "{34}"
      ]
     },
     "execution_count": 106,
     "metadata": {},
     "output_type": "execute_result"
    }
   ],
   "source": [
    "myset"
   ]
  },
  {
   "cell_type": "code",
   "execution_count": 108,
   "id": "006810fe-64dd-49c1-a0d4-f9ce0e05c94a",
   "metadata": {},
   "outputs": [
    {
     "ename": "TypeError",
     "evalue": "set.add() takes exactly one argument (3 given)",
     "output_type": "error",
     "traceback": [
      "\u001b[1;31m---------------------------------------------------------------------------\u001b[0m",
      "\u001b[1;31mTypeError\u001b[0m                                 Traceback (most recent call last)",
      "Cell \u001b[1;32mIn[108], line 1\u001b[0m\n\u001b[1;32m----> 1\u001b[0m myset\u001b[38;5;241m.\u001b[39madd(\u001b[38;5;241m45\u001b[39m,\u001b[38;5;241m56\u001b[39m,\u001b[38;5;241m5\u001b[39m)\n\u001b[0;32m      2\u001b[0m myset\n",
      "\u001b[1;31mTypeError\u001b[0m: set.add() takes exactly one argument (3 given)"
     ]
    }
   ],
   "source": [
    "myset.add(45,56,5)#only 1 value can be added at a time."
   ]
  },
  {
   "cell_type": "code",
   "execution_count": 110,
   "id": "5204bc95-e999-4c2c-99be-193c33bb4f7b",
   "metadata": {},
   "outputs": [
    {
     "data": {
      "text/plain": [
       "{34, 57}"
      ]
     },
     "execution_count": 110,
     "metadata": {},
     "output_type": "execute_result"
    }
   ],
   "source": [
    "myset.add(57)\n",
    "myset.add(57)#doesn't allow duplicate values\n",
    "myset"
   ]
  },
  {
   "cell_type": "code",
   "execution_count": 112,
   "id": "48571f79-86f0-481b-8ab4-16b4612d00cc",
   "metadata": {},
   "outputs": [
    {
     "data": {
      "text/plain": [
       "{1, 2, 3}"
      ]
     },
     "execution_count": 112,
     "metadata": {},
     "output_type": "execute_result"
    }
   ],
   "source": [
    "list=[1,1,2,2,3,3]\n",
    "set(list)"
   ]
  },
  {
   "cell_type": "code",
   "execution_count": 114,
   "id": "5c412fa4-efa0-407b-8d51-6a27a289ec75",
   "metadata": {},
   "outputs": [],
   "source": [
    "list=[\"hari\",23,56,{\"keyy\":78}]"
   ]
  },
  {
   "cell_type": "code",
   "execution_count": 117,
   "id": "7fc4bc48-d2d2-4332-871e-4a4e3ed8fb5c",
   "metadata": {},
   "outputs": [
    {
     "data": {
      "text/plain": [
       "78"
      ]
     },
     "execution_count": 117,
     "metadata": {},
     "output_type": "execute_result"
    }
   ],
   "source": [
    "list[3][\"keyy\"]"
   ]
  },
  {
   "cell_type": "code",
   "execution_count": 118,
   "id": "e736954d-8193-4141-8625-1323b48efb68",
   "metadata": {},
   "outputs": [
    {
     "name": "stdout",
     "output_type": "stream",
     "text": [
      "Writing muki.txt\n"
     ]
    }
   ],
   "source": [
    "#creating file#it should be in the notebook folder loacation only.\n",
    "%%writefile muki.txt\n",
    "hi how\n",
    "are \n",
    "you"
   ]
  },
  {
   "cell_type": "code",
   "execution_count": 119,
   "id": "3bafa7f7-b849-46ae-8f05-60deebf472bb",
   "metadata": {},
   "outputs": [],
   "source": [
    "#for opening the file-file name should be in the string-double quotes\n",
    "op=open('muki.txt')"
   ]
  },
  {
   "cell_type": "code",
   "execution_count": 120,
   "id": "6ce4bd1b-09d5-40cb-b922-fb4322160ba5",
   "metadata": {},
   "outputs": [
    {
     "data": {
      "text/plain": [
       "'hi how\\nare \\nyou\\n'"
      ]
     },
     "execution_count": 120,
     "metadata": {},
     "output_type": "execute_result"
    }
   ],
   "source": [
    "op.read()"
   ]
  },
  {
   "cell_type": "code",
   "execution_count": 121,
   "id": "37f8497e-5845-4c91-9969-615e8590eade",
   "metadata": {},
   "outputs": [
    {
     "data": {
      "text/plain": [
       "''"
      ]
     },
     "execution_count": 121,
     "metadata": {},
     "output_type": "execute_result"
    }
   ],
   "source": [
    "op.read()"
   ]
  },
  {
   "cell_type": "code",
   "execution_count": 122,
   "id": "964a8512-5741-4277-ac55-771abe4d9175",
   "metadata": {},
   "outputs": [
    {
     "data": {
      "text/plain": [
       "0"
      ]
     },
     "execution_count": 122,
     "metadata": {},
     "output_type": "execute_result"
    }
   ],
   "source": [
    "op.seek(0)"
   ]
  },
  {
   "cell_type": "code",
   "execution_count": 123,
   "id": "35831ccc-b643-4279-9fff-7dd45ebc5635",
   "metadata": {},
   "outputs": [
    {
     "data": {
      "text/plain": [
       "'hi how\\nare \\nyou\\n'"
      ]
     },
     "execution_count": 123,
     "metadata": {},
     "output_type": "execute_result"
    }
   ],
   "source": [
    "op.read()"
   ]
  },
  {
   "cell_type": "code",
   "execution_count": 1,
   "id": "4de18b8e-d8c0-4b80-9815-f83e2f8fd802",
   "metadata": {},
   "outputs": [
    {
     "name": "stdout",
     "output_type": "stream",
     "text": [
      "Writing harimukil.txt\n"
     ]
    }
   ],
   "source": [
    "%%writefile harimukil.txt\n",
    "hi hari how is your work\n",
    "how is london"
   ]
  },
  {
   "cell_type": "code",
   "execution_count": 2,
   "id": "8875b635-37f5-4740-9d93-da4ba0506a3a",
   "metadata": {},
   "outputs": [],
   "source": [
    "bhuvi=open(\"harimukil.txt\")"
   ]
  },
  {
   "cell_type": "code",
   "execution_count": 3,
   "id": "430bb755-58a1-41f6-88b5-03d7d8aff53a",
   "metadata": {},
   "outputs": [
    {
     "ename": "FileNotFoundError",
     "evalue": "[Errno 2] No such file or directory: 'lachu.txt'",
     "output_type": "error",
     "traceback": [
      "\u001b[1;31m---------------------------------------------------------------------------\u001b[0m",
      "\u001b[1;31mFileNotFoundError\u001b[0m                         Traceback (most recent call last)",
      "Cell \u001b[1;32mIn[3], line 1\u001b[0m\n\u001b[1;32m----> 1\u001b[0m bhuvi\u001b[38;5;241m=\u001b[39m\u001b[38;5;28mopen\u001b[39m(\u001b[38;5;124m\"\u001b[39m\u001b[38;5;124mlachu.txt\u001b[39m\u001b[38;5;124m\"\u001b[39m)\n",
      "File \u001b[1;32m~\\anaconda3\\Lib\\site-packages\\IPython\\core\\interactiveshell.py:310\u001b[0m, in \u001b[0;36m_modified_open\u001b[1;34m(file, *args, **kwargs)\u001b[0m\n\u001b[0;32m    303\u001b[0m \u001b[38;5;28;01mif\u001b[39;00m file \u001b[38;5;129;01min\u001b[39;00m {\u001b[38;5;241m0\u001b[39m, \u001b[38;5;241m1\u001b[39m, \u001b[38;5;241m2\u001b[39m}:\n\u001b[0;32m    304\u001b[0m     \u001b[38;5;28;01mraise\u001b[39;00m \u001b[38;5;167;01mValueError\u001b[39;00m(\n\u001b[0;32m    305\u001b[0m         \u001b[38;5;124mf\u001b[39m\u001b[38;5;124m\"\u001b[39m\u001b[38;5;124mIPython won\u001b[39m\u001b[38;5;124m'\u001b[39m\u001b[38;5;124mt let you open fd=\u001b[39m\u001b[38;5;132;01m{\u001b[39;00mfile\u001b[38;5;132;01m}\u001b[39;00m\u001b[38;5;124m by default \u001b[39m\u001b[38;5;124m\"\u001b[39m\n\u001b[0;32m    306\u001b[0m         \u001b[38;5;124m\"\u001b[39m\u001b[38;5;124mas it is likely to crash IPython. If you know what you are doing, \u001b[39m\u001b[38;5;124m\"\u001b[39m\n\u001b[0;32m    307\u001b[0m         \u001b[38;5;124m\"\u001b[39m\u001b[38;5;124myou can use builtins\u001b[39m\u001b[38;5;124m'\u001b[39m\u001b[38;5;124m open.\u001b[39m\u001b[38;5;124m\"\u001b[39m\n\u001b[0;32m    308\u001b[0m     )\n\u001b[1;32m--> 310\u001b[0m \u001b[38;5;28;01mreturn\u001b[39;00m io_open(file, \u001b[38;5;241m*\u001b[39margs, \u001b[38;5;241m*\u001b[39m\u001b[38;5;241m*\u001b[39mkwargs)\n",
      "\u001b[1;31mFileNotFoundError\u001b[0m: [Errno 2] No such file or directory: 'lachu.txt'"
     ]
    }
   ],
   "source": [
    "bhuvi=open(\"lachu.txt\")"
   ]
  },
  {
   "cell_type": "code",
   "execution_count": 4,
   "id": "80d4505a-3595-4758-bda4-912776d34ac0",
   "metadata": {},
   "outputs": [
    {
     "data": {
      "text/plain": [
       "'hi hari how is your work\\nhow is london\\n'"
      ]
     },
     "execution_count": 4,
     "metadata": {},
     "output_type": "execute_result"
    }
   ],
   "source": [
    "bhuvi.read()"
   ]
  },
  {
   "cell_type": "code",
   "execution_count": 5,
   "id": "b47b3b97-ec9d-47f9-9225-8da7cedf36b3",
   "metadata": {},
   "outputs": [
    {
     "data": {
      "text/plain": [
       "''"
      ]
     },
     "execution_count": 5,
     "metadata": {},
     "output_type": "execute_result"
    }
   ],
   "source": [
    "bhuvi.read()"
   ]
  },
  {
   "cell_type": "code",
   "execution_count": 6,
   "id": "615b2f44-5b05-4cdf-bbcd-4101f437d467",
   "metadata": {},
   "outputs": [
    {
     "data": {
      "text/plain": [
       "0"
      ]
     },
     "execution_count": 6,
     "metadata": {},
     "output_type": "execute_result"
    }
   ],
   "source": [
    "bhuvi.seek(0)"
   ]
  },
  {
   "cell_type": "code",
   "execution_count": 7,
   "id": "41de6018-c518-4e95-9164-1330415b6592",
   "metadata": {},
   "outputs": [
    {
     "data": {
      "text/plain": [
       "'hi hari how is your work\\nhow is london\\n'"
      ]
     },
     "execution_count": 7,
     "metadata": {},
     "output_type": "execute_result"
    }
   ],
   "source": [
    "bhuvi.read()"
   ]
  },
  {
   "cell_type": "code",
   "execution_count": 8,
   "id": "c08d9c26-bd2a-4456-9579-ab7170b31800",
   "metadata": {},
   "outputs": [
    {
     "data": {
      "text/plain": [
       "[]"
      ]
     },
     "execution_count": 8,
     "metadata": {},
     "output_type": "execute_result"
    }
   ],
   "source": [
    "bhuvi.readlines()"
   ]
  },
  {
   "cell_type": "code",
   "execution_count": 9,
   "id": "7828ae0a-3378-4b74-98a2-2bb493f8fd36",
   "metadata": {},
   "outputs": [
    {
     "data": {
      "text/plain": [
       "0"
      ]
     },
     "execution_count": 9,
     "metadata": {},
     "output_type": "execute_result"
    }
   ],
   "source": [
    "bhuvi.seek(0)"
   ]
  },
  {
   "cell_type": "code",
   "execution_count": 10,
   "id": "1bdb8819-3e22-4ab1-8ff4-32e4608af5cd",
   "metadata": {},
   "outputs": [
    {
     "data": {
      "text/plain": [
       "['hi hari how is your work\\n', 'how is london\\n']"
      ]
     },
     "execution_count": 10,
     "metadata": {},
     "output_type": "execute_result"
    }
   ],
   "source": [
    "bhuvi.readlines()"
   ]
  },
  {
   "cell_type": "code",
   "execution_count": 11,
   "id": "8ef3396f-14f1-4666-8be3-64011b94a9ca",
   "metadata": {},
   "outputs": [
    {
     "data": {
      "text/plain": [
       "'C:\\\\Users\\\\MukilanB'"
      ]
     },
     "execution_count": 11,
     "metadata": {},
     "output_type": "execute_result"
    }
   ],
   "source": [
    "pwd\n"
   ]
  },
  {
   "cell_type": "code",
   "execution_count": 12,
   "id": "f9d7f54d-7731-43b1-8050-dd779959750b",
   "metadata": {},
   "outputs": [],
   "source": [
    "bhuvi.close()#to avoid errors."
   ]
  },
  {
   "cell_type": "code",
   "execution_count": 13,
   "id": "498dcb26-6a02-4a17-a912-c4d2c9bc1074",
   "metadata": {},
   "outputs": [],
   "source": [
    "with open('harimukil.txt') as variabl:#another way of reading the contents\n",
    "    myfile=variabl.read()"
   ]
  },
  {
   "cell_type": "code",
   "execution_count": 14,
   "id": "c8af3d64-0fa7-4b49-8005-1addd4333000",
   "metadata": {},
   "outputs": [
    {
     "data": {
      "text/plain": [
       "'hi hari how is your work\\nhow is london\\n'"
      ]
     },
     "execution_count": 14,
     "metadata": {},
     "output_type": "execute_result"
    }
   ],
   "source": [
    "myfile"
   ]
  },
  {
   "cell_type": "code",
   "execution_count": 1,
   "id": "6d0ef1f3-0221-46e4-ade5-93687a69b17a",
   "metadata": {},
   "outputs": [],
   "source": [
    "with open('harimukil.txt',mode='r') as variabble:\n",
    "    vble=variabble.read()"
   ]
  },
  {
   "cell_type": "code",
   "execution_count": 2,
   "id": "7746e563-6c4c-4e37-b5c9-1db1d3e27516",
   "metadata": {},
   "outputs": [
    {
     "data": {
      "text/plain": [
       "'hi hari how is your work\\nhow is london\\n'"
      ]
     },
     "execution_count": 2,
     "metadata": {},
     "output_type": "execute_result"
    }
   ],
   "source": [
    "vble"
   ]
  },
  {
   "cell_type": "code",
   "execution_count": 3,
   "id": "fe623830-83a6-4779-a50e-7eb5f6a6dd5e",
   "metadata": {},
   "outputs": [
    {
     "name": "stdout",
     "output_type": "stream",
     "text": [
      "hi hari how is your work\n",
      "how is london\n",
      "\n"
     ]
    }
   ],
   "source": [
    "with open('harimukil.txt',mode='r') as h:\n",
    "    print(h.read())"
   ]
  },
  {
   "cell_type": "code",
   "execution_count": 10,
   "id": "6b196dcd-972a-4682-a834-3aa07b0edc1b",
   "metadata": {},
   "outputs": [],
   "source": [
    "with open('harimukil.txt',mode='a')as h:\n",
    "    h.write('\\n all the best')"
   ]
  },
  {
   "cell_type": "code",
   "execution_count": 11,
   "id": "15522581-5e7f-4250-b5cc-7c3b21bc8bcb",
   "metadata": {},
   "outputs": [
    {
     "name": "stdout",
     "output_type": "stream",
     "text": [
      "hi hari how is your work\n",
      "how is london\n",
      "all the best\n",
      "all the best\n",
      "all the best\n",
      " all the best\n"
     ]
    }
   ],
   "source": [
    "#after appending we have to use the read command beforely used and then we can see the updated contents\n",
    "with open('harimukil.txt',mode='r') as h:\n",
    "    print(h.read())"
   ]
  },
  {
   "cell_type": "markdown",
   "id": "aa87fbe6-1162-4431-8a5b-3063e7428858",
   "metadata": {},
   "source": [
    "\\n can be used for printing in next line as well  as to have spaces."
   ]
  },
  {
   "cell_type": "code",
   "execution_count": 1,
   "id": "d8170243-1516-4323-9744-a9dca30af5db",
   "metadata": {},
   "outputs": [
    {
     "data": {
      "text/plain": [
       "'Hariharan'"
      ]
     },
     "execution_count": 1,
     "metadata": {},
     "output_type": "execute_result"
    }
   ],
   "source": [
    "k='hariharan'\n",
    "k.capitalize()"
   ]
  },
  {
   "cell_type": "code",
   "execution_count": 4,
   "id": "edee2b57-89db-46e3-8f06-776936e7d979",
   "metadata": {},
   "outputs": [
    {
     "data": {
      "text/plain": [
       "'hariharan'"
      ]
     },
     "execution_count": 4,
     "metadata": {},
     "output_type": "execute_result"
    }
   ],
   "source": [
    "k"
   ]
  },
  {
   "cell_type": "code",
   "execution_count": 12,
   "id": "91018ec5-0659-4f14-89c7-55b7c0490919",
   "metadata": {},
   "outputs": [
    {
     "ename": "SyntaxError",
     "evalue": "invalid syntax (1699223019.py, line 2)",
     "output_type": "error",
     "traceback": [
      "\u001b[1;36m  Cell \u001b[1;32mIn[12], line 2\u001b[1;36m\u001b[0m\n\u001b[1;33m    k.count[]\u001b[0m\n\u001b[1;37m            ^\u001b[0m\n\u001b[1;31mSyntaxError\u001b[0m\u001b[1;31m:\u001b[0m invalid syntax\n"
     ]
    }
   ],
   "source": [
    "k='hari'\n",
    "k"
   ]
  },
  {
   "cell_type": "code",
   "execution_count": 18,
   "id": "03c80da3-4a84-4b32-bf9b-16d1741aea4a",
   "metadata": {},
   "outputs": [
    {
     "name": "stdout",
     "output_type": "stream",
     "text": [
      "yeah he is a hardworker\n"
     ]
    }
   ],
   "source": [
    "mukilan=True\n",
    "if mukilan:\n",
    "    print(\"yeah he is a hardworker\")"
   ]
  },
  {
   "cell_type": "code",
   "execution_count": 19,
   "id": "cc818958-33bc-4597-9266-94ab3093d80f",
   "metadata": {},
   "outputs": [],
   "source": [
    "mukilan=False\n",
    "if mukilan:\n",
    "    print(\"yeah he is a hardworker\")"
   ]
  },
  {
   "cell_type": "code",
   "execution_count": null,
   "id": "f08bf3da-6bc7-40d9-9eac-40fc111092d7",
   "metadata": {},
   "outputs": [],
   "source": [
    "#it doesnt print anything as it is false."
   ]
  },
  {
   "cell_type": "code",
   "execution_count": 21,
   "id": "4807beff-76bb-4a68-90b4-ddb75dbe0866",
   "metadata": {},
   "outputs": [
    {
     "name": "stdout",
     "output_type": "stream",
     "text": [
      "yeah he is a hardworker\n"
     ]
    }
   ],
   "source": [
    "mukilan=True\n",
    "if mukilan:\n",
    "    print(\"yeah he is a hardworker\")\n",
    "else:\n",
    "    print('he is lazy')"
   ]
  },
  {
   "cell_type": "code",
   "execution_count": 26,
   "id": "cbb678c0-c6af-489b-a9a8-c2e8839d850d",
   "metadata": {},
   "outputs": [
    {
     "name": "stdout",
     "output_type": "stream",
     "text": [
      "anni\n"
     ]
    }
   ],
   "source": [
    "e=\"bals\"\n",
    "if e==\"mukil\":\n",
    "    print(\"yes\")\n",
    "elif e==\"hari\":\n",
    "    print('london')\n",
    "else:\n",
    "    print('anni')"
   ]
  },
  {
   "cell_type": "code",
   "execution_count": 27,
   "id": "48d739fc-05f1-42ef-bdf9-babd01fb1750",
   "metadata": {},
   "outputs": [
    {
     "name": "stdout",
     "output_type": "stream",
     "text": [
      "1\n",
      "2\n",
      "3\n",
      "4\n",
      "5\n",
      "6\n"
     ]
    }
   ],
   "source": [
    "a=[1,2,3,4,5,6]\n",
    "for num in a:\n",
    "    print(num) "
   ]
  },
  {
   "cell_type": "code",
   "execution_count": 28,
   "id": "c293ad19-9d22-4f01-baa5-664efae5187b",
   "metadata": {},
   "outputs": [
    {
     "name": "stdout",
     "output_type": "stream",
     "text": [
      "hai hai\n",
      "hai hai\n",
      "hai hai\n",
      "hai hai\n",
      "hai hai\n",
      "hai hai\n"
     ]
    }
   ],
   "source": [
    "a=[1,2,3,4,5,6]\n",
    "for num in a:\n",
    "    print('hai hai') "
   ]
  },
  {
   "cell_type": "code",
   "execution_count": 34,
   "id": "0c962617-4fd3-441d-9aef-9b94780fb5ae",
   "metadata": {},
   "outputs": [
    {
     "name": "stdout",
     "output_type": "stream",
     "text": [
      "ODD1\n",
      "even even 2\n",
      "ODD3\n",
      "even even 4\n",
      "ODD5\n",
      "even even 6\n",
      "even even 8\n",
      "even even 10\n"
     ]
    }
   ],
   "source": [
    "a=[1,2,3,4,5,6,8,10]\n",
    "for num in a:\n",
    "    if num%2==0:\n",
    "        print('even even',num) \n",
    "    else:\n",
    "        print(f'ODD{num}')"
   ]
  },
  {
   "cell_type": "code",
   "execution_count": 37,
   "id": "668a931a-907f-469e-981b-82706d795aff",
   "metadata": {},
   "outputs": [
    {
     "name": "stdout",
     "output_type": "stream",
     "text": [
      "1\n",
      "3\n",
      "6\n",
      "10\n",
      "15\n",
      "21\n",
      "29\n",
      "39\n"
     ]
    }
   ],
   "source": [
    "a=[1,2,3,4,5,6,8,10]\n",
    "sum=0\n",
    "for total in a:\n",
    "    sum=sum+total\n",
    "    print(sum)"
   ]
  },
  {
   "cell_type": "code",
   "execution_count": 38,
   "id": "70e409e7-1412-4ffb-9b86-d10c0613ee7e",
   "metadata": {},
   "outputs": [
    {
     "name": "stdout",
     "output_type": "stream",
     "text": [
      "39\n"
     ]
    }
   ],
   "source": [
    "a=[1,2,3,4,5,6,8,10]\n",
    "sum=0\n",
    "for total in a:\n",
    "    sum=sum+total\n",
    "print(sum)"
   ]
  },
  {
   "cell_type": "code",
   "execution_count": 41,
   "id": "d96e3f8f-8444-4b28-8674-3925f8c4f7e0",
   "metadata": {},
   "outputs": [
    {
     "name": "stdout",
     "output_type": "stream",
     "text": [
      "m\n",
      "o\n",
      "n\n",
      "t\n",
      "y\n"
     ]
    }
   ],
   "source": [
    "for hari in \"monty\":\n",
    "    print(hari)\n"
   ]
  },
  {
   "cell_type": "code",
   "execution_count": 42,
   "id": "2c3db701-d2d1-4384-af4c-8cee06f22d3c",
   "metadata": {},
   "outputs": [
    {
     "name": "stdout",
     "output_type": "stream",
     "text": [
      "cool buddies\n",
      "cool buddies\n",
      "cool buddies\n",
      "cool buddies\n",
      "cool buddies\n"
     ]
    }
   ],
   "source": [
    "for hari in \"monty\":\n",
    "    print(\"cool buddies\")"
   ]
  },
  {
   "cell_type": "code",
   "execution_count": 43,
   "id": "19124b21-e028-4a92-95c5-40473290b8f1",
   "metadata": {},
   "outputs": [
    {
     "name": "stdout",
     "output_type": "stream",
     "text": [
      "1\n",
      "2\n",
      "3\n"
     ]
    }
   ],
   "source": [
    "#tuples in for loop has a special case\n",
    "tup=(1,2,3)\n",
    "for num in tup:\n",
    "    print(num)"
   ]
  },
  {
   "cell_type": "code",
   "execution_count": 44,
   "id": "10232a6a-f263-46ad-8a12-175e8f5d39ae",
   "metadata": {},
   "outputs": [
    {
     "name": "stdout",
     "output_type": "stream",
     "text": [
      "(1, 2)\n",
      "(3, 4)\n",
      "(5, 6)\n",
      "(7, 8)\n"
     ]
    }
   ],
   "source": [
    "lst=[(1,2),(3,4),(5,6),(7,8)]\n",
    "for pair in lst:\n",
    "    print(pair)"
   ]
  },
  {
   "cell_type": "code",
   "execution_count": 46,
   "id": "b5952176-9ff6-4b24-b697-7ca8e87a83f0",
   "metadata": {},
   "outputs": [
    {
     "name": "stdout",
     "output_type": "stream",
     "text": [
      "1\n",
      "2\n",
      "3\n",
      "4\n",
      "5\n",
      "6\n",
      "7\n",
      "8\n"
     ]
    }
   ],
   "source": [
    "#for getting access into the individual elements.we have to use this method.\n",
    "lst=[(1,2),(3,4),(5,6),(7,8)]\n",
    "for (a,b) in lst:\n",
    "    print(a)\n",
    "    print(b)"
   ]
  },
  {
   "cell_type": "code",
   "execution_count": 47,
   "id": "2856a018-2490-45a6-8c3c-2d898f1cd771",
   "metadata": {},
   "outputs": [
    {
     "name": "stdout",
     "output_type": "stream",
     "text": [
      "1\n",
      "2\n",
      "3\n",
      "4\n",
      "5\n",
      "6\n",
      "7\n",
      "8\n"
     ]
    }
   ],
   "source": [
    "#can asl0 try it without paranthesis\n",
    "lst=[(1,2),(3,4),(5,6),(7,8)]\n",
    "for a,b in lst:\n",
    "    print(a)\n",
    "    print(b)"
   ]
  },
  {
   "cell_type": "code",
   "execution_count": 50,
   "id": "31263648-40a1-4a2b-95bb-aa92366fd3c1",
   "metadata": {},
   "outputs": [
    {
     "name": "stdout",
     "output_type": "stream",
     "text": [
      "1\n",
      "3\n",
      "5\n",
      "7\n"
     ]
    }
   ],
   "source": [
    "lst=[(1,2,8),(3,4,98),(5,6,56),(7,67,45)]\n",
    "for a,b,c in lst:#add 3 variables\n",
    "    print(a)#if needed to print the a variables we can use print a ,otherwise what variabele needed means we can call it to print "
   ]
  },
  {
   "cell_type": "code",
   "execution_count": 52,
   "id": "8bfc9ca0-59b2-4b08-8265-0dcaec466bb4",
   "metadata": {},
   "outputs": [
    {
     "name": "stdout",
     "output_type": "stream",
     "text": [
      "k1\n",
      "k2\n",
      "k3\n"
     ]
    }
   ],
   "source": [
    "di={'k1':1,'k2':2,'k3':3}#default only key values are printed\n",
    "for a in di:\n",
    "    print(a)"
   ]
  },
  {
   "cell_type": "code",
   "execution_count": 53,
   "id": "43b5e191-674e-4828-b9c8-480e5584ad41",
   "metadata": {},
   "outputs": [
    {
     "name": "stdout",
     "output_type": "stream",
     "text": [
      "('k1', 1)\n",
      "('k2', 2)\n",
      "('k3', 3)\n"
     ]
    }
   ],
   "source": [
    "di={'k1':1,'k2':2,'k3':3}\n",
    "for a in di.items():#use items() function to call all tha key value pairs.\n",
    "    print(a)"
   ]
  },
  {
   "cell_type": "code",
   "execution_count": 54,
   "id": "b22de30d-832e-41d0-a2ef-03bf4e3455f0",
   "metadata": {},
   "outputs": [
    {
     "name": "stdout",
     "output_type": "stream",
     "text": [
      "1\n",
      "2\n",
      "3\n"
     ]
    }
   ],
   "source": [
    "di={'k1':1,'k2':2,'k3':3}\n",
    "for a in di.values():#only valuesa are printed.\n",
    "    print(a)"
   ]
  },
  {
   "cell_type": "code",
   "execution_count": 2,
   "id": "5c15bf0d-febf-4869-ae82-a06e13ea0918",
   "metadata": {},
   "outputs": [
    {
     "name": "stdout",
     "output_type": "stream",
     "text": [
      "it is true0\n",
      "it is true1\n",
      "it is true2\n"
     ]
    }
   ],
   "source": [
    "#while loop\n",
    "x=0\n",
    "while x<3:\n",
    "    print(f'it is true{x}')\n",
    "    x=x+1\n",
    "    "
   ]
  },
  {
   "cell_type": "code",
   "execution_count": 3,
   "id": "2b03fdce-0624-43c5-b3d6-8fd4abee34ca",
   "metadata": {},
   "outputs": [
    {
     "name": "stdout",
     "output_type": "stream",
     "text": [
      "it is true0\n",
      "it is true1\n",
      "it is true2\n",
      "it is larger\n"
     ]
    }
   ],
   "source": [
    "#while loop\n",
    "x=0\n",
    "while x<3:\n",
    "    print(f'it is true{x}')\n",
    "    x=x+1\n",
    "else:\n",
    "    print(\"it is larger\")"
   ]
  },
  {
   "cell_type": "code",
   "execution_count": 4,
   "id": "c89d64ba-4b84-4d64-8212-85b612220911",
   "metadata": {},
   "outputs": [],
   "source": [
    "#pass,continue,break in loops\n",
    "l=[1,2,3]\n",
    "for a in l:\n",
    "    pass#not showing error when executed....pass----does nothing."
   ]
  },
  {
   "cell_type": "code",
   "execution_count": 5,
   "id": "51d29b19-f64d-400f-9ba6-bf0aebcc69a2",
   "metadata": {},
   "outputs": [
    {
     "name": "stdout",
     "output_type": "stream",
     "text": [
      "h\n",
      "a\n",
      "r\n",
      "i\n",
      "b\n",
      "h\n",
      "u\n"
     ]
    }
   ],
   "source": [
    "a=\"haribhu\"\n",
    "for b in a:\n",
    "    print(b)"
   ]
  },
  {
   "cell_type": "code",
   "execution_count": 8,
   "id": "00ad20ca-f1da-4767-a144-d4dac62c5496",
   "metadata": {},
   "outputs": [
    {
     "name": "stdout",
     "output_type": "stream",
     "text": [
      "h\n",
      "a\n",
      "r\n",
      "i\n",
      "h\n",
      "u\n"
     ]
    }
   ],
   "source": [
    "a=\"haribhu\"\n",
    "for c in a:\n",
    "    if c=='b':\n",
    "        continue\n",
    "    print(c)"
   ]
  },
  {
   "cell_type": "code",
   "execution_count": 9,
   "id": "6fee8d55-09e3-4a1d-9606-c2199d142694",
   "metadata": {},
   "outputs": [
    {
     "name": "stdout",
     "output_type": "stream",
     "text": [
      "h\n",
      "a\n",
      "r\n",
      "i\n"
     ]
    }
   ],
   "source": [
    "a=\"haribhu\"\n",
    "for c in a:\n",
    "    if c=='b':\n",
    "        break\n",
    "    print(c)"
   ]
  },
  {
   "cell_type": "code",
   "execution_count": 11,
   "id": "df461ccc-7d7c-456f-ba38-8ed80c7bf028",
   "metadata": {},
   "outputs": [
    {
     "name": "stdout",
     "output_type": "stream",
     "text": [
      "0\n",
      "1\n",
      "2\n",
      "3\n",
      "4\n",
      "5\n"
     ]
    }
   ],
   "source": [
    "a=0\n",
    "while a<6:\n",
    "    print(a)\n",
    "    a+=1"
   ]
  },
  {
   "cell_type": "code",
   "execution_count": 12,
   "id": "b5ad1843-efb7-4977-8de0-00a69d269c6e",
   "metadata": {},
   "outputs": [
    {
     "name": "stdout",
     "output_type": "stream",
     "text": [
      "0\n",
      "1\n",
      "2\n",
      "3\n"
     ]
    }
   ],
   "source": [
    "a=0\n",
    "while a<6:\n",
    "    if a==4:\n",
    "        break\n",
    "    print(a)\n",
    "    a+=1"
   ]
  },
  {
   "cell_type": "code",
   "execution_count": 13,
   "id": "168dbc01-b00c-4c3f-a697-413d97347bce",
   "metadata": {},
   "outputs": [
    {
     "name": "stdout",
     "output_type": "stream",
     "text": [
      "0\n",
      "1\n",
      "2\n",
      "3\n",
      "4\n",
      "5\n",
      "6\n",
      "7\n",
      "8\n",
      "9\n"
     ]
    }
   ],
   "source": [
    "for a in range(10):#prints from 0-9\n",
    "    print(a)"
   ]
  },
  {
   "cell_type": "code",
   "execution_count": 14,
   "id": "17d37f8d-fa94-4ab8-a514-5ddbc6f527ee",
   "metadata": {},
   "outputs": [
    {
     "name": "stdout",
     "output_type": "stream",
     "text": [
      "(0, 'm')\n",
      "(1, 'u')\n",
      "(2, 'k')\n",
      "(3, 'i')\n",
      "(4, 'l')\n",
      "(5, 'a')\n",
      "(6, 'n')\n"
     ]
    }
   ],
   "source": [
    "m=\"mukilan\"\n",
    "for i in enumerate(m):#enumerate function and then in bracket the variable name\n",
    "    print(i)\n",
    "    #index is counted in the form of tuples."
   ]
  },
  {
   "cell_type": "code",
   "execution_count": 19,
   "id": "be71a1ab-7880-4fb3-bed8-a57fa9c16fc5",
   "metadata": {},
   "outputs": [
    {
     "name": "stdout",
     "output_type": "stream",
     "text": [
      "0\n",
      "m\n",
      "\n",
      "\n",
      "1\n",
      "u\n",
      "\n",
      "\n",
      "2\n",
      "k\n",
      "\n",
      "\n",
      "3\n",
      "i\n",
      "\n",
      "\n",
      "4\n",
      "l\n",
      "\n",
      "\n",
      "5\n",
      "a\n",
      "\n",
      "\n",
      "6\n",
      "n\n",
      "\n",
      "\n"
     ]
    }
   ],
   "source": [
    " m=\"mukilan\"\n",
    "for indexes,letters in enumerate(m):#unpacking the tuples and accessing the individual \n",
    "    print(indexes)\n",
    "    print(letters)\n",
    "    print(\"\\n\")"
   ]
  },
  {
   "cell_type": "code",
   "execution_count": 21,
   "id": "61406df4-3e68-478e-8dc2-087b6951c4db",
   "metadata": {},
   "outputs": [
    {
     "name": "stdout",
     "output_type": "stream",
     "text": [
      "(1, 'a')\n",
      "(2, 'b')\n",
      "(3, 'c')\n"
     ]
    }
   ],
   "source": [
    "list1=[1,2,3]\n",
    "list2=['a','b','c']\n",
    "for i in zip(list1,list2):#zip function is used to match the two lists elements.and also results in giving type of tuples as below.\n",
    "    print(i)"
   ]
  },
  {
   "cell_type": "code",
   "execution_count": 22,
   "id": "ff499c9f-cfec-485a-beca-9330cf3f194e",
   "metadata": {},
   "outputs": [
    {
     "name": "stdout",
     "output_type": "stream",
     "text": [
      "(1, 'a')\n",
      "(2, 'b')\n",
      "(3, 'c')\n"
     ]
    }
   ],
   "source": [
    "list1=[1,2,3,4,45]\n",
    "list2=['a','b','c']\n",
    "for i in zip(list1,list2):#matches only the amount of items to it.\n",
    "    print(i)"
   ]
  },
  {
   "cell_type": "code",
   "execution_count": 23,
   "id": "1fdeb5d7-875a-4ce6-be4d-8b3cc1f56930",
   "metadata": {},
   "outputs": [
    {
     "data": {
      "text/plain": [
       "[(12, 'a'), (34, 'b'), (45, 'c')]"
      ]
     },
     "execution_count": 23,
     "metadata": {},
     "output_type": "execute_result"
    }
   ],
   "source": [
    "a=[12,34,45]\n",
    "b=['a','b','c']\n",
    "list(zip(a,b))#casting two lists."
   ]
  },
  {
   "cell_type": "code",
   "execution_count": 24,
   "id": "ec260333-5121-494f-9263-027792754cb0",
   "metadata": {},
   "outputs": [
    {
     "data": {
      "text/plain": [
       "True"
      ]
     },
     "execution_count": 24,
     "metadata": {},
     "output_type": "execute_result"
    }
   ],
   "source": [
    "3 in [1,2,3,4]#in -used to check whetherit is present inside the list."
   ]
  },
  {
   "cell_type": "code",
   "execution_count": 25,
   "id": "773194de-74ae-453a-82af-50fff6e7c6f1",
   "metadata": {},
   "outputs": [
    {
     "data": {
      "text/plain": [
       "True"
      ]
     },
     "execution_count": 25,
     "metadata": {},
     "output_type": "execute_result"
    }
   ],
   "source": [
    "'a' in 'hari'"
   ]
  },
  {
   "cell_type": "code",
   "execution_count": 27,
   "id": "12c55fb5-4540-49d5-90bd-ad6b24ca721e",
   "metadata": {},
   "outputs": [
    {
     "data": {
      "text/plain": [
       "True"
      ]
     },
     "execution_count": 27,
     "metadata": {},
     "output_type": "execute_result"
    }
   ],
   "source": [
    "D={'KEY':45}\n",
    "45 in D.values()"
   ]
  },
  {
   "cell_type": "code",
   "execution_count": 28,
   "id": "53847cec-93e7-43c6-b952-699140cfdf87",
   "metadata": {},
   "outputs": [
    {
     "data": {
      "text/plain": [
       "50"
      ]
     },
     "execution_count": 28,
     "metadata": {},
     "output_type": "execute_result"
    }
   ],
   "source": [
    "a=[30,40,50,0]\n",
    "max(a)"
   ]
  },
  {
   "cell_type": "code",
   "execution_count": 29,
   "id": "285010a1-2fd5-48f6-9bf2-88314d9bbc25",
   "metadata": {},
   "outputs": [
    {
     "data": {
      "text/plain": [
       "0"
      ]
     },
     "execution_count": 29,
     "metadata": {},
     "output_type": "execute_result"
    }
   ],
   "source": [
    "min(a)"
   ]
  },
  {
   "cell_type": "code",
   "execution_count": 31,
   "id": "04c2e984-f4af-46bf-b9c4-d2881b575f9e",
   "metadata": {},
   "outputs": [],
   "source": [
    "from random import shuffle\n",
    "a=[1,2,3,4,5,6]\n",
    "shuffle(a)"
   ]
  },
  {
   "cell_type": "code",
   "execution_count": 32,
   "id": "962073c1-5ff0-4b20-bc1f-53b83bea5967",
   "metadata": {},
   "outputs": [
    {
     "data": {
      "text/plain": [
       "[2, 3, 5, 6, 4, 1]"
      ]
     },
     "execution_count": 32,
     "metadata": {},
     "output_type": "execute_result"
    }
   ],
   "source": [
    "a"
   ]
  },
  {
   "cell_type": "code",
   "execution_count": 34,
   "id": "f56a423c-1d1c-4aee-91fb-fca82d7661e8",
   "metadata": {},
   "outputs": [],
   "source": [
    "from random import shuffle\n",
    "a=[1,2,3,4,5,6]\n",
    "shuffle(a)"
   ]
  },
  {
   "cell_type": "code",
   "execution_count": 35,
   "id": "fd114bf8-627e-417b-bd4d-00cbd574f470",
   "metadata": {},
   "outputs": [
    {
     "name": "stdout",
     "output_type": "stream",
     "text": [
      "[2, 6, 3, 1, 5, 4]\n"
     ]
    }
   ],
   "source": [
    "print(a)"
   ]
  },
  {
   "cell_type": "code",
   "execution_count": 39,
   "id": "01d9997c-0323-498c-85be-00e26dfefef1",
   "metadata": {},
   "outputs": [
    {
     "data": {
      "text/plain": [
       "58"
      ]
     },
     "execution_count": 39,
     "metadata": {},
     "output_type": "execute_result"
    }
   ],
   "source": [
    " from random import randint\n",
    "randint(0,100)"
   ]
  },
  {
   "cell_type": "code",
   "execution_count": 42,
   "id": "697bca2b-817f-4be8-abe9-6df2e82e2071",
   "metadata": {},
   "outputs": [
    {
     "name": "stdout",
     "output_type": "stream",
     "text": [
      "['h', 'a', 'r', 'i', 'm', 'u', 'k', 'i', 'l']\n"
     ]
    }
   ],
   "source": [
    "listcomp=[a for a in \"harimukil\"]#list comprehension\n",
    "print(listcomp)"
   ]
  },
  {
   "cell_type": "code",
   "execution_count": 44,
   "id": "55ea00a6-22f7-4e00-9c7b-f6a4e550f992",
   "metadata": {},
   "outputs": [
    {
     "name": "stdout",
     "output_type": "stream",
     "text": [
      "[0, 1, 2, 3, 4, 5, 6, 7, 8, 9]\n"
     ]
    }
   ],
   "source": [
    "listcomp=[ b for b in range(0,10)]\n",
    "print(listcomp)"
   ]
  },
  {
   "cell_type": "code",
   "execution_count": 45,
   "id": "928809db-7d14-49d0-9e0d-fe5ae9c52857",
   "metadata": {},
   "outputs": [
    {
     "name": "stdout",
     "output_type": "stream",
     "text": [
      "[0, 1, 8, 27, 64, 125, 216, 343, 512, 729]\n"
     ]
    }
   ],
   "source": [
    "listcomp=[ b**3 for b in range(0,10)]#cubing of numbers.\n",
    "print(listcomp)"
   ]
  },
  {
   "cell_type": "code",
   "execution_count": 47,
   "id": "c416eac3-4fc6-4d61-b8aa-c919a175e8ae",
   "metadata": {},
   "outputs": [
    {
     "name": "stdout",
     "output_type": "stream",
     "text": [
      "[0, 2, 4, 6, 8, 10]\n"
     ]
    }
   ],
   "source": [
    "mukil=[y for y in range(0,11) if y%2==0]#printing even numbers\n",
    "print(mukil)"
   ]
  },
  {
   "cell_type": "code",
   "execution_count": 48,
   "id": "b99a9a95-fe09-4b02-a05f-23650ba5e14e",
   "metadata": {},
   "outputs": [
    {
     "name": "stdout",
     "output_type": "stream",
     "text": [
      "[0, 4, 16, 36, 64, 100]\n"
     ]
    }
   ],
   "source": [
    "#if we need a square of even numbers.\n",
    "mukil=[y**2 for y in range(0,11) if y%2==0]#printing sq even numbers\n",
    "print(mukil)"
   ]
  },
  {
   "cell_type": "code",
   "execution_count": 56,
   "id": "3f2f9372-61b5-4ea5-9e6f-d5002862ac74",
   "metadata": {},
   "outputs": [
    {
     "name": "stdout",
     "output_type": "stream",
     "text": [
      "[32.0, 86.0, 73.4, 71.6]\n"
     ]
    }
   ],
   "source": [
    "celcius=[0,30,23,22]#see clearly\n",
    "fahrenheit=[((9/5)*temp+32) for temp in celcius]\n",
    "print(fahrenheit)"
   ]
  },
  {
   "cell_type": "code",
   "execution_count": 62,
   "id": "b7e5af78-5ebb-4024-b9fe-dd34881905e5",
   "metadata": {},
   "outputs": [],
   "source": [
    "celcius=[0,30,23,22]#traditional\n",
    "fahrenheit=[]\n",
    "for temp in celcius:\n",
    "    fahrenheit.append((9/5)*temp+32)"
   ]
  },
  {
   "cell_type": "code",
   "execution_count": 63,
   "id": "285e010a-20cc-4d07-9987-187addd065d8",
   "metadata": {},
   "outputs": [
    {
     "data": {
      "text/plain": [
       "[32.0, 86.0, 73.4, 71.6]"
      ]
     },
     "execution_count": 63,
     "metadata": {},
     "output_type": "execute_result"
    }
   ],
   "source": [
    "fahrenheit"
   ]
  },
  {
   "cell_type": "code",
   "execution_count": 64,
   "id": "a57dfc9e-b325-49ec-b4ce-6ffef907ec92",
   "metadata": {},
   "outputs": [],
   "source": [
    "result=[x if x%2==0 else 'odd'for x in range(0,20)]#if statement in list comprehension"
   ]
  },
  {
   "cell_type": "code",
   "execution_count": 65,
   "id": "dd92cdc4-32f9-40da-ba42-2502cba549d3",
   "metadata": {},
   "outputs": [
    {
     "name": "stdout",
     "output_type": "stream",
     "text": [
      "[0, 'odd', 2, 'odd', 4, 'odd', 6, 'odd', 8, 'odd', 10, 'odd', 12, 'odd', 14, 'odd', 16, 'odd', 18, 'odd']\n"
     ]
    }
   ],
   "source": [
    "print(result)"
   ]
  },
  {
   "cell_type": "code",
   "execution_count": 70,
   "id": "c884291d-70cf-43fd-aeeb-089418b5b03a",
   "metadata": {},
   "outputs": [],
   "source": [
    "list=[]\n",
    "for x in [0,10]:#traditional--follow\n",
    "    for y in [1,9]:\n",
    "        list.append(x*y)\n",
    "        "
   ]
  },
  {
   "cell_type": "code",
   "execution_count": 71,
   "id": "15bd466a-b79b-4c2e-bdc9-c267b1c51cf1",
   "metadata": {},
   "outputs": [
    {
     "name": "stdout",
     "output_type": "stream",
     "text": [
      "[0, 0, 10, 90]\n"
     ]
    }
   ],
   "source": [
    "print(list)"
   ]
  },
  {
   "cell_type": "code",
   "execution_count": 72,
   "id": "4061bd31-a164-4789-8cef-1b2c8b634651",
   "metadata": {},
   "outputs": [],
   "source": [
    "mylist=[x*y for x in [0,10] for y in [1,9]]#advanced way."
   ]
  },
  {
   "cell_type": "code",
   "execution_count": 73,
   "id": "a6bb7647-0a09-413c-b170-cae9639460a4",
   "metadata": {},
   "outputs": [
    {
     "data": {
      "text/plain": [
       "[0, 0, 10, 90]"
      ]
     },
     "execution_count": 73,
     "metadata": {},
     "output_type": "execute_result"
    }
   ],
   "source": [
    "mylist"
   ]
  },
  {
   "cell_type": "code",
   "execution_count": 74,
   "id": "f9dfc332-1abf-4635-8484-f1beb89e1d57",
   "metadata": {},
   "outputs": [
    {
     "data": {
      "text/plain": [
       "8"
      ]
     },
     "execution_count": 74,
     "metadata": {},
     "output_type": "execute_result"
    }
   ],
   "source": [
    "def adding(a,b):\n",
    "    return a+b\n",
    "adding(6,2)\n",
    "    "
   ]
  },
  {
   "cell_type": "code",
   "execution_count": 76,
   "id": "7ff06b67-b490-4084-8994-1ab0c8d622f7",
   "metadata": {},
   "outputs": [
    {
     "ename": "TypeError",
     "evalue": "add() missing 1 required positional argument: 'name'",
     "output_type": "error",
     "traceback": [
      "\u001b[1;31m---------------------------------------------------------------------------\u001b[0m",
      "\u001b[1;31mTypeError\u001b[0m                                 Traceback (most recent call last)",
      "Cell \u001b[1;32mIn[76], line 3\u001b[0m\n\u001b[0;32m      1\u001b[0m \u001b[38;5;28;01mdef\u001b[39;00m \u001b[38;5;21madd\u001b[39m(name):\n\u001b[0;32m      2\u001b[0m     \u001b[38;5;28mprint\u001b[39m(\u001b[38;5;124mf\u001b[39m\u001b[38;5;124m'\u001b[39m\u001b[38;5;124mmy names is \u001b[39m\u001b[38;5;132;01m{\u001b[39;00mname\u001b[38;5;132;01m}\u001b[39;00m\u001b[38;5;124m'\u001b[39m)\n\u001b[1;32m----> 3\u001b[0m add()\n",
      "\u001b[1;31mTypeError\u001b[0m: add() missing 1 required positional argument: 'name'"
     ]
    }
   ],
   "source": [
    "def add(name):\n",
    "    print(f'my names is {name}')\n",
    "add()"
   ]
  },
  {
   "cell_type": "code",
   "execution_count": 80,
   "id": "a690d637-6251-4a25-a6ac-f460ef655f3b",
   "metadata": {},
   "outputs": [
    {
     "name": "stdout",
     "output_type": "stream",
     "text": [
      "my name is default\n"
     ]
    }
   ],
   "source": [
    "def add(name=\"default\"):\n",
    "    print('my name is',name)\n",
    "add()\n",
    "    "
   ]
  },
  {
   "cell_type": "code",
   "execution_count": 82,
   "id": "4bfef3d8-81cb-45cf-9d9d-d6639d327257",
   "metadata": {},
   "outputs": [],
   "source": [
    "def adding(a,b):\n",
    "    print(a+b)\n",
    "def returning(a,b):\n",
    "    return a+b\n",
    "    "
   ]
  },
  {
   "cell_type": "code",
   "execution_count": 91,
   "id": "e69f95c7-08cb-4189-b2ff-1af3efeea011",
   "metadata": {},
   "outputs": [
    {
     "name": "stdout",
     "output_type": "stream",
     "text": [
      "30\n"
     ]
    }
   ],
   "source": [
    "adding(10,20)"
   ]
  },
  {
   "cell_type": "code",
   "execution_count": 88,
   "id": "76fb7dd5-28bb-407d-9807-9a3af4bedec3",
   "metadata": {},
   "outputs": [],
   "source": [
    "c=returning(10,20)#stores data in varaible.\n"
   ]
  },
  {
   "cell_type": "code",
   "execution_count": 89,
   "id": "03350b0d-8fbe-4b3e-8dbe-8dccbaf3263f",
   "metadata": {},
   "outputs": [
    {
     "data": {
      "text/plain": [
       "30"
      ]
     },
     "execution_count": 89,
     "metadata": {},
     "output_type": "execute_result"
    }
   ],
   "source": [
    "c"
   ]
  },
  {
   "cell_type": "code",
   "execution_count": 97,
   "id": "2daf5318-21e0-4448-a3b0-7149ca2aa72b",
   "metadata": {},
   "outputs": [],
   "source": [
    "def check(num):\n",
    "    result=num%2==0\n",
    "    return result"
   ]
  },
  {
   "cell_type": "code",
   "execution_count": 98,
   "id": "cda5125c-559e-4f0c-996f-4196453685ac",
   "metadata": {},
   "outputs": [
    {
     "data": {
      "text/plain": [
       "True"
      ]
     },
     "execution_count": 98,
     "metadata": {},
     "output_type": "execute_result"
    }
   ],
   "source": [
    "check(20)"
   ]
  },
  {
   "cell_type": "code",
   "execution_count": 99,
   "id": "5824b323-074a-439e-ad2e-df8b53780fba",
   "metadata": {},
   "outputs": [],
   "source": [
    "def check(num):\n",
    "    return num%2==0"
   ]
  },
  {
   "cell_type": "code",
   "execution_count": 100,
   "id": "bb42c085-31e3-4c4b-adef-0f7237ae3d14",
   "metadata": {},
   "outputs": [
    {
     "data": {
      "text/plain": [
       "True"
      ]
     },
     "execution_count": 100,
     "metadata": {},
     "output_type": "execute_result"
    }
   ],
   "source": [
    "check(24)"
   ]
  },
  {
   "cell_type": "code",
   "execution_count": 104,
   "id": "e3a188f6-13a5-4551-841b-23e11ea1119c",
   "metadata": {},
   "outputs": [],
   "source": [
    "#passinf lists in def function to check any of the number in the list is even.\n",
    "def find(number):\n",
    "    for num in number:\n",
    "        if num%2==0:\n",
    "            return True\n",
    "        else:\n",
    "            pass"
   ]
  },
  {
   "cell_type": "code",
   "execution_count": 107,
   "id": "3d4d48eb-7713-4cfa-b5ce-393b5918166a",
   "metadata": {},
   "outputs": [
    {
     "data": {
      "text/plain": [
       "True"
      ]
     },
     "execution_count": 107,
     "metadata": {},
     "output_type": "execute_result"
    }
   ],
   "source": [
    "find([3,40,33])"
   ]
  },
  {
   "cell_type": "code",
   "execution_count": 108,
   "id": "d623122b-f9ea-4af3-8d70-e92b0efe3938",
   "metadata": {},
   "outputs": [],
   "source": [
    "def find(number):\n",
    "    for num in number:\n",
    "        if num%2==0:\n",
    "            return True\n",
    "        else:\n",
    "            return False"
   ]
  },
  {
   "cell_type": "code",
   "execution_count": 109,
   "id": "ce13f446-511e-405e-a321-49ab49be8f57",
   "metadata": {},
   "outputs": [
    {
     "data": {
      "text/plain": [
       "True"
      ]
     },
     "execution_count": 109,
     "metadata": {},
     "output_type": "execute_result"
    }
   ],
   "source": [
    "find([40])"
   ]
  },
  {
   "cell_type": "code",
   "execution_count": 111,
   "id": "3dcde6fd-cee7-4318-854e-06474e22e1b6",
   "metadata": {},
   "outputs": [
    {
     "data": {
      "text/plain": [
       "False"
      ]
     },
     "execution_count": 111,
     "metadata": {},
     "output_type": "execute_result"
    }
   ],
   "source": [
    "find([35])"
   ]
  },
  {
   "cell_type": "code",
   "execution_count": 113,
   "id": "8067858d-fa2e-40d3-938c-586117853eb4",
   "metadata": {},
   "outputs": [
    {
     "data": {
      "text/plain": [
       "False"
      ]
     },
     "execution_count": 113,
     "metadata": {},
     "output_type": "execute_result"
    }
   ],
   "source": [
    "find([1,30,35])#here we come to know that return statement should not use in that location.it should be written outside as the intendation of for loop."
   ]
  },
  {
   "cell_type": "code",
   "execution_count": 114,
   "id": "69eff636-71c1-4968-93bd-9cfac8e6e339",
   "metadata": {},
   "outputs": [],
   "source": [
    "def find(number):\n",
    "    for num in number:\n",
    "        if num%2==0:\n",
    "            return True\n",
    "        else:\n",
    "            pass\n",
    "    return False"
   ]
  },
  {
   "cell_type": "code",
   "execution_count": 115,
   "id": "5cbdcb27-a85d-4e2c-bacc-9f240c67d07d",
   "metadata": {},
   "outputs": [
    {
     "data": {
      "text/plain": [
       "True"
      ]
     },
     "execution_count": 115,
     "metadata": {},
     "output_type": "execute_result"
    }
   ],
   "source": [
    "find([1,30,35])#here it is working correctly"
   ]
  },
  {
   "cell_type": "code",
   "execution_count": 131,
   "id": "332b3a6b-83a9-49b7-9f1b-c1fab442cf36",
   "metadata": {},
   "outputs": [],
   "source": [
    "def find(number):\n",
    "    aevennember=[]\n",
    "    for num in number:\n",
    "        if num%2==0:\n",
    "            aevennember.append(num)\n",
    "        else:\n",
    "            pass\n",
    "   # print(aevennember)-it is also used\n",
    "    return aevennember#return should be in for loop indendation only.after all conditions are met .return it\n",
    "    \n"
   ]
  },
  {
   "cell_type": "code",
   "execution_count": 132,
   "id": "643120c4-cf92-4d13-9279-3e74f385dbe5",
   "metadata": {},
   "outputs": [
    {
     "name": "stdout",
     "output_type": "stream",
     "text": [
      "[20, 42, 54]\n"
     ]
    }
   ],
   "source": [
    "find([20,13,23,42,54])"
   ]
  },
  {
   "cell_type": "code",
   "execution_count": 135,
   "id": "cdaa6f94-59d8-4620-a931-ef0700679c21",
   "metadata": {},
   "outputs": [],
   "source": [
    "hourswork=[('hari',600),('mukil',800),('anni',900)]\n"
   ]
  },
  {
   "cell_type": "code",
   "execution_count": 136,
   "id": "d3e4b5e5-292b-49bd-9cff-f7ab440b265e",
   "metadata": {},
   "outputs": [],
   "source": [
    "def checking(hourswork):####understand well\n",
    "    current_max=0\n",
    "    employee_of_month=''\n",
    "    for employee,hours in hourswork:\n",
    "        if hours>current_max:\n",
    "            current_max=hours\n",
    "            employee_of_month=employee\n",
    "        else:\n",
    "            pass\n",
    "    return(employee_of_month,current_max)"
   ]
  },
  {
   "cell_type": "code",
   "execution_count": 138,
   "id": "5fec6fdb-5d32-49f7-8399-59b2e92d941d",
   "metadata": {},
   "outputs": [
    {
     "data": {
      "text/plain": [
       "('anni', 900)"
      ]
     },
     "execution_count": 138,
     "metadata": {},
     "output_type": "execute_result"
    }
   ],
   "source": [
    "checking(hourswork)"
   ]
  },
  {
   "cell_type": "code",
   "execution_count": 139,
   "id": "9f5b3c71-de6b-4f8e-afe1-8ae51162991a",
   "metadata": {},
   "outputs": [],
   "source": [
    "result=checking(hourswork)"
   ]
  },
  {
   "cell_type": "code",
   "execution_count": 140,
   "id": "77261441-542f-4125-9148-aa25a5e0234a",
   "metadata": {},
   "outputs": [
    {
     "data": {
      "text/plain": [
       "('anni', 900)"
      ]
     },
     "execution_count": 140,
     "metadata": {},
     "output_type": "execute_result"
    }
   ],
   "source": [
    "result"
   ]
  },
  {
   "cell_type": "code",
   "execution_count": 141,
   "id": "7b13814d-566c-4908-8b5f-66877b6af7d0",
   "metadata": {},
   "outputs": [],
   "source": [
    "name,hours=checking(hourswork)#unpacking individual elements"
   ]
  },
  {
   "cell_type": "code",
   "execution_count": 142,
   "id": "9f669cd9-0578-44b4-962c-09d33c334c29",
   "metadata": {},
   "outputs": [
    {
     "data": {
      "text/plain": [
       "'anni'"
      ]
     },
     "execution_count": 142,
     "metadata": {},
     "output_type": "execute_result"
    }
   ],
   "source": [
    "name"
   ]
  },
  {
   "cell_type": "code",
   "execution_count": 143,
   "id": "655a2f1a-1f48-471f-8315-ff0353a609d7",
   "metadata": {},
   "outputs": [
    {
     "data": {
      "text/plain": [
       "900"
      ]
     },
     "execution_count": 143,
     "metadata": {},
     "output_type": "execute_result"
    }
   ],
   "source": [
    "hours"
   ]
  },
  {
   "cell_type": "code",
   "execution_count": null,
   "id": "326b8d3e-6f98-456d-81c2-ecbf7156208f",
   "metadata": {},
   "outputs": [],
   "source": [
    "def shuffle_list():\n",
    "    shuffle(shuffle_list)\n",
    "    return shuffle_list\n",
    "    "
   ]
  },
  {
   "cell_type": "code",
   "execution_count": 144,
   "id": "dd55161f-7b7c-496f-9bae-572183aab710",
   "metadata": {},
   "outputs": [],
   "source": [
    "list=[0,1,2,3,4,5,6]\n",
    "from random import shuffle\n",
    "shuffle(list)\n"
   ]
  },
  {
   "cell_type": "code",
   "execution_count": 145,
   "id": "754f1263-562a-4c04-ac09-5bc9ce4738c1",
   "metadata": {},
   "outputs": [
    {
     "data": {
      "text/plain": [
       "[3, 5, 4, 6, 1, 2, 0]"
      ]
     },
     "execution_count": 145,
     "metadata": {},
     "output_type": "execute_result"
    }
   ],
   "source": [
    "list"
   ]
  },
  {
   "cell_type": "code",
   "execution_count": 148,
   "id": "e2eb1685-5008-4a91-8656-827f658e4f73",
   "metadata": {},
   "outputs": [],
   "source": [
    "result=shuffle(list)\n",
    "    \n",
    "    "
   ]
  },
  {
   "cell_type": "code",
   "execution_count": 150,
   "id": "5feb8552-86f6-4cd8-b34a-4dc79e1b9ff0",
   "metadata": {},
   "outputs": [],
   "source": [
    "result"
   ]
  },
  {
   "cell_type": "code",
   "execution_count": 157,
   "id": "ca4f4b26-e0ee-4e98-abb1-fa774f1e7b6d",
   "metadata": {},
   "outputs": [],
   "source": [
    "def shuffle_list(mylist):\n",
    "    shuffle(mylist)\n",
    "    return mylist\n",
    "    "
   ]
  },
  {
   "cell_type": "code",
   "execution_count": 158,
   "id": "a76b2a12-b53d-4b33-88ff-c64505139898",
   "metadata": {},
   "outputs": [
    {
     "data": {
      "text/plain": [
       "[4, 0, 3, 2, 5, 1, 6]"
      ]
     },
     "execution_count": 158,
     "metadata": {},
     "output_type": "execute_result"
    }
   ],
   "source": [
    "shuffle_list(list)"
   ]
  },
  {
   "cell_type": "code",
   "execution_count": 5,
   "id": "584615b3-0214-43ef-8623-1f8d907d283a",
   "metadata": {},
   "outputs": [],
   "source": [
    "def muki(a,b,c,d,e):\n",
    "    return sum((a,b,c,d,e))*0.5\n",
    "    "
   ]
  },
  {
   "cell_type": "code",
   "execution_count": 6,
   "id": "8b52274e-8d83-4520-9b01-35793df224ab",
   "metadata": {},
   "outputs": [
    {
     "data": {
      "text/plain": [
       "7.5"
      ]
     },
     "execution_count": 6,
     "metadata": {},
     "output_type": "execute_result"
    }
   ],
   "source": [
    "muki(1,2,3,4,5)"
   ]
  },
  {
   "cell_type": "code",
   "execution_count": 7,
   "id": "1cdd71a0-5db0-4f92-a48e-0fe196be7ea9",
   "metadata": {},
   "outputs": [],
   "source": [
    "def muki(a,b,c,d,e,f,g,h)\n",
    "    return sum((a,b,c,d,e,f,g,h))*0.5\n",
    "    "
   ]
  },
  {
   "cell_type": "code",
   "execution_count": 9,
   "id": "ce853477-d53b-4a12-ac42-d93b32f6aed7",
   "metadata": {},
   "outputs": [
    {
     "ename": "TypeError",
     "evalue": "muki() takes 6 positional arguments but 8 were given",
     "output_type": "error",
     "traceback": [
      "\u001b[1;31m---------------------------------------------------------------------------\u001b[0m",
      "\u001b[1;31mTypeError\u001b[0m                                 Traceback (most recent call last)",
      "Cell \u001b[1;32mIn[9], line 1\u001b[0m\n\u001b[1;32m----> 1\u001b[0m muki(\u001b[38;5;241m1\u001b[39m,\u001b[38;5;241m2\u001b[39m,\u001b[38;5;241m3\u001b[39m,\u001b[38;5;241m4\u001b[39m,\u001b[38;5;241m4\u001b[39m,\u001b[38;5;241m5\u001b[39m,\u001b[38;5;241m6\u001b[39m,\u001b[38;5;241m7\u001b[39m)\n",
      "\u001b[1;31mTypeError\u001b[0m: muki() takes 6 positional arguments but 8 were given"
     ]
    }
   ],
   "source": [
    "muki(1,2,3,4,4,5,6,7)"
   ]
  },
  {
   "cell_type": "code",
   "execution_count": 10,
   "id": "b792f4ae-ed06-4676-a4ef-05d5db61a28a",
   "metadata": {},
   "outputs": [],
   "source": [
    "#more arguments cannot be passed on\n",
    "#here comes the use of *args-use of a arbitrary \n",
    "#star followed by variables\n",
    "def mukilan(*args):\n",
    "    print(args)"
   ]
  },
  {
   "cell_type": "code",
   "execution_count": 11,
   "id": "7504fd55-e4d6-485e-9aca-18b1dc48332d",
   "metadata": {},
   "outputs": [
    {
     "name": "stdout",
     "output_type": "stream",
     "text": [
      "(2, 3, 4, 5, 5, 7, 8, 8, 97, 6, 54, 32)\n"
     ]
    }
   ],
   "source": [
    "mukilan(2,3,4,5,5,7,8,8,97,6,54,32)#we get the results in tuples"
   ]
  },
  {
   "cell_type": "code",
   "execution_count": 12,
   "id": "826b3b4b-d861-4ae7-b61c-4c35119bafab",
   "metadata": {},
   "outputs": [],
   "source": [
    "def mukila(*vanakkam):#can use any variables.but to avoid confusion *args is used.\n",
    "    print(vanakkam)"
   ]
  },
  {
   "cell_type": "code",
   "execution_count": 13,
   "id": "e7978cd8-2ace-4150-bf6e-1edd7d5ac0b5",
   "metadata": {},
   "outputs": [
    {
     "name": "stdout",
     "output_type": "stream",
     "text": [
      "(2, 3, 4, 5, 5, 6, 67, 8, 7, 6, 5, 3, 5, 5, 6, 86, 43)\n"
     ]
    }
   ],
   "source": [
    "mukila(2,3,4,5,5,6,67,8,7,6,5,3,5,5,6,86,43)"
   ]
  },
  {
   "cell_type": "code",
   "execution_count": 14,
   "id": "7066e870-0dce-4a70-b163-48ff32dd6393",
   "metadata": {},
   "outputs": [],
   "source": [
    "def mukilan(*args):\n",
    "    return sum(args)*0.05"
   ]
  },
  {
   "cell_type": "code",
   "execution_count": 15,
   "id": "34c385a2-0991-4000-8892-aa2b0fcc5794",
   "metadata": {},
   "outputs": [
    {
     "data": {
      "text/plain": [
       "5.9"
      ]
     },
     "execution_count": 15,
     "metadata": {},
     "output_type": "execute_result"
    }
   ],
   "source": [
    "mukilan(2,4,6,8,98)"
   ]
  },
  {
   "cell_type": "code",
   "execution_count": 18,
   "id": "de7d1cc1-7368-4120-8236-3810caf56722",
   "metadata": {},
   "outputs": [],
   "source": [
    "def mukilan(*args):\n",
    "    for i in args:#remember for i in args.not function name\n",
    "        print(i)\n",
    "    "
   ]
  },
  {
   "cell_type": "code",
   "execution_count": 19,
   "id": "75af0a5f-82ad-43e2-beab-10debcbb3cb3",
   "metadata": {},
   "outputs": [
    {
     "name": "stdout",
     "output_type": "stream",
     "text": [
      "32\n",
      "43\n",
      "54\n",
      "65\n"
     ]
    }
   ],
   "source": [
    "mukilan(32,43,54,65)"
   ]
  },
  {
   "cell_type": "code",
   "execution_count": 20,
   "id": "0cc2c208-35e6-4f1f-9d2b-2c16948f8543",
   "metadata": {},
   "outputs": [],
   "source": [
    "###keyword arguments.\n",
    "#results or prints value in dictionaries.\n",
    "def hari(**kwargs):\n",
    "    print(kwargs)"
   ]
  },
  {
   "cell_type": "code",
   "execution_count": 22,
   "id": "5448aff3-7aaf-4fd2-a79e-1c02f7ecba31",
   "metadata": {},
   "outputs": [
    {
     "name": "stdout",
     "output_type": "stream",
     "text": [
      "{'a': '1', 'b': '2'}\n"
     ]
    }
   ],
   "source": [
    "hari(a='1',b='2')#shows results in dictionaries"
   ]
  },
  {
   "cell_type": "code",
   "execution_count": 24,
   "id": "861b3ee5-6469-4220-94e5-28edf433d772",
   "metadata": {},
   "outputs": [],
   "source": [
    "def hari(**kwargs):\n",
    "    print(kwargs)\n",
    "    if 'fruit' in kwargs:\n",
    "        print('fine')\n",
    "    else:\n",
    "        print('not fine')"
   ]
  },
  {
   "cell_type": "code",
   "execution_count": 25,
   "id": "0a406c64-f49d-46b2-8094-5272c84f34ad",
   "metadata": {},
   "outputs": [
    {
     "name": "stdout",
     "output_type": "stream",
     "text": [
      "{'fruit': 'apple', 'veg': 'potato', 'spinach': 'sss'}\n",
      "fine\n"
     ]
    }
   ],
   "source": [
    "hari(fruit='apple',veg='potato',spinach='sss')"
   ]
  },
  {
   "cell_type": "code",
   "execution_count": 27,
   "id": "78ba523b-cc3e-4b9d-a821-249de9dddc31",
   "metadata": {},
   "outputs": [],
   "source": [
    "#combined use of *args and **kwargs\n",
    "def mukilan(*args,**kwargs):\n",
    "    print(\"i would like {} }\".format(args[0],kwargs['food']))"
   ]
  },
  {
   "cell_type": "code",
   "execution_count": 28,
   "id": "9e524522-4abe-410c-b1cb-ebf04674b940",
   "metadata": {
    "scrolled": true
   },
   "outputs": [
    {
     "name": "stdout",
     "output_type": "stream",
     "text": [
      "helloall i need 1 brinjal\n"
     ]
    }
   ],
   "source": [
    "bals(1,2,3,food='brinjal',veg='cucum')#0th index..also the giving input should also be in first number in tuples for *args and key value pairs for kwargs. afterkwargs numbers are not allowed for args "
   ]
  },
  {
   "cell_type": "code",
   "execution_count": 30,
   "id": "845e2b72-74c5-4ef9-a42d-c88abb06ce15",
   "metadata": {},
   "outputs": [],
   "source": [
    "def mukilan(*args,**kwargs):\n",
    "    print(args)\n",
    "    print(kwargs)\n",
    "    print(\"i would like {} }\".format(args[1],kwargs['food']))"
   ]
  },
  {
   "cell_type": "code",
   "execution_count": 31,
   "id": "62442034-6723-45b3-9b3b-277c185a5026",
   "metadata": {},
   "outputs": [
    {
     "name": "stdout",
     "output_type": "stream",
     "text": [
      "helloall i need 1 brinjal\n"
     ]
    }
   ],
   "source": [
    "bals(1,2,3,food='brinjal',veg='cucum')"
   ]
  },
  {
   "cell_type": "code",
   "execution_count": 1,
   "id": "a73db557-df9d-4630-807d-15e8cd67880b",
   "metadata": {},
   "outputs": [],
   "source": [
    "def squared(num):\n",
    "    return num**2\n",
    "    "
   ]
  },
  {
   "cell_type": "code",
   "execution_count": 2,
   "id": "af838d8a-fdb3-4cc4-83cc-b17d7504f6be",
   "metadata": {},
   "outputs": [],
   "source": [
    "mynum=[1,2,3,4]"
   ]
  },
  {
   "cell_type": "code",
   "execution_count": 3,
   "id": "f348abe5-0991-4036-8f21-d5e7cacede49",
   "metadata": {},
   "outputs": [
    {
     "data": {
      "text/plain": [
       "<map at 0x1f8269ef9a0>"
      ]
     },
     "execution_count": 3,
     "metadata": {},
     "output_type": "execute_result"
    }
   ],
   "source": [
    "map(squared,mynum)"
   ]
  },
  {
   "cell_type": "code",
   "execution_count": 4,
   "id": "543d17fc",
   "metadata": {},
   "outputs": [
    {
     "data": {
      "text/plain": [
       "[1, 4, 9, 16]"
      ]
     },
     "execution_count": 4,
     "metadata": {},
     "output_type": "execute_result"
    }
   ],
   "source": [
    "list(map(squared,mynum))"
   ]
  },
  {
   "cell_type": "code",
   "execution_count": 10,
   "id": "7b13a9c2-33c0-4ceb-9746-e19f4a1a472b",
   "metadata": {},
   "outputs": [],
   "source": [
    "def harimukil(num):\n",
    "    return num**2"
   ]
  },
  {
   "cell_type": "code",
   "execution_count": 11,
   "id": "79c92a60-eca7-436a-92fc-d87011c1ab50",
   "metadata": {},
   "outputs": [],
   "source": [
    "lis=[1,2,3]"
   ]
  },
  {
   "cell_type": "code",
   "execution_count": 14,
   "id": "f62b61b1-60e7-4501-be13-58e9f5875719",
   "metadata": {},
   "outputs": [
    {
     "data": {
      "text/plain": [
       "[1, 4, 9]"
      ]
     },
     "execution_count": 14,
     "metadata": {},
     "output_type": "execute_result"
    }
   ],
   "source": [
    "list(map(harimukil,lis))"
   ]
  },
  {
   "cell_type": "code",
   "execution_count": 15,
   "id": "aa70e2f2-a988-40b3-8527-98ba578945c2",
   "metadata": {},
   "outputs": [
    {
     "name": "stdout",
     "output_type": "stream",
     "text": [
      "1\n",
      "4\n",
      "9\n"
     ]
    }
   ],
   "source": [
    "for items in list(map(harimukil,lis)):\n",
    "    print(items)"
   ]
  },
  {
   "cell_type": "code",
   "execution_count": 24,
   "id": "6727e0a5-4a7b-47b5-8432-71704dce4bed",
   "metadata": {},
   "outputs": [],
   "source": [
    "def splicer(mystring):\n",
    "    if len(mystring)%2==0:\n",
    "        print('yeah its ok')\n",
    "    else:\n",
    "        print(mystring[0])"
   ]
  },
  {
   "cell_type": "code",
   "execution_count": 25,
   "id": "e77d0f7a-1ec4-4a83-9c5e-729c808fffc8",
   "metadata": {},
   "outputs": [],
   "source": [
    "astring=['apple','or','orange']"
   ]
  },
  {
   "cell_type": "code",
   "execution_count": 26,
   "id": "aeb0f69c-4245-4398-94cc-58f20a851c2f",
   "metadata": {},
   "outputs": [
    {
     "data": {
      "text/plain": [
       "<map at 0x2681a27c940>"
      ]
     },
     "execution_count": 26,
     "metadata": {},
     "output_type": "execute_result"
    }
   ],
   "source": [
    "map(splicer,astring)"
   ]
  },
  {
   "cell_type": "code",
   "execution_count": 27,
   "id": "f4c75959-1c1b-4e93-a844-d4b924737f4f",
   "metadata": {},
   "outputs": [
    {
     "name": "stdout",
     "output_type": "stream",
     "text": [
      "a\n",
      "yeah its ok\n",
      "yeah its ok\n"
     ]
    },
    {
     "data": {
      "text/plain": [
       "[None, None, None]"
      ]
     },
     "execution_count": 27,
     "metadata": {},
     "output_type": "execute_result"
    }
   ],
   "source": [
    "list(map(splicer,astring))"
   ]
  },
  {
   "cell_type": "code",
   "execution_count": 29,
   "id": "daa0c8cf-5fd1-4653-a453-e2e269ef0736",
   "metadata": {},
   "outputs": [],
   "source": [
    "def checkeven(numb):\n",
    "    if numb%2==0:\n",
    "        return numb"
   ]
  },
  {
   "cell_type": "code",
   "execution_count": 30,
   "id": "04b03910-f8ac-4d17-9ea6-800234d97841",
   "metadata": {},
   "outputs": [],
   "source": [
    "number=[44,57,98]"
   ]
  },
  {
   "cell_type": "code",
   "execution_count": 31,
   "id": "479a85f7-2ed0-469f-bff4-61fee8d0297a",
   "metadata": {},
   "outputs": [
    {
     "data": {
      "text/plain": [
       "<filter at 0x2681a27ceb0>"
      ]
     },
     "execution_count": 31,
     "metadata": {},
     "output_type": "execute_result"
    }
   ],
   "source": [
    "filter(checkeven,number)"
   ]
  },
  {
   "cell_type": "code",
   "execution_count": 32,
   "id": "a4f5a052-e027-49ec-b38c-a0153a30592d",
   "metadata": {},
   "outputs": [
    {
     "data": {
      "text/plain": [
       "[44, 98]"
      ]
     },
     "execution_count": 32,
     "metadata": {},
     "output_type": "execute_result"
    }
   ],
   "source": [
    "list(filter(checkeven,number))"
   ]
  },
  {
   "cell_type": "code",
   "execution_count": 34,
   "id": "d6a0228b-5519-41d5-9df5-2c92ad0c2821",
   "metadata": {},
   "outputs": [],
   "source": [
    "def checkeven(numb):\n",
    "    if numb%2==0:\n",
    "        print(numb)"
   ]
  },
  {
   "cell_type": "code",
   "execution_count": 35,
   "id": "1ae5bc25-a5ab-46c1-974e-391ce4b1a446",
   "metadata": {},
   "outputs": [],
   "source": [
    "number=[44,57,98]"
   ]
  },
  {
   "cell_type": "code",
   "execution_count": 36,
   "id": "cbfdbb1b-920d-42d8-9cf1-584d28aa5d6c",
   "metadata": {},
   "outputs": [
    {
     "name": "stdout",
     "output_type": "stream",
     "text": [
      "44\n",
      "98\n"
     ]
    },
    {
     "data": {
      "text/plain": [
       "[]"
      ]
     },
     "execution_count": 36,
     "metadata": {},
     "output_type": "execute_result"
    }
   ],
   "source": [
    "list(filter(checkeven,number))"
   ]
  },
  {
   "cell_type": "code",
   "execution_count": 43,
   "id": "20362714-fe94-4e0d-9204-98d5731f04b3",
   "metadata": {},
   "outputs": [],
   "source": [
    "a=lambda num : num**2#lambda "
   ]
  },
  {
   "cell_type": "code",
   "execution_count": 44,
   "id": "c9ce3172-e3a2-4540-a597-8ada57f897cf",
   "metadata": {},
   "outputs": [
    {
     "data": {
      "text/plain": [
       "16"
      ]
     },
     "execution_count": 44,
     "metadata": {},
     "output_type": "execute_result"
    }
   ],
   "source": [
    "a(4)"
   ]
  },
  {
   "cell_type": "code",
   "execution_count": 47,
   "id": "c948df26-05c0-4a85-9143-5dbb53079afd",
   "metadata": {},
   "outputs": [],
   "source": [
    "#if needed to map means\n",
    "numbers=[23,45,3,2]"
   ]
  },
  {
   "cell_type": "code",
   "execution_count": 49,
   "id": "11c1153f-e728-4e9e-9ec0-fbf3b9b8f8d0",
   "metadata": {},
   "outputs": [
    {
     "data": {
      "text/plain": [
       "[529, 2025, 9, 4]"
      ]
     },
     "execution_count": 49,
     "metadata": {},
     "output_type": "execute_result"
    }
   ],
   "source": [
    "list(map(lambda num : num**2,numbers))"
   ]
  },
  {
   "cell_type": "code",
   "execution_count": 129,
   "id": "78861015-ff65-45e1-988a-f27f345e64b6",
   "metadata": {},
   "outputs": [],
   "source": [
    "class circle():\n",
    "    def __init__(self,r):\n",
    "        self.r=r\n",
    "        self.area=r*r\n",
    "    # def area(self):\n",
    "    #     print(self.r*self.r)\n",
    "    \n",
    "\n"
   ]
  },
  {
   "cell_type": "code",
   "execution_count": 130,
   "id": "6e4cf12b-65f0-4d8f-9760-3aa648c43a37",
   "metadata": {},
   "outputs": [],
   "source": [
    "obj=circle(6)"
   ]
  },
  {
   "cell_type": "code",
   "execution_count": 131,
   "id": "74f9d230-e13a-43ca-85b6-afc2ee2cbccd",
   "metadata": {},
   "outputs": [
    {
     "data": {
      "text/plain": [
       "36"
      ]
     },
     "execution_count": 131,
     "metadata": {},
     "output_type": "execute_result"
    }
   ],
   "source": [
    "obj.area"
   ]
  },
  {
   "cell_type": "code",
   "execution_count": 135,
   "id": "39bcb5cb-b7e7-4100-add1-86a5cc93a4d7",
   "metadata": {},
   "outputs": [
    {
     "name": "stdout",
     "output_type": "stream",
     "text": [
      "alll are good\n"
     ]
    }
   ],
   "source": [
    "try:\n",
    "    f=open(\"mu.txt\",\"r+\")\n",
    "    f.write(\"hi hello\")\n",
    "    f.close()\n",
    "except:\n",
    "    print('exception is there')\n",
    "finally:\n",
    "    print('alll are good')\n",
    "    \n",
    "    "
   ]
  },
  {
   "cell_type": "code",
   "execution_count": 136,
   "id": "63ad228b-7974-4434-a8cd-9fd92d8269f4",
   "metadata": {},
   "outputs": [],
   "source": [
    "def fun():\n",
    "    return \"hi\"\n",
    "    "
   ]
  },
  {
   "cell_type": "code",
   "execution_count": 137,
   "id": "bbe7d45d-b0ce-4ad2-833b-72612c2b029f",
   "metadata": {},
   "outputs": [
    {
     "data": {
      "text/plain": [
       "'hi'"
      ]
     },
     "execution_count": 137,
     "metadata": {},
     "output_type": "execute_result"
    }
   ],
   "source": [
    "fun()\n"
   ]
  },
  {
   "cell_type": "code",
   "execution_count": 141,
   "id": "e392e703-86fb-4021-a202-3a4ea6f5126e",
   "metadata": {},
   "outputs": [],
   "source": [
    "greet=fun"
   ]
  },
  {
   "cell_type": "code",
   "execution_count": 142,
   "id": "b351ffdd-c6d8-4d62-a8d6-756abc7bfc8b",
   "metadata": {},
   "outputs": [
    {
     "data": {
      "text/plain": [
       "'hi'"
      ]
     },
     "execution_count": 142,
     "metadata": {},
     "output_type": "execute_result"
    }
   ],
   "source": [
    "greet()"
   ]
  },
  {
   "cell_type": "code",
   "execution_count": 143,
   "id": "816184fa-822c-451a-891b-138eab4dcba2",
   "metadata": {},
   "outputs": [],
   "source": [
    "del fun"
   ]
  },
  {
   "cell_type": "code",
   "execution_count": 144,
   "id": "9abeb166-27cb-4bd2-817f-4c923f33248c",
   "metadata": {},
   "outputs": [
    {
     "ename": "NameError",
     "evalue": "name 'fun' is not defined",
     "output_type": "error",
     "traceback": [
      "\u001b[1;31m---------------------------------------------------------------------------\u001b[0m",
      "\u001b[1;31mNameError\u001b[0m                                 Traceback (most recent call last)",
      "Cell \u001b[1;32mIn[144], line 1\u001b[0m\n\u001b[1;32m----> 1\u001b[0m fun()\n",
      "\u001b[1;31mNameError\u001b[0m: name 'fun' is not defined"
     ]
    }
   ],
   "source": [
    "fun()"
   ]
  },
  {
   "cell_type": "code",
   "execution_count": 145,
   "id": "aa5113b5-07f0-403d-b8e7-7742b0d31417",
   "metadata": {},
   "outputs": [
    {
     "data": {
      "text/plain": [
       "'hi'"
      ]
     },
     "execution_count": 145,
     "metadata": {},
     "output_type": "execute_result"
    }
   ],
   "source": [
    "greet()"
   ]
  },
  {
   "cell_type": "code",
   "execution_count": 149,
   "id": "e8f2dbd5-0521-4a25-b9ff-6529c5ad3e97",
   "metadata": {},
   "outputs": [],
   "source": [
    "def hello(name='Jose'):\n",
    "    print('The hello() function has been executed')\n",
    "    \n",
    "    def great():\n",
    "        return '\\t This is inside the greet() function'\n",
    "    def welcome():\n",
    "        return \"\\t This is inside the welcome() function\"\n",
    "    \n",
    "    print(great())\n",
    "    print(welcome())\n",
    "    print(\"Now we are back inside the hello() function\")"
   ]
  },
  {
   "cell_type": "code",
   "execution_count": 150,
   "id": "967b259a-bdfc-4c39-8040-1a5c70f8a41b",
   "metadata": {},
   "outputs": [
    {
     "name": "stdout",
     "output_type": "stream",
     "text": [
      "The hello() function has been executed\n",
      "\t This is inside the greet() function\n",
      "\t This is inside the welcome() function\n",
      "Now we are back inside the hello() function\n"
     ]
    }
   ],
   "source": [
    "hello()"
   ]
  },
  {
   "cell_type": "code",
   "execution_count": 151,
   "id": "d51dfc23-733b-48e4-a0c0-b95bd9920ab3",
   "metadata": {},
   "outputs": [
    {
     "ename": "NameError",
     "evalue": "name 'welcome' is not defined",
     "output_type": "error",
     "traceback": [
      "\u001b[1;31m---------------------------------------------------------------------------\u001b[0m",
      "\u001b[1;31mNameError\u001b[0m                                 Traceback (most recent call last)",
      "Cell \u001b[1;32mIn[151], line 1\u001b[0m\n\u001b[1;32m----> 1\u001b[0m welcome()\n",
      "\u001b[1;31mNameError\u001b[0m: name 'welcome' is not defined"
     ]
    }
   ],
   "source": [
    "welcome()"
   ]
  },
  {
   "cell_type": "code",
   "execution_count": 153,
   "id": "b42d91f6-29e7-46ed-839b-1b70d2edcf2d",
   "metadata": {},
   "outputs": [],
   "source": [
    "def hello(name='Jose'):\n",
    "    print('The hello() function has been executed')\n",
    "    \n",
    "    def great():\n",
    "        return '\\t This is inside the greet() function'\n",
    "    def welcome():\n",
    "        return \"\\t This is inside the welcome() function\"\n",
    "    if name=='Jose':\n",
    "        print(great())\n",
    "    else:\n",
    "        print(welcome())"
   ]
  },
  {
   "cell_type": "code",
   "execution_count": 154,
   "id": "6c4d77d0-2fa1-4370-913f-606b8a558dc3",
   "metadata": {},
   "outputs": [
    {
     "name": "stdout",
     "output_type": "stream",
     "text": [
      "The hello() function has been executed\n",
      "\t This is inside the greet() function\n"
     ]
    }
   ],
   "source": [
    "hello()"
   ]
  },
  {
   "cell_type": "code",
   "execution_count": 155,
   "id": "d62ce7c4-48d2-4d6c-a445-8c350df2546f",
   "metadata": {},
   "outputs": [
    {
     "name": "stdout",
     "output_type": "stream",
     "text": [
      "The hello() function has been executed\n",
      "\t This is inside the welcome() function\n"
     ]
    }
   ],
   "source": [
    "hello('hari')"
   ]
  },
  {
   "cell_type": "code",
   "execution_count": 156,
   "id": "ab154fcf-a846-43d1-9b44-4ba401c71dc3",
   "metadata": {},
   "outputs": [],
   "source": [
    "def hello():\n",
    "    return 'Hi Jose!'\n",
    "\n",
    "def other(func):#other to hello.not hello to other\n",
    "    print('Other code would go here')\n",
    "    print(func())"
   ]
  },
  {
   "cell_type": "code",
   "execution_count": 157,
   "id": "5cf6c471-9586-4b84-9b37-001fe79e8c79",
   "metadata": {},
   "outputs": [
    {
     "name": "stdout",
     "output_type": "stream",
     "text": [
      "Other code would go here\n",
      "Hi Jose!\n"
     ]
    }
   ],
   "source": [
    "other(hello)"
   ]
  },
  {
   "cell_type": "code",
   "execution_count": 158,
   "id": "90fa97b8-bc5c-4365-af65-60ca7655770b",
   "metadata": {},
   "outputs": [
    {
     "ename": "TypeError",
     "evalue": "hello() takes 0 positional arguments but 1 was given",
     "output_type": "error",
     "traceback": [
      "\u001b[1;31m---------------------------------------------------------------------------\u001b[0m",
      "\u001b[1;31mTypeError\u001b[0m                                 Traceback (most recent call last)",
      "Cell \u001b[1;32mIn[158], line 1\u001b[0m\n\u001b[1;32m----> 1\u001b[0m hello(other)\n",
      "\u001b[1;31mTypeError\u001b[0m: hello() takes 0 positional arguments but 1 was given"
     ]
    }
   ],
   "source": [
    "hello(other)"
   ]
  },
  {
   "cell_type": "code",
   "execution_count": 159,
   "id": "be888c7a-d416-40d0-8968-bc9572d0dd40",
   "metadata": {},
   "outputs": [
    {
     "name": "stdout",
     "output_type": "stream",
     "text": [
      "magic show is bore\n",
      "welcome to kirikalan\n"
     ]
    }
   ],
   "source": [
    "def adding(func):###decorators.\n",
    "    def laks():\n",
    "        print('magic show is bore')\n",
    "        func()#calling original function is must\n",
    "    return laks#return should be in def position\n",
    "@adding#keyword putting on top of function\n",
    "def newone():\n",
    "    print(\"welcome to kirikalan\")\n",
    "#newone=adding(newone) \n",
    "newone()"
   ]
  },
  {
   "cell_type": "code",
   "execution_count": 160,
   "id": "bd32780e-5b82-4375-86ed-fefa63e771e5",
   "metadata": {},
   "outputs": [],
   "source": [
    "list=[1,2,3,4,5,6]\n",
    "list=iter(list)#iterating"
   ]
  },
  {
   "cell_type": "code",
   "execution_count": 161,
   "id": "2f0b5f70-0e83-479e-9b2a-0a339ee4b493",
   "metadata": {},
   "outputs": [
    {
     "data": {
      "text/plain": [
       "1"
      ]
     },
     "execution_count": 161,
     "metadata": {},
     "output_type": "execute_result"
    }
   ],
   "source": [
    "next(list)"
   ]
  },
  {
   "cell_type": "code",
   "execution_count": 162,
   "id": "bf729d67-4ee6-45b0-af91-4851152431dc",
   "metadata": {},
   "outputs": [
    {
     "data": {
      "text/plain": [
       "2"
      ]
     },
     "execution_count": 162,
     "metadata": {},
     "output_type": "execute_result"
    }
   ],
   "source": [
    "next(list)\n"
   ]
  },
  {
   "cell_type": "code",
   "execution_count": 163,
   "id": "2fabc175-22e3-418a-847e-0bdd8a6da75e",
   "metadata": {},
   "outputs": [
    {
     "name": "stdout",
     "output_type": "stream",
     "text": [
      "3\n"
     ]
    }
   ],
   "source": [
    "print(list.__next__())#way of iterating"
   ]
  },
  {
   "cell_type": "code",
   "execution_count": 172,
   "id": "04053634-966d-4354-869e-2953c0a99f8d",
   "metadata": {},
   "outputs": [],
   "source": [
    "def cube(n):\n",
    "    a=[]\n",
    "    for x in range(n):\n",
    "        a.append(x**3)\n",
    "    return a\n",
    "    \n",
    "    "
   ]
  },
  {
   "cell_type": "code",
   "execution_count": 173,
   "id": "e50e21a1-1330-49f3-a935-fa8655860f15",
   "metadata": {},
   "outputs": [
    {
     "data": {
      "text/plain": [
       "[0, 1, 8, 27]"
      ]
     },
     "execution_count": 173,
     "metadata": {},
     "output_type": "execute_result"
    }
   ],
   "source": [
    "cube(4)"
   ]
  },
  {
   "cell_type": "code",
   "execution_count": 175,
   "id": "157adc52-f41e-4177-b3ca-d35f8fe1da73",
   "metadata": {},
   "outputs": [
    {
     "name": "stdout",
     "output_type": "stream",
     "text": [
      "0\n",
      "1\n",
      "8\n",
      "27\n"
     ]
    }
   ],
   "source": [
    "for x in cube(4):\n",
    "    print(x)"
   ]
  },
  {
   "cell_type": "markdown",
   "id": "f94dd3e1-6837-44b7-9f0a-2e5d8bd33e39",
   "metadata": {},
   "source": [
    "it has more values...it occupies space.so to avoid and pick a single element generators are used."
   ]
  },
  {
   "cell_type": "code",
   "execution_count": 180,
   "id": "b7053dbf-1f4c-4b5c-9b67-e3dad7356e1c",
   "metadata": {},
   "outputs": [],
   "source": [
    "def cubes(n):\n",
    "    for x in range(n):\n",
    "        yield x**3\n",
    "    "
   ]
  },
  {
   "cell_type": "code",
   "execution_count": 185,
   "id": "879167e8-8c7b-4b75-a98d-cd44c9cdae97",
   "metadata": {},
   "outputs": [
    {
     "ename": "TypeError",
     "evalue": "'list_iterator' object is not callable",
     "output_type": "error",
     "traceback": [
      "\u001b[1;31m---------------------------------------------------------------------------\u001b[0m",
      "\u001b[1;31mTypeError\u001b[0m                                 Traceback (most recent call last)",
      "Cell \u001b[1;32mIn[185], line 1\u001b[0m\n\u001b[1;32m----> 1\u001b[0m \u001b[38;5;28mlist\u001b[39m(cubes(\u001b[38;5;241m3\u001b[39m))\n",
      "\u001b[1;31mTypeError\u001b[0m: 'list_iterator' object is not callable"
     ]
    }
   ],
   "source": [
    "list(cubes(3))"
   ]
  },
  {
   "cell_type": "code",
   "execution_count": 184,
   "id": "9a29bdb1-19fe-461b-8cf2-d850717227a7",
   "metadata": {},
   "outputs": [
    {
     "ename": "TypeError",
     "evalue": "'list_iterator' object is not callable",
     "output_type": "error",
     "traceback": [
      "\u001b[1;31m---------------------------------------------------------------------------\u001b[0m",
      "\u001b[1;31mTypeError\u001b[0m                                 Traceback (most recent call last)",
      "Cell \u001b[1;32mIn[184], line 1\u001b[0m\n\u001b[1;32m----> 1\u001b[0m \u001b[38;5;28mlist\u001b[39m(cubes(\u001b[38;5;241m3\u001b[39m))\n",
      "\u001b[1;31mTypeError\u001b[0m: 'list_iterator' object is not callable"
     ]
    }
   ],
   "source": [
    "list(cubes(3))"
   ]
  },
  {
   "cell_type": "code",
   "execution_count": 186,
   "id": "ec0606ee-7573-46c2-ae54-9219f814b811",
   "metadata": {},
   "outputs": [],
   "source": [
    "def gen():\n",
    "    for x in range(3):\n",
    "        yield x\n",
    "        "
   ]
  },
  {
   "cell_type": "code",
   "execution_count": 188,
   "id": "24aef6b6-0eb7-4c39-888f-5276d0cfda67",
   "metadata": {},
   "outputs": [
    {
     "name": "stdout",
     "output_type": "stream",
     "text": [
      "0\n",
      "1\n",
      "2\n"
     ]
    }
   ],
   "source": [
    "for x in gen():\n",
    "    print(x)"
   ]
  },
  {
   "cell_type": "code",
   "execution_count": 189,
   "id": "9ec2a8aa-5aad-4127-a3ae-4458050a4566",
   "metadata": {},
   "outputs": [],
   "source": [
    "def gen(n):\n",
    "    for x in range(n):\n",
    "        yield x"
   ]
  },
  {
   "cell_type": "code",
   "execution_count": 190,
   "id": "ea1ba49b-6eaa-4339-a1cd-88dbd7c3abff",
   "metadata": {},
   "outputs": [
    {
     "data": {
      "text/plain": [
       "<generator object gen at 0x000002681B083C60>"
      ]
     },
     "execution_count": 190,
     "metadata": {},
     "output_type": "execute_result"
    }
   ],
   "source": [
    "gen(8)"
   ]
  },
  {
   "cell_type": "code",
   "execution_count": 191,
   "id": "0fe812ea-fb55-4424-80f6-1d8672622351",
   "metadata": {},
   "outputs": [
    {
     "name": "stdout",
     "output_type": "stream",
     "text": [
      "0\n",
      "1\n",
      "2\n",
      "3\n",
      "4\n",
      "5\n",
      "6\n",
      "7\n"
     ]
    }
   ],
   "source": [
    "for i in gen(8):\n",
    "    print(i)"
   ]
  },
  {
   "cell_type": "code",
   "execution_count": 195,
   "id": "ea085102-bcdd-40db-b600-e352885eccc7",
   "metadata": {},
   "outputs": [
    {
     "ename": "TypeError",
     "evalue": "'int' object is not an iterator",
     "output_type": "error",
     "traceback": [
      "\u001b[1;31m---------------------------------------------------------------------------\u001b[0m",
      "\u001b[1;31mTypeError\u001b[0m                                 Traceback (most recent call last)",
      "Cell \u001b[1;32mIn[195], line 1\u001b[0m\n\u001b[1;32m----> 1\u001b[0m \u001b[38;5;28mprint\u001b[39m(\u001b[38;5;28mnext\u001b[39m(x))\n",
      "\u001b[1;31mTypeError\u001b[0m: 'int' object is not an iterator"
     ]
    }
   ],
   "source": [
    "print(next(x))"
   ]
  },
  {
   "cell_type": "code",
   "execution_count": 198,
   "id": "85ed08ec-9f74-4359-8edb-e036fe6a39d8",
   "metadata": {},
   "outputs": [
    {
     "data": {
      "text/plain": [
       "['hari', 'is', 'a', 'good', 'boy']"
      ]
     },
     "execution_count": 198,
     "metadata": {},
     "output_type": "execute_result"
    }
   ],
   "source": [
    "muk='hari is a good boy'\n",
    "muk.split()\n",
    "    "
   ]
  },
  {
   "cell_type": "code",
   "execution_count": 199,
   "id": "fe9030da-7f12-489d-b8f8-2f70c139a33f",
   "metadata": {},
   "outputs": [
    {
     "name": "stdout",
     "output_type": "stream",
     "text": [
      "hari\n",
      "is\n",
      "good\n"
     ]
    }
   ],
   "source": [
    "for a in muk.split():\n",
    "    if len(a)%2==0:\n",
    "        print(a)"
   ]
  },
  {
   "cell_type": "code",
   "execution_count": 203,
   "id": "60e356a3-08a9-467f-9f04-4b63be84b4d5",
   "metadata": {},
   "outputs": [
    {
     "data": {
      "text/plain": [
       "['h', 'i', 'a', 'g', 'b']"
      ]
     },
     "execution_count": 203,
     "metadata": {},
     "output_type": "execute_result"
    }
   ],
   "source": [
    "muk='hari is a good boy'\n",
    "[word[0] for word in muk.split()]"
   ]
  },
  {
   "cell_type": "code",
   "execution_count": 205,
   "id": "0ad2a791-0a10-4eec-b6a7-4d854d4d4cd8",
   "metadata": {},
   "outputs": [],
   "source": [
    "def myfun(name):\n",
    "    print('hello {}'.format(name))"
   ]
  },
  {
   "cell_type": "code",
   "execution_count": 208,
   "id": "19668f36-3bb0-4fe0-8c3d-2dd72a1085ee",
   "metadata": {},
   "outputs": [],
   "source": [
    "def myfunc(name):\n",
    "    print(\"Hello {}\".format(name))"
   ]
  },
  {
   "cell_type": "code",
   "execution_count": 210,
   "id": "dfc53f40-86fd-4fe0-afac-9e08bd39117f",
   "metadata": {},
   "outputs": [
    {
     "ename": "SyntaxError",
     "evalue": "invalid syntax (2151539089.py, line 3)",
     "output_type": "error",
     "traceback": [
      "\u001b[1;36m  Cell \u001b[1;32mIn[210], line 3\u001b[1;36m\u001b[0m\n\u001b[1;33m    returns True\u001b[0m\n\u001b[1;37m            ^\u001b[0m\n\u001b[1;31mSyntaxError\u001b[0m\u001b[1;31m:\u001b[0m invalid syntax\n"
     ]
    }
   ],
   "source": [
    "def is_greater(a,b):\n",
    "    if a>b:\n",
    "        return True\n",
    "    else a<=b:\n",
    "        return False"
   ]
  },
  {
   "cell_type": "code",
   "execution_count": 1,
   "id": "64040714-092c-4676-a38e-a1a1e922a711",
   "metadata": {},
   "outputs": [
    {
     "name": "stdout",
     "output_type": "stream",
     "text": [
      "Writing harimu.txt\n"
     ]
    }
   ],
   "source": [
    "%%writefile harimu.txt\n",
    "open(harimu.txt)\n",
    "    "
   ]
  },
  {
   "cell_type": "code",
   "execution_count": 3,
   "id": "57502fcb-9cf8-44b2-8deb-5c09ee7ac542",
   "metadata": {},
   "outputs": [
    {
     "ename": "NameError",
     "evalue": "name 'read' is not defined",
     "output_type": "error",
     "traceback": [
      "\u001b[1;31m---------------------------------------------------------------------------\u001b[0m",
      "\u001b[1;31mNameError\u001b[0m                                 Traceback (most recent call last)",
      "Cell \u001b[1;32mIn[3], line 1\u001b[0m\n\u001b[1;32m----> 1\u001b[0m a\u001b[38;5;241m=\u001b[39mread(harimu\u001b[38;5;241m.\u001b[39mtxt)\n",
      "\u001b[1;31mNameError\u001b[0m: name 'read' is not defined"
     ]
    }
   ],
   "source": []
  },
  {
   "cell_type": "code",
   "execution_count": 9,
   "id": "588d60e2-12e0-47a3-bdbf-dc069238f5c5",
   "metadata": {},
   "outputs": [],
   "source": [
    "def myfun(numb):\n",
    "    for item in numb:\n",
    "        print(item)\n",
    "        if item['']%2 ==0:\n",
    "            print([])"
   ]
  },
  {
   "cell_type": "code",
   "execution_count": 28,
   "id": "5e16e345-7bbc-46c8-b0aa-1e94ef9b54a4",
   "metadata": {},
   "outputs": [
    {
     "name": "stdout",
     "output_type": "stream",
     "text": [
      "r\n"
     ]
    }
   ],
   "source": [
    "myfun('string'[2])"
   ]
  },
  {
   "cell_type": "code",
   "execution_count": 46,
   "id": "fb22b237-a1b6-4de8-adad-bb454c95c216",
   "metadata": {},
   "outputs": [],
   "source": [
    "def myfunc(inp):\n",
    "    result=''\n",
    "    for i in range(len(inp)):\n",
    "        if i % 2 == 0:\n",
    "            result =result+inp[i].upper()\n",
    "        else:\n",
    "            result =result+inp[i].lower()\n",
    "    return result#return must be in loop position straight."
   ]
  },
  {
   "cell_type": "code",
   "execution_count": 47,
   "id": "93f939db-fa8a-483e-ae88-ab20ea175969",
   "metadata": {},
   "outputs": [
    {
     "data": {
      "text/plain": [
       "'HaRiMuKiL'"
      ]
     },
     "execution_count": 47,
     "metadata": {},
     "output_type": "execute_result"
    }
   ],
   "source": [
    "myfunc(\"harimukil\")"
   ]
  },
  {
   "cell_type": "code",
   "execution_count": 52,
   "id": "39bf6438-aea4-4bd5-9a76-34e59b2f10c8",
   "metadata": {},
   "outputs": [],
   "source": [
    "def hello():\n",
    "    return 'HI ALL'\n",
    "def other(fun):\n",
    "    print('go all')\n",
    "    print(fun())"
   ]
  },
  {
   "cell_type": "code",
   "execution_count": 53,
   "id": "2452c15b-a939-4434-984f-06c2e2a2c4c9",
   "metadata": {},
   "outputs": [
    {
     "data": {
      "text/plain": [
       "'HI ALL'"
      ]
     },
     "execution_count": 53,
     "metadata": {},
     "output_type": "execute_result"
    }
   ],
   "source": [
    "hello()"
   ]
  },
  {
   "cell_type": "code",
   "execution_count": 54,
   "id": "ee9d6202-41f5-4d42-a3ac-5532342e7a07",
   "metadata": {},
   "outputs": [
    {
     "name": "stdout",
     "output_type": "stream",
     "text": [
      "go all\n",
      "HI ALL\n"
     ]
    }
   ],
   "source": [
    "other(hello)"
   ]
  },
  {
   "cell_type": "code",
   "execution_count": 55,
   "id": "e30b57a1-068c-4f47-8d85-0b89314ddb65",
   "metadata": {},
   "outputs": [
    {
     "name": "stdout",
     "output_type": "stream",
     "text": [
      "something\n",
      "welcome all\n"
     ]
    }
   ],
   "source": [
    "def kirikal(func):#generator\n",
    "    def vadivel():\n",
    "        print('something')\n",
    "        func()\n",
    "    return vadivel\n",
    "def magic():\n",
    "    print('welcome all')\n",
    "magic=kirikal(magic)\n",
    "magic()"
   ]
  },
  {
   "cell_type": "code",
   "execution_count": 56,
   "id": "d368d416-fe20-4f82-be81-fc8254efd038",
   "metadata": {},
   "outputs": [
    {
     "data": {
      "text/plain": [
       "[0, 1, 2, 3, 4, 5, 6, 7, 8, 9]"
      ]
     },
     "execution_count": 56,
     "metadata": {},
     "output_type": "execute_result"
    }
   ],
   "source": [
    "[x for x in range(0,10)]"
   ]
  },
  {
   "cell_type": "code",
   "execution_count": 57,
   "id": "a191dc80-0fe2-458b-98bb-f028ac1acb0e",
   "metadata": {},
   "outputs": [
    {
     "data": {
      "text/plain": [
       "[0, 1, 4, 9, 16, 25, 36, 49, 64, 81]"
      ]
     },
     "execution_count": 57,
     "metadata": {},
     "output_type": "execute_result"
    }
   ],
   "source": [
    "[x**2 for x in range(0,10)]"
   ]
  },
  {
   "cell_type": "code",
   "execution_count": 61,
   "id": "ff472452-8cbe-46b5-b149-d30129d71af5",
   "metadata": {},
   "outputs": [
    {
     "data": {
      "text/plain": [
       "[0, 1, 2, 3, 4, 5, 6, 7, 8, 9]"
      ]
     },
     "execution_count": 61,
     "metadata": {},
     "output_type": "execute_result"
    }
   ],
   "source": [
    "[x for x in range(0,10) ]\n"
   ]
  },
  {
   "cell_type": "code",
   "execution_count": 1,
   "id": "bf574048-03bd-48f4-96c9-81f8519cd48a",
   "metadata": {},
   "outputs": [],
   "source": [
    "#Avanced pyton modules.\n",
    "#collection modules.--counter used to count how many times the objects is duplicated in list.\n",
    "from collections import Counter##c should be in capital\n"
   ]
  },
  {
   "cell_type": "code",
   "execution_count": 2,
   "id": "62db7573-efc7-44c5-be60-561a01dbdb59",
   "metadata": {},
   "outputs": [],
   "source": [
    "list1=[1,2,3,4,2,3,3,4,4,5]"
   ]
  },
  {
   "cell_type": "code",
   "execution_count": 4,
   "id": "2127dadd-21e3-495d-857c-8ec2ddc60b7f",
   "metadata": {},
   "outputs": [
    {
     "data": {
      "text/plain": [
       "Counter({3: 3, 4: 3, 2: 2, 1: 1, 5: 1})"
      ]
     },
     "execution_count": 4,
     "metadata": {},
     "output_type": "execute_result"
    }
   ],
   "source": [
    "Counter(list1)#results in dictionary value ."
   ]
  },
  {
   "cell_type": "code",
   "execution_count": 5,
   "id": "60072359-3a4a-443a-9a2b-a67233165305",
   "metadata": {},
   "outputs": [
    {
     "data": {
      "text/plain": [
       "Counter({'b': 7, 's': 6, 'h': 3, 'a': 2})"
      ]
     },
     "execution_count": 5,
     "metadata": {},
     "output_type": "execute_result"
    }
   ],
   "source": [
    "Counter('aabsbsbsbhshhbbsbs')"
   ]
  },
  {
   "cell_type": "code",
   "execution_count": 6,
   "id": "c62216e2-e2c1-4e73-b468-506a4e0846c2",
   "metadata": {},
   "outputs": [
    {
     "data": {
      "text/plain": [
       "Counter({'each': 3,\n",
       "         'word': 3,\n",
       "         'times': 2,\n",
       "         'How': 1,\n",
       "         'many': 1,\n",
       "         'does': 1,\n",
       "         'show': 1,\n",
       "         'up': 1,\n",
       "         'in': 1,\n",
       "         'this': 1,\n",
       "         'sentence': 1})"
      ]
     },
     "execution_count": 6,
     "metadata": {},
     "output_type": "execute_result"
    }
   ],
   "source": [
    "s = 'How many times does each word show up in this sentence word times each each word'\n",
    "\n",
    "words = s.split()\n",
    "\n",
    "Counter(words)"
   ]
  },
  {
   "cell_type": "code",
   "execution_count": 9,
   "id": "27270e91-9a35-4dc1-abcc-7d66d22f0d78",
   "metadata": {},
   "outputs": [
    {
     "data": {
      "text/plain": [
       "Counter({'each': 3,\n",
       "         'word': 3,\n",
       "         'times': 2,\n",
       "         'How': 1,\n",
       "         'many': 1,\n",
       "         'does': 1,\n",
       "         'show': 1,\n",
       "         'up': 1,\n",
       "         'in': 1,\n",
       "         'this': 1,\n",
       "         'sentence': 1})"
      ]
     },
     "execution_count": 9,
     "metadata": {},
     "output_type": "execute_result"
    }
   ],
   "source": [
    "s = 'How many times does each word show up in this sentence word times each each word'\n",
    "Counter(s.split())\n",
    "\n",
    "\n"
   ]
  },
  {
   "cell_type": "code",
   "execution_count": 10,
   "id": "56ac7dc8-8f47-40ba-913f-c3b064888e94",
   "metadata": {},
   "outputs": [],
   "source": [
    "a=\"harimukil is a best brothers\""
   ]
  },
  {
   "cell_type": "code",
   "execution_count": 13,
   "id": "0207e635-cf53-42d4-8b88-c1852e561dd6",
   "metadata": {},
   "outputs": [],
   "source": [
    "b=Counter(a)"
   ]
  },
  {
   "cell_type": "code",
   "execution_count": 14,
   "id": "e3369eec-64f6-45df-9aac-d0a18711a054",
   "metadata": {},
   "outputs": [
    {
     "data": {
      "text/plain": [
       "Counter({' ': 4,\n",
       "         'r': 3,\n",
       "         'i': 3,\n",
       "         's': 3,\n",
       "         'h': 2,\n",
       "         'a': 2,\n",
       "         'b': 2,\n",
       "         'e': 2,\n",
       "         't': 2,\n",
       "         'm': 1,\n",
       "         'u': 1,\n",
       "         'k': 1,\n",
       "         'l': 1,\n",
       "         'o': 1})"
      ]
     },
     "execution_count": 14,
     "metadata": {},
     "output_type": "execute_result"
    }
   ],
   "source": [
    "b"
   ]
  },
  {
   "cell_type": "code",
   "execution_count": 15,
   "id": "1e798d26-d78f-4b0e-a659-7c4ab390dc09",
   "metadata": {},
   "outputs": [
    {
     "data": {
      "text/plain": [
       "[(' ', 4),\n",
       " ('r', 3),\n",
       " ('i', 3),\n",
       " ('s', 3),\n",
       " ('h', 2),\n",
       " ('a', 2),\n",
       " ('b', 2),\n",
       " ('e', 2),\n",
       " ('t', 2),\n",
       " ('m', 1),\n",
       " ('u', 1),\n",
       " ('k', 1),\n",
       " ('l', 1),\n",
       " ('o', 1)]"
      ]
     },
     "execution_count": 15,
     "metadata": {},
     "output_type": "execute_result"
    }
   ],
   "source": [
    "b.most_common()#used to identify how many times elements is most commonly used."
   ]
  },
  {
   "cell_type": "code",
   "execution_count": 16,
   "id": "31357048-8b95-48e9-8bf1-335508daf3fa",
   "metadata": {},
   "outputs": [],
   "source": [
    "from collections import defaultdict\n"
   ]
  },
  {
   "cell_type": "code",
   "execution_count": 19,
   "id": "982108b0-f356-4e95-92b1-e23ddb4fe66e",
   "metadata": {},
   "outputs": [],
   "source": [
    "d=defaultdict(lambda:00000)"
   ]
  },
  {
   "cell_type": "code",
   "execution_count": 23,
   "id": "75a6bd1a-197c-42c1-b982-8e41b42aa6c2",
   "metadata": {},
   "outputs": [],
   "source": [
    "normaldict={'key1':4,'key2':5}"
   ]
  },
  {
   "cell_type": "code",
   "execution_count": 24,
   "id": "93ebd737-0667-4e4f-81bb-57fef5b09df0",
   "metadata": {},
   "outputs": [
    {
     "data": {
      "text/plain": [
       "4"
      ]
     },
     "execution_count": 24,
     "metadata": {},
     "output_type": "execute_result"
    }
   ],
   "source": [
    "normaldict['key1']"
   ]
  },
  {
   "cell_type": "code",
   "execution_count": 25,
   "id": "d2c1d9bd-eac5-486f-b95f-3ef9c2287f38",
   "metadata": {},
   "outputs": [
    {
     "data": {
      "text/plain": [
       "5"
      ]
     },
     "execution_count": 25,
     "metadata": {},
     "output_type": "execute_result"
    }
   ],
   "source": [
    "normaldict['key2']"
   ]
  },
  {
   "cell_type": "code",
   "execution_count": 27,
   "id": "b0240a5e-d85c-41bf-9bb2-804d67c85601",
   "metadata": {},
   "outputs": [
    {
     "data": {
      "text/plain": [
       "0"
      ]
     },
     "execution_count": 27,
     "metadata": {},
     "output_type": "execute_result"
    }
   ],
   "source": [
    "d['key3']##if we put the wrong key value,in normal dictionary it returns key error..here it is mentioning the default value which we have assigned."
   ]
  },
  {
   "cell_type": "code",
   "execution_count": 28,
   "id": "c59a504a-327a-4244-9b7e-b20dde4623b6",
   "metadata": {},
   "outputs": [],
   "source": [
    "from collections import namedtuple"
   ]
  },
  {
   "cell_type": "code",
   "execution_count": 29,
   "id": "320f0fee-73cf-4c2e-8e6c-f88b6ba441f8",
   "metadata": {},
   "outputs": [],
   "source": [
    "Dog = namedtuple('Dog',['age','breed','name'])\n",
    "\n",
    "sam = Dog(age=2,breed='Lab',name='Sammy')\n",
    "\n",
    "frank = Dog(age=2,breed='Shepard',name=\"Frankie\")"
   ]
  },
  {
   "cell_type": "code",
   "execution_count": 30,
   "id": "52bebcd9-840d-48e4-886d-ba127473c4c8",
   "metadata": {},
   "outputs": [
    {
     "data": {
      "text/plain": [
       "2"
      ]
     },
     "execution_count": 30,
     "metadata": {},
     "output_type": "execute_result"
    }
   ],
   "source": [
    "sam.age"
   ]
  },
  {
   "cell_type": "code",
   "execution_count": 31,
   "id": "4c6b2a95-af3b-44da-bab5-371a31aae943",
   "metadata": {},
   "outputs": [
    {
     "data": {
      "text/plain": [
       "'Lab'"
      ]
     },
     "execution_count": 31,
     "metadata": {},
     "output_type": "execute_result"
    }
   ],
   "source": [
    "sam.breed"
   ]
  },
  {
   "cell_type": "code",
   "execution_count": 32,
   "id": "cb815bd8-d4bd-4237-9db8-c0c664bcda6d",
   "metadata": {},
   "outputs": [
    {
     "data": {
      "text/plain": [
       "'Frankie'"
      ]
     },
     "execution_count": 32,
     "metadata": {},
     "output_type": "execute_result"
    }
   ],
   "source": [
    "frank.name"
   ]
  },
  {
   "cell_type": "code",
   "execution_count": 33,
   "id": "5ccc9738-53f5-472f-864f-c507137472d5",
   "metadata": {},
   "outputs": [
    {
     "data": {
      "text/plain": [
       "'Shepard'"
      ]
     },
     "execution_count": 33,
     "metadata": {},
     "output_type": "execute_result"
    }
   ],
   "source": [
    "frank[1]"
   ]
  },
  {
   "cell_type": "code",
   "execution_count": 39,
   "id": "c4b6dd36-7bae-4572-88f3-0e9db239c25f",
   "metadata": {},
   "outputs": [],
   "source": [
    "h=open('abc.txt','w+')\n",
    "h.write('welcome to montycloud')\n",
    "h.close()"
   ]
  },
  {
   "cell_type": "code",
   "execution_count": 40,
   "id": "93b9991b-d3db-438e-b518-54329d3ebf04",
   "metadata": {},
   "outputs": [],
   "source": [
    "import os"
   ]
  },
  {
   "cell_type": "code",
   "execution_count": 41,
   "id": "2d46c451-8985-4c1d-8e34-594568503916",
   "metadata": {},
   "outputs": [
    {
     "data": {
      "text/plain": [
       "'C:\\\\Users\\\\MukilanB'"
      ]
     },
     "execution_count": 41,
     "metadata": {},
     "output_type": "execute_result"
    }
   ],
   "source": [
    "os.getcwd()###similar like pwd----lists the current working directory"
   ]
  },
  {
   "cell_type": "code",
   "execution_count": 42,
   "id": "09751781-8475-484a-a7db-8d3778a34a30",
   "metadata": {},
   "outputs": [
    {
     "data": {
      "text/plain": [
       "['.anaconda',\n",
       " '.conda',\n",
       " '.condarc',\n",
       " '.continuum',\n",
       " '.ipynb_checkpoints',\n",
       " '.ipython',\n",
       " '.jupyter',\n",
       " '.vscode',\n",
       " 'abc.txt',\n",
       " 'anaconda3',\n",
       " 'AppData',\n",
       " 'Application Data',\n",
       " 'Contacts',\n",
       " 'Cookies',\n",
       " 'Documents',\n",
       " 'Downloads',\n",
       " 'Favorites',\n",
       " 'harimu.txt',\n",
       " 'harimukil.txt',\n",
       " 'Links',\n",
       " 'Local Settings',\n",
       " 'mu.txt',\n",
       " 'muki.txt',\n",
       " 'mukilpythonpractise.ipynb',\n",
       " 'Music',\n",
       " 'My Documents',\n",
       " 'NetHood',\n",
       " 'NTUSER.DAT',\n",
       " 'ntuser.dat.LOG1',\n",
       " 'ntuser.dat.LOG2',\n",
       " 'NTUSER.DAT{0c5c703e-d56a-11ee-af11-f8fe5e51ec89}.TM.blf',\n",
       " 'NTUSER.DAT{0c5c703e-d56a-11ee-af11-f8fe5e51ec89}.TMContainer00000000000000000001.regtrans-ms',\n",
       " 'NTUSER.DAT{0c5c703e-d56a-11ee-af11-f8fe5e51ec89}.TMContainer00000000000000000002.regtrans-ms',\n",
       " 'ntuser.ini',\n",
       " 'OneDrive',\n",
       " 'OneDrive - MontyCloud Inc',\n",
       " 'practise.txt',\n",
       " 'PrintHood',\n",
       " 'Recent',\n",
       " 'Saved Games',\n",
       " 'Searches',\n",
       " 'SendTo',\n",
       " 'Start Menu',\n",
       " 'Templates',\n",
       " 'Untitled.ipynb',\n",
       " 'Untitled1.ipynb',\n",
       " 'Videos']"
      ]
     },
     "execution_count": 42,
     "metadata": {},
     "output_type": "execute_result"
    }
   ],
   "source": [
    "os.listdir()####listing all the directories..."
   ]
  },
  {
   "cell_type": "code",
   "execution_count": 44,
   "id": "fbb726ac-6534-4129-8f9e-6191e39172f4",
   "metadata": {},
   "outputs": [
    {
     "data": {
      "text/plain": [
       "['All Users', 'Default', 'Default User', 'desktop.ini', 'MukilanB', 'Public']"
      ]
     },
     "execution_count": 44,
     "metadata": {},
     "output_type": "execute_result"
    }
   ],
   "source": [
    "os.listdir('C:\\\\Users')####listing all directory in a poarticular folders--give a path of it"
   ]
  },
  {
   "cell_type": "code",
   "execution_count": 6,
   "id": "4b8e773b-2cac-4a0d-b296-002702f80ec7",
   "metadata": {},
   "outputs": [],
   "source": [
    "import datetime\n"
   ]
  },
  {
   "cell_type": "code",
   "execution_count": 7,
   "id": "878a382f-129f-4733-b6fc-2a5058ec0290",
   "metadata": {},
   "outputs": [],
   "source": [
    "c=datetime.time(2,45)"
   ]
  },
  {
   "cell_type": "code",
   "execution_count": 8,
   "id": "327a6af8-8ae4-42e2-b074-50786aa7d3a6",
   "metadata": {},
   "outputs": [
    {
     "data": {
      "text/plain": [
       "45"
      ]
     },
     "execution_count": 8,
     "metadata": {},
     "output_type": "execute_result"
    }
   ],
   "source": [
    "c.minute"
   ]
  },
  {
   "cell_type": "code",
   "execution_count": 9,
   "id": "668dfc4b-4bab-4a99-99dc-16f8ae465c71",
   "metadata": {},
   "outputs": [
    {
     "data": {
      "text/plain": [
       "0"
      ]
     },
     "execution_count": 9,
     "metadata": {},
     "output_type": "execute_result"
    }
   ],
   "source": [
    "c.second"
   ]
  },
  {
   "cell_type": "code",
   "execution_count": 10,
   "id": "1af4e22e-5ed7-4a4b-bf22-3d5a523ef907",
   "metadata": {},
   "outputs": [
    {
     "data": {
      "text/plain": [
       "2"
      ]
     },
     "execution_count": 10,
     "metadata": {},
     "output_type": "execute_result"
    }
   ],
   "source": [
    "c.hour"
   ]
  },
  {
   "cell_type": "code",
   "execution_count": 11,
   "id": "5bb046e8-bb05-4756-a81d-93650f976194",
   "metadata": {},
   "outputs": [],
   "source": [
    "d=datetime.date.today()"
   ]
  },
  {
   "cell_type": "code",
   "execution_count": 12,
   "id": "7b3c3448-e121-444d-ac29-f7395a729d7d",
   "metadata": {},
   "outputs": [
    {
     "name": "stdout",
     "output_type": "stream",
     "text": [
      "2024-04-22\n"
     ]
    }
   ],
   "source": [
    "print(d)"
   ]
  },
  {
   "cell_type": "code",
   "execution_count": 13,
   "id": "c2fba566-7bdd-425b-841f-de2fd0c4905e",
   "metadata": {},
   "outputs": [
    {
     "data": {
      "text/plain": [
       "2024"
      ]
     },
     "execution_count": 13,
     "metadata": {},
     "output_type": "execute_result"
    }
   ],
   "source": [
    "d.year"
   ]
  },
  {
   "cell_type": "code",
   "execution_count": 14,
   "id": "68bed12a-1cab-4dd5-8c96-735c5d33ed48",
   "metadata": {},
   "outputs": [
    {
     "data": {
      "text/plain": [
       "22"
      ]
     },
     "execution_count": 14,
     "metadata": {},
     "output_type": "execute_result"
    }
   ],
   "source": [
    "d.day"
   ]
  },
  {
   "cell_type": "code",
   "execution_count": 15,
   "id": "6e031f2c-2edb-49e3-8fbc-7f4fa30e3265",
   "metadata": {},
   "outputs": [
    {
     "data": {
      "text/plain": [
       "4"
      ]
     },
     "execution_count": 15,
     "metadata": {},
     "output_type": "execute_result"
    }
   ],
   "source": [
    "d.month"
   ]
  },
  {
   "cell_type": "code",
   "execution_count": 17,
   "id": "f3058b8a-d866-4984-acbc-1603d114778a",
   "metadata": {},
   "outputs": [],
   "source": [
    "ss=d.ctime"
   ]
  },
  {
   "cell_type": "code",
   "execution_count": 18,
   "id": "4bf3e19c-ff64-4f4f-a11a-8c50c029bb6c",
   "metadata": {},
   "outputs": [
    {
     "name": "stdout",
     "output_type": "stream",
     "text": [
      "<built-in method ctime of datetime.date object at 0x000001D677FC6DF0>\n"
     ]
    }
   ],
   "source": [
    "print(ss)"
   ]
  },
  {
   "cell_type": "code",
   "execution_count": 20,
   "id": "83a7ec11-4044-4f0c-99c0-6c87dc274700",
   "metadata": {},
   "outputs": [
    {
     "ename": "AttributeError",
     "evalue": "'builtin_function_or_method' object has no attribute 'ctime'",
     "output_type": "error",
     "traceback": [
      "\u001b[1;31m---------------------------------------------------------------------------\u001b[0m",
      "\u001b[1;31mAttributeError\u001b[0m                            Traceback (most recent call last)",
      "Cell \u001b[1;32mIn[20], line 1\u001b[0m\n\u001b[1;32m----> 1\u001b[0m d\u001b[38;5;241m=\u001b[39mdatetime\u001b[38;5;241m.\u001b[39mdate\u001b[38;5;241m.\u001b[39mtoday\u001b[38;5;241m.\u001b[39mctime()\n",
      "\u001b[1;31mAttributeError\u001b[0m: 'builtin_function_or_method' object has no attribute 'ctime'"
     ]
    }
   ],
   "source": [
    "d=datetime.date.today.ctime()"
   ]
  },
  {
   "cell_type": "code",
   "execution_count": 57,
   "id": "eee0d33c-bb11-43a8-a43b-a81295486b1f",
   "metadata": {},
   "outputs": [],
   "source": [
    "###math function-----all aruthmetrical operations\n",
    "import math"
   ]
  },
  {
   "cell_type": "code",
   "execution_count": 58,
   "id": "773c1ba6-5b27-4991-b3c3-7d4a9b8f40f6",
   "metadata": {},
   "outputs": [],
   "source": [
    "v=4.65"
   ]
  },
  {
   "cell_type": "code",
   "execution_count": 60,
   "id": "cc63490a-837b-4a37-8850-9035a06eb167",
   "metadata": {},
   "outputs": [
    {
     "data": {
      "text/plain": [
       "4"
      ]
     },
     "execution_count": 60,
     "metadata": {},
     "output_type": "execute_result"
    }
   ],
   "source": [
    "math.floor(v)#before value"
   ]
  },
  {
   "cell_type": "code",
   "execution_count": 61,
   "id": "69706724-0706-47db-ade7-21cd9089e1a3",
   "metadata": {},
   "outputs": [
    {
     "data": {
      "text/plain": [
       "5"
      ]
     },
     "execution_count": 61,
     "metadata": {},
     "output_type": "execute_result"
    }
   ],
   "source": [
    "math.ceil(v)####next value"
   ]
  },
  {
   "cell_type": "code",
   "execution_count": 62,
   "id": "5d9bacad-91cf-44ed-9f2f-75bbec9c60d5",
   "metadata": {},
   "outputs": [],
   "source": [
    "import random"
   ]
  },
  {
   "cell_type": "code",
   "execution_count": 64,
   "id": "65d837c3-c5f9-487d-9636-15e920b9a53e",
   "metadata": {},
   "outputs": [
    {
     "data": {
      "text/plain": [
       "118"
      ]
     },
     "execution_count": 64,
     "metadata": {},
     "output_type": "execute_result"
    }
   ],
   "source": [
    "random.randint(0,120)"
   ]
  },
  {
   "cell_type": "code",
   "execution_count": 65,
   "id": "f7b351c5-47b3-4934-a05d-ebbcc0b35aa9",
   "metadata": {},
   "outputs": [],
   "source": [
    "random.seed(56)"
   ]
  },
  {
   "cell_type": "code",
   "execution_count": 86,
   "id": "7ff6ff61-bab7-4885-94ce-d26f3ef6a243",
   "metadata": {},
   "outputs": [
    {
     "data": {
      "text/plain": [
       "17"
      ]
     },
     "execution_count": 86,
     "metadata": {},
     "output_type": "execute_result"
    }
   ],
   "source": [
    "random.seed(1)####if seed is used means.......within that cell,if u perform how many actions in it ,...the random no..wont change\n",
    "random.randint(0,120)"
   ]
  },
  {
   "cell_type": "markdown",
   "id": "50527f74-aea6-4a12-8313-ae855b02854c",
   "metadata": {},
   "source": [
    "##debugger-usef to show errors\n",
    "#import pdb\n"
   ]
  },
  {
   "cell_type": "markdown",
   "id": "64796bce-3307-4da9-9138-ee12e7566d43",
   "metadata": {},
   "source": [
    "#normal in operator is use to check it is present or not...but for special characters as ogf email.it fails..so\n",
    "#re library-allows to create specialized pattern strings and search for matches within text..\n",
    "import re"
   ]
  },
  {
   "cell_type": "code",
   "execution_count": 3,
   "id": "1c79a603-22e5-4c52-95e2-e21d6993ac51",
   "metadata": {},
   "outputs": [],
   "source": [
    "def ask():\n",
    "    \n",
    "    while True:\n",
    "        try:\n",
    "            n = int(input('Input an integer: '))\n",
    "        except:\n",
    "            print('An error occurred!')\n",
    "            continue\n",
    "        else:\n",
    "            break\n",
    "            \n",
    "        finally:\n",
    "            print('Thank you, your number squared is: ',n**2)"
   ]
  },
  {
   "cell_type": "code",
   "execution_count": 4,
   "id": "22792a69-10eb-439f-b48a-45a3e167e8d0",
   "metadata": {},
   "outputs": [
    {
     "name": "stdin",
     "output_type": "stream",
     "text": [
      "Input an integer:  65\n"
     ]
    },
    {
     "name": "stdout",
     "output_type": "stream",
     "text": [
      "Thank you, your number squared is:  4225\n"
     ]
    }
   ],
   "source": [
    "ask()"
   ]
  },
  {
   "cell_type": "code",
   "execution_count": 21,
   "id": "538a60a2-eb43-48af-9121-9da9c2b99c95",
   "metadata": {},
   "outputs": [
    {
     "name": "stdout",
     "output_type": "stream",
     "text": [
      "d1: 2015-03-11\n"
     ]
    }
   ],
   "source": [
    "d1 = datetime.date(2015, 3, 11)\n",
    "print('d1:', d1)\n"
   ]
  },
  {
   "cell_type": "code",
   "execution_count": 22,
   "id": "ca5f0af8-62da-40c9-8103-e826a5f0a8f1",
   "metadata": {},
   "outputs": [
    {
     "name": "stdout",
     "output_type": "stream",
     "text": [
      "d1: 2024-04-22\n"
     ]
    }
   ],
   "source": [
    "d1 = datetime.date.today()\n",
    "print('d1:', d1)\n"
   ]
  },
  {
   "cell_type": "code",
   "execution_count": 27,
   "id": "b1684758-fb6d-412c-896b-66a5ed423d3d",
   "metadata": {},
   "outputs": [
    {
     "name": "stdout",
     "output_type": "stream",
     "text": [
      "Mon Apr 22 00:00:00 2024\n"
     ]
    }
   ],
   "source": [
    "print(d1.ctime())####first declare d1 and then call it"
   ]
  },
  {
   "cell_type": "code",
   "execution_count": 28,
   "id": "78183470-5fef-4ed8-97df-15108eee2709",
   "metadata": {},
   "outputs": [
    {
     "name": "stdout",
     "output_type": "stream",
     "text": [
      "d1: 2015-03-11\n",
      "d2: 2024-03-11\n"
     ]
    }
   ],
   "source": [
    "d1 = datetime.date(2015, 3, 11)\n",
    "print('d1:', d1)\n",
    "\n",
    "d2 = d1.replace(year=2024)\n",
    "print('d2:', d2)"
   ]
  },
  {
   "cell_type": "code",
   "execution_count": 30,
   "id": "4c241062-ad8f-4031-87c7-739377271734",
   "metadata": {},
   "outputs": [],
   "source": [
    "import math"
   ]
  },
  {
   "cell_type": "code",
   "execution_count": 31,
   "id": "028334f1-7a00-400a-98a2-72d5133451f7",
   "metadata": {},
   "outputs": [],
   "source": [
    "value=9.45"
   ]
  },
  {
   "cell_type": "code",
   "execution_count": 32,
   "id": "f815ac40-4dbf-475c-a3ec-f8e91616320e",
   "metadata": {},
   "outputs": [
    {
     "data": {
      "text/plain": [
       "10"
      ]
     },
     "execution_count": 32,
     "metadata": {},
     "output_type": "execute_result"
    }
   ],
   "source": [
    "math.ceil(value)"
   ]
  },
  {
   "cell_type": "code",
   "execution_count": 33,
   "id": "6b57ff4e-2dbc-4c9b-a589-f1165fc13bf1",
   "metadata": {},
   "outputs": [
    {
     "data": {
      "text/plain": [
       "9"
      ]
     },
     "execution_count": 33,
     "metadata": {},
     "output_type": "execute_result"
    }
   ],
   "source": [
    "math.floor(value)"
   ]
  },
  {
   "cell_type": "code",
   "execution_count": 35,
   "id": "08cc68e9-5235-48d4-8e64-8cec26850337",
   "metadata": {},
   "outputs": [
    {
     "data": {
      "text/plain": [
       "9"
      ]
     },
     "execution_count": 35,
     "metadata": {},
     "output_type": "execute_result"
    }
   ],
   "source": [
    "round(value)#math not needed here..."
   ]
  },
  {
   "cell_type": "code",
   "execution_count": 36,
   "id": "3a78a4c0-80b1-41fa-8d73-e33ba056398e",
   "metadata": {},
   "outputs": [],
   "source": [
    "import random\n"
   ]
  },
  {
   "cell_type": "code",
   "execution_count": 40,
   "id": "15fcbedf-c67e-4e41-bf01-79bcc7b3c8b7",
   "metadata": {},
   "outputs": [
    {
     "data": {
      "text/plain": [
       "83"
      ]
     },
     "execution_count": 40,
     "metadata": {},
     "output_type": "execute_result"
    }
   ],
   "source": [
    "random.randint(0,102)"
   ]
  },
  {
   "cell_type": "code",
   "execution_count": 41,
   "id": "a934222c-15b6-47fc-bfc8-482ba71c00c9",
   "metadata": {},
   "outputs": [
    {
     "name": "stdout",
     "output_type": "stream",
     "text": [
      "5\n"
     ]
    },
    {
     "ename": "TypeError",
     "evalue": "unsupported operand type(s) for +: 'int' and 'list'",
     "output_type": "error",
     "traceback": [
      "\u001b[1;31m---------------------------------------------------------------------------\u001b[0m",
      "\u001b[1;31mTypeError\u001b[0m                                 Traceback (most recent call last)",
      "Cell \u001b[1;32mIn[41], line 7\u001b[0m\n\u001b[0;32m      5\u001b[0m result \u001b[38;5;241m=\u001b[39m y \u001b[38;5;241m+\u001b[39m z\n\u001b[0;32m      6\u001b[0m \u001b[38;5;28mprint\u001b[39m(result)\n\u001b[1;32m----> 7\u001b[0m result2 \u001b[38;5;241m=\u001b[39m y\u001b[38;5;241m+\u001b[39mx\n\u001b[0;32m      8\u001b[0m \u001b[38;5;28mprint\u001b[39m(result2)\n",
      "\u001b[1;31mTypeError\u001b[0m: unsupported operand type(s) for +: 'int' and 'list'"
     ]
    }
   ],
   "source": [
    "x= [1,3,4]####here y+x is not possible to add.....fow knowing which is error ....python debugger is used\n",
    "y = 2\n",
    "z = 3\n",
    "\n",
    "result = y + z\n",
    "print(result)\n",
    "result2 = y+x\n",
    "print(result2)"
   ]
  },
  {
   "cell_type": "code",
   "execution_count": null,
   "id": "72f6e5dd-9574-401a-890c-9419eb85cd17",
   "metadata": {},
   "outputs": [
    {
     "name": "stdout",
     "output_type": "stream",
     "text": [
      "5\n",
      "--Return--\n",
      "None\n",
      "> \u001b[1;32mc:\\users\\mukilanb\\appdata\\local\\temp\\ipykernel_5812\\1355309902.py\u001b[0m(8)\u001b[0;36m<module>\u001b[1;34m()\u001b[0m\n",
      "\n"
     ]
    },
    {
     "name": "stdin",
     "output_type": "stream",
     "text": [
      "ipdb>  h\n"
     ]
    },
    {
     "name": "stdout",
     "output_type": "stream",
     "text": [
      "\n",
      "Documented commands (type help <topic>):\n",
      "========================================\n",
      "EOF    commands   enable      list      pinfo2   rv               unt   \n",
      "a      condition  exceptions  ll        pp       s                until \n",
      "alias  cont       exit        longlist  psource  skip_hidden      up    \n",
      "args   context    h           n         q        skip_predicates  w     \n",
      "b      continue   help        next      quit     source           whatis\n",
      "break  d          ignore      p         r        step             where \n",
      "bt     debug      interact    pdef      restart  tbreak         \n",
      "c      disable    j           pdoc      return   u              \n",
      "cl     display    jump        pfile     retval   unalias        \n",
      "clear  down       l           pinfo     run      undisplay      \n",
      "\n",
      "Miscellaneous help topics:\n",
      "==========================\n",
      "exec  pdb\n",
      "\n"
     ]
    },
    {
     "name": "stdin",
     "output_type": "stream",
     "text": [
      "ipdb>  x\n"
     ]
    },
    {
     "name": "stdout",
     "output_type": "stream",
     "text": [
      "[1, 3, 4]\n"
     ]
    },
    {
     "name": "stdin",
     "output_type": "stream",
     "text": [
      "ipdb>  y\n"
     ]
    },
    {
     "name": "stdout",
     "output_type": "stream",
     "text": [
      "2\n"
     ]
    },
    {
     "name": "stdin",
     "output_type": "stream",
     "text": [
      "ipdb>  z\n"
     ]
    },
    {
     "name": "stdout",
     "output_type": "stream",
     "text": [
      "3\n"
     ]
    }
   ],
   "source": [
    "import pdb\n",
    "x= [1,3,4]\n",
    "y = 2\n",
    "z = 3\n",
    "\n",
    "result = y + z\n",
    "print(result)\n",
    "pdb.set_trace()#placing it above the wrong statement...python shows where is error###needs to be placed\n",
    "result2 = y+x\n",
    "print(result2)"
   ]
  },
  {
   "cell_type": "markdown",
   "id": "2785f19f-3e1a-410e-bd01-9002b784dbfe",
   "metadata": {},
   "source": [
    "####in this manner we can unsderstand what is error"
   ]
  },
  {
   "cell_type": "code",
   "execution_count": 1,
   "id": "1e7291f6-f727-4673-91ac-829b71179a65",
   "metadata": {},
   "outputs": [],
   "source": [
    "import re####instead of using in operator in a simple way,to find the phonenumbers like...we can use regular expression..re library"
   ]
  },
  {
   "cell_type": "code",
   "execution_count": 4,
   "id": "edb12e9a-27a2-49de-8fca-aeafe178bbf4",
   "metadata": {},
   "outputs": [],
   "source": [
    "d='the phone number is 9331-33-4332'"
   ]
  },
  {
   "cell_type": "code",
   "execution_count": 5,
   "id": "e43bc1e6-b3ed-40b5-a71c-64d6550c9db5",
   "metadata": {},
   "outputs": [],
   "source": [
    "pattern='phone'"
   ]
  },
  {
   "cell_type": "code",
   "execution_count": 6,
   "id": "1e144492-db13-4112-a924-d8a1665d3a2f",
   "metadata": {},
   "outputs": [
    {
     "data": {
      "text/plain": [
       "<re.Match object; span=(4, 9), match='phone'>"
      ]
     },
     "execution_count": 6,
     "metadata": {},
     "output_type": "execute_result"
    }
   ],
   "source": [
    "re.search(pattern,d)"
   ]
  },
  {
   "cell_type": "code",
   "execution_count": 7,
   "id": "f94c305c-1c68-497f-8800-ab837e12f242",
   "metadata": {},
   "outputs": [],
   "source": [
    "value=re.search(pattern,d)"
   ]
  },
  {
   "cell_type": "code",
   "execution_count": 8,
   "id": "f7e9a21b-755a-41f1-a5b0-211fc6161469",
   "metadata": {},
   "outputs": [
    {
     "data": {
      "text/plain": [
       "(4, 9)"
      ]
     },
     "execution_count": 8,
     "metadata": {},
     "output_type": "execute_result"
    }
   ],
   "source": [
    "value.span()"
   ]
  },
  {
   "cell_type": "code",
   "execution_count": 9,
   "id": "c2014432-8928-416e-aa44-679155cebad2",
   "metadata": {},
   "outputs": [],
   "source": [
    "g='number'"
   ]
  },
  {
   "cell_type": "code",
   "execution_count": 14,
   "id": "d5160944-f46c-4951-b332-59d5fb1cb484",
   "metadata": {},
   "outputs": [],
   "source": [
    "tex='the phone number is phone 9948-334-323'"
   ]
  },
  {
   "cell_type": "code",
   "execution_count": 15,
   "id": "6a616468-9dfa-46c1-a216-e1c0ec6d5c82",
   "metadata": {},
   "outputs": [
    {
     "data": {
      "text/plain": [
       "<re.Match object; span=(4, 9), match='phone'>"
      ]
     },
     "execution_count": 15,
     "metadata": {},
     "output_type": "execute_result"
    }
   ],
   "source": [
    "re.search('phone',tex)##only matches first instance"
   ]
  },
  {
   "cell_type": "code",
   "execution_count": 20,
   "id": "8b37ccf6-fd1f-4e95-ab91-5c676ac7fb57",
   "metadata": {},
   "outputs": [],
   "source": [
    "name=re.search('phone',tex)"
   ]
  },
  {
   "cell_type": "code",
   "execution_count": 21,
   "id": "0371907d-2278-48a3-83cd-6241f4c8ee39",
   "metadata": {},
   "outputs": [
    {
     "data": {
      "text/plain": [
       "['phone', 'phone']"
      ]
     },
     "execution_count": 21,
     "metadata": {},
     "output_type": "execute_result"
    }
   ],
   "source": [
    "re.findall('phone',tex)####finds in all the list"
   ]
  },
  {
   "cell_type": "code",
   "execution_count": 23,
   "id": "e62cf217-7800-48ec-a071-428a007a3204",
   "metadata": {},
   "outputs": [
    {
     "data": {
      "text/plain": [
       "'phone'"
      ]
     },
     "execution_count": 23,
     "metadata": {},
     "output_type": "execute_result"
    }
   ],
   "source": [
    "name.group()"
   ]
  },
  {
   "cell_type": "code",
   "execution_count": 41,
   "id": "205f2b82-fd81-4bab-a3a6-8c3ba6e7e872",
   "metadata": {},
   "outputs": [],
   "source": [
    "tex='the phone number is 9331-33-4332'####in this way phone number is found"
   ]
  },
  {
   "cell_type": "code",
   "execution_count": 42,
   "id": "2d77162d-a49a-453e-8e0c-b92b2fff7e2e",
   "metadata": {},
   "outputs": [
    {
     "data": {
      "text/plain": [
       "<re.Match object; span=(20, 32), match='9331-33-4332'>"
      ]
     },
     "execution_count": 42,
     "metadata": {},
     "output_type": "execute_result"
    }
   ],
   "source": [
    "re.search(r'\\d\\d\\d\\d-\\d\\d-\\d\\d\\d\\d',tex)"
   ]
  },
  {
   "cell_type": "code",
   "execution_count": 43,
   "id": "9936dd1b-90d1-4281-9e93-ea6fbe350a03",
   "metadata": {},
   "outputs": [],
   "source": [
    "phone=re.search(r'\\d\\d\\d\\d-\\d\\d-\\d\\d\\d\\d',tex)"
   ]
  },
  {
   "cell_type": "code",
   "execution_count": 44,
   "id": "7814ca37-18df-4baa-866e-cfd1ab9c1777",
   "metadata": {},
   "outputs": [
    {
     "data": {
      "text/plain": [
       "'9331-33-4332'"
      ]
     },
     "execution_count": 44,
     "metadata": {},
     "output_type": "execute_result"
    }
   ],
   "source": [
    "phone.group()"
   ]
  },
  {
   "cell_type": "code",
   "execution_count": 54,
   "id": "eaa191dc-48f4-4fab-bb69-498d5d14afc1",
   "metadata": {},
   "outputs": [
    {
     "data": {
      "text/plain": [
       "<re.Match object; span=(20, 32), match='9331-33-4332'>"
      ]
     },
     "execution_count": 54,
     "metadata": {},
     "output_type": "execute_result"
    }
   ],
   "source": [
    "re.search(r'\\d{4}-\\d{2}-\\d{4}',tex)###Another way of calling#backslash...."
   ]
  },
  {
   "cell_type": "code",
   "execution_count": 55,
   "id": "0f6a3dbc-7d4d-41ce-bdb7-be83cd0cff6f",
   "metadata": {},
   "outputs": [
    {
     "data": {
      "text/plain": [
       "'9331-33-4332'"
      ]
     },
     "execution_count": 55,
     "metadata": {},
     "output_type": "execute_result"
    }
   ],
   "source": [
    "phone.group()"
   ]
  },
  {
   "cell_type": "code",
   "execution_count": 57,
   "id": "9f7a53dd-a82b-4e80-a32d-bff87cfd2735",
   "metadata": {},
   "outputs": [
    {
     "ename": "IndexError",
     "evalue": "no such group",
     "output_type": "error",
     "traceback": [
      "\u001b[1;31m---------------------------------------------------------------------------\u001b[0m",
      "\u001b[1;31mIndexError\u001b[0m                                Traceback (most recent call last)",
      "Cell \u001b[1;32mIn[57], line 1\u001b[0m\n\u001b[1;32m----> 1\u001b[0m phone\u001b[38;5;241m.\u001b[39mgroup(\u001b[38;5;241m1\u001b[39m)\n",
      "\u001b[1;31mIndexError\u001b[0m: no such group"
     ]
    }
   ],
   "source": [
    "phone.group(1)####to find the each part of the phone number"
   ]
  },
  {
   "cell_type": "code",
   "execution_count": 49,
   "id": "c638457f-c6fa-471e-b070-254e0f6f6438",
   "metadata": {},
   "outputs": [],
   "source": [
    "####compile is used"
   ]
  },
  {
   "cell_type": "code",
   "execution_count": 60,
   "id": "2c0ad295-8ae7-4acd-941a-d2e9abd58128",
   "metadata": {},
   "outputs": [],
   "source": [
    "result=re.compile(r'(\\d{4})-(\\d{2})-(\\d{4})')####note the bracket here...after r' for each element"
   ]
  },
  {
   "cell_type": "code",
   "execution_count": 62,
   "id": "a66b88e7-de9b-4016-9bfa-ec0c98e18fd2",
   "metadata": {},
   "outputs": [],
   "source": [
    "final = re.search(result,tex)"
   ]
  },
  {
   "cell_type": "code",
   "execution_count": 63,
   "id": "73f2002e-1459-4a98-ad9c-9fc52aaf5dc9",
   "metadata": {},
   "outputs": [
    {
     "data": {
      "text/plain": [
       "'9331-33-4332'"
      ]
     },
     "execution_count": 63,
     "metadata": {},
     "output_type": "execute_result"
    }
   ],
   "source": [
    "final.group()"
   ]
  },
  {
   "cell_type": "code",
   "execution_count": 65,
   "id": "021da303-932e-47a7-b888-24639271df94",
   "metadata": {},
   "outputs": [
    {
     "data": {
      "text/plain": [
       "<re.Match object; span=(5, 8), match='man'>"
      ]
     },
     "execution_count": 65,
     "metadata": {},
     "output_type": "execute_result"
    }
   ],
   "source": [
    "re.search(r\"man|woman\",\"This man was here.\")###pipe operator=====or|"
   ]
  },
  {
   "cell_type": "code",
   "execution_count": 66,
   "id": "ebd73259-0891-4e60-ba63-1eb64691dbed",
   "metadata": {},
   "outputs": [
    {
     "data": {
      "text/plain": [
       "['cat', 'hat', 'sat']"
      ]
     },
     "execution_count": 66,
     "metadata": {},
     "output_type": "execute_result"
    }
   ],
   "source": [
    "###WILDCARD character\n",
    "re.findall(r\".at\",\"The cat in the hat sat here.\")###ending with at "
   ]
  },
  {
   "cell_type": "code",
   "execution_count": 67,
   "id": "54fd8cd1-bfda-4ff1-aa3e-6d5c030a53e2",
   "metadata": {},
   "outputs": [
    {
     "data": {
      "text/plain": [
       "['e bat', 'splat']"
      ]
     },
     "execution_count": 67,
     "metadata": {},
     "output_type": "execute_result"
    }
   ],
   "source": [
    "re.findall(r\"...at\",\"The bat went splat\")##....==comprises that much of elements"
   ]
  },
  {
   "cell_type": "code",
   "execution_count": 68,
   "id": "986d66f4-5f8b-4082-b499-8bdf25b34e13",
   "metadata": {},
   "outputs": [
    {
     "data": {
      "text/plain": [
       "['2']"
      ]
     },
     "execution_count": 68,
     "metadata": {},
     "output_type": "execute_result"
    }
   ],
   "source": [
    "re.findall(r'\\d$','This ends with a number 2')###ending with number"
   ]
  },
  {
   "cell_type": "code",
   "execution_count": 71,
   "id": "d737ee29-db6b-4c0b-ba4e-112edd2ef29e",
   "metadata": {},
   "outputs": [
    {
     "data": {
      "text/plain": [
       "['3']"
      ]
     },
     "execution_count": 71,
     "metadata": {},
     "output_type": "execute_result"
    }
   ],
   "source": [
    "re.findall(r'^\\d','3')###represents starting number"
   ]
  },
  {
   "cell_type": "code",
   "execution_count": 73,
   "id": "079c9cad-44d8-49dd-9efc-2c4e11094208",
   "metadata": {},
   "outputs": [
    {
     "data": {
      "text/plain": [
       "['there are ', ' numbers ', ' inside ', ' this sentence.']"
      ]
     },
     "execution_count": 73,
     "metadata": {},
     "output_type": "execute_result"
    }
   ],
   "source": [
    "phrase = \"there are 3 numbers 34 inside 5 this sentence.\"\n",
    "re.findall(r'[^\\d]+',phrase)###removes all the numbers"
   ]
  },
  {
   "cell_type": "code",
   "execution_count": 75,
   "id": "76d36735-7aa5-401a-b2cc-43cf65fdd8e7",
   "metadata": {},
   "outputs": [
    {
     "data": {
      "text/plain": [
       "['t',\n",
       " 'h',\n",
       " 'e',\n",
       " 'r',\n",
       " 'e',\n",
       " ' ',\n",
       " 'a',\n",
       " 'r',\n",
       " 'e',\n",
       " ' ',\n",
       " ' ',\n",
       " 'n',\n",
       " 'u',\n",
       " 'm',\n",
       " 'b',\n",
       " 'e',\n",
       " 'r',\n",
       " 's',\n",
       " ' ',\n",
       " ' ',\n",
       " 'i',\n",
       " 'n',\n",
       " 's',\n",
       " 'i',\n",
       " 'd',\n",
       " 'e',\n",
       " ' ',\n",
       " ' ',\n",
       " 't',\n",
       " 'h',\n",
       " 'i',\n",
       " 's',\n",
       " ' ',\n",
       " 's',\n",
       " 'e',\n",
       " 'n',\n",
       " 't',\n",
       " 'e',\n",
       " 'n',\n",
       " 'c',\n",
       " 'e',\n",
       " '.']"
      ]
     },
     "execution_count": 75,
     "metadata": {},
     "output_type": "execute_result"
    }
   ],
   "source": [
    "phrase = \"there are 3 numbers 34 inside 5 this sentence.\"\n",
    "re.findall(r'[^\\d]',phrase)##+is removed"
   ]
  },
  {
   "cell_type": "code",
   "execution_count": 76,
   "id": "38711d89-155b-41b9-b614-7e71c4105b7d",
   "metadata": {},
   "outputs": [],
   "source": [
    "test_phrase = 'This is a string! But it has punctuation. How can we remove it?'"
   ]
  },
  {
   "cell_type": "code",
   "execution_count": 78,
   "id": "5f352699-4307-452b-b607-95f4a0945487",
   "metadata": {},
   "outputs": [
    {
     "data": {
      "text/plain": [
       "['This',\n",
       " 'is',\n",
       " 'a',\n",
       " 'string',\n",
       " 'But',\n",
       " 'it',\n",
       " 'has',\n",
       " 'punctuation',\n",
       " 'How',\n",
       " 'can',\n",
       " 'we',\n",
       " 'remove',\n",
       " 'it']"
      ]
     },
     "execution_count": 78,
     "metadata": {},
     "output_type": "execute_result"
    }
   ],
   "source": [
    "re.findall('[^!.? ]+',test_phrase)####"
   ]
  },
  {
   "cell_type": "code",
   "execution_count": 82,
   "id": "69867de6-41e5-40be-8d33-8ffd501ad83a",
   "metadata": {},
   "outputs": [
    {
     "data": {
      "text/plain": [
       "['T',\n",
       " 'h',\n",
       " 'i',\n",
       " 's',\n",
       " 'i',\n",
       " 's',\n",
       " 'a',\n",
       " 's',\n",
       " 't',\n",
       " 'r',\n",
       " 'i',\n",
       " 'n',\n",
       " 'g',\n",
       " 'B',\n",
       " 'u',\n",
       " 't',\n",
       " 'i',\n",
       " 't',\n",
       " 'h',\n",
       " 'a',\n",
       " 's',\n",
       " 'p',\n",
       " 'u',\n",
       " 'n',\n",
       " 'c',\n",
       " 't',\n",
       " 'u',\n",
       " 'a',\n",
       " 't',\n",
       " 'i',\n",
       " 'o',\n",
       " 'n',\n",
       " 'H',\n",
       " 'o',\n",
       " 'w',\n",
       " 'c',\n",
       " 'a',\n",
       " 'n',\n",
       " 'w',\n",
       " 'e',\n",
       " 'r',\n",
       " 'e',\n",
       " 'm',\n",
       " 'o',\n",
       " 'v',\n",
       " 'e',\n",
       " 'i',\n",
       " 't']"
      ]
     },
     "execution_count": 82,
     "metadata": {},
     "output_type": "execute_result"
    }
   ],
   "source": [
    "re.findall('[^!.? ]',test_phrase)"
   ]
  },
  {
   "cell_type": "code",
   "execution_count": 83,
   "id": "4423cf49-fe2c-4cb7-ba79-abdbc4b42006",
   "metadata": {},
   "outputs": [],
   "source": [
    "# Find words that start with cat and end with one of these options: 'fish','nap', or 'claw'\n",
    "text = 'Hello, would you like some catfish?'\n",
    "texttwo = \"Hello, would you like to take a catnap?\"\n",
    "textthree = \"Hello, have you seen this caterpillar?\""
   ]
  },
  {
   "cell_type": "code",
   "execution_count": 86,
   "id": "a32e6237-a5f1-4e1d-bfb4-53fe5ae3635b",
   "metadata": {},
   "outputs": [
    {
     "data": {
      "text/plain": [
       "<re.Match object; span=(27, 34), match='catfish'>"
      ]
     },
     "execution_count": 86,
     "metadata": {},
     "output_type": "execute_result"
    }
   ],
   "source": [
    "re.search(r'cat(fish|nap|erpillar)',text)"
   ]
  },
  {
   "cell_type": "code",
   "execution_count": 87,
   "id": "e8fd402c-06ae-4ed8-bd87-783d7a40d65d",
   "metadata": {},
   "outputs": [
    {
     "data": {
      "text/plain": [
       "<re.Match object; span=(32, 38), match='catnap'>"
      ]
     },
     "execution_count": 87,
     "metadata": {},
     "output_type": "execute_result"
    }
   ],
   "source": [
    "re.search(r'cat(fish|nap|erpillar)',texttwo)"
   ]
  },
  {
   "cell_type": "code",
   "execution_count": 88,
   "id": "6fde0428-2fdc-4776-820c-48bf0c59eaf7",
   "metadata": {},
   "outputs": [
    {
     "data": {
      "text/plain": [
       "<re.Match object; span=(26, 37), match='caterpillar'>"
      ]
     },
     "execution_count": 88,
     "metadata": {},
     "output_type": "execute_result"
    }
   ],
   "source": [
    "re.search(r'cat(fish|nap|erpillar)',textthree)"
   ]
  },
  {
   "cell_type": "code",
   "execution_count": 89,
   "id": "71f5ba2d-ea6d-4190-84cc-fcd90dcb2ee0",
   "metadata": {},
   "outputs": [],
   "source": [
    "import timeit#####see notes\n"
   ]
  },
  {
   "cell_type": "code",
   "execution_count": 10,
   "id": "abe92174-0cc8-46b9-b87a-582383af50d5",
   "metadata": {},
   "outputs": [],
   "source": [
    "####advanced"
   ]
  },
  {
   "cell_type": "code",
   "execution_count": 11,
   "id": "6f35ce82",
   "metadata": {},
   "outputs": [
    {
     "data": {
      "text/plain": [
       "'0x8'"
      ]
     },
     "execution_count": 11,
     "metadata": {},
     "output_type": "execute_result"
    }
   ],
   "source": [
    "hex(8)"
   ]
  },
  {
   "cell_type": "code",
   "execution_count": 12,
   "id": "1939aae1",
   "metadata": {},
   "outputs": [
    {
     "data": {
      "text/plain": [
       "'0b100'"
      ]
     },
     "execution_count": 12,
     "metadata": {},
     "output_type": "execute_result"
    }
   ],
   "source": [
    "bin(4)"
   ]
  },
  {
   "cell_type": "code",
   "execution_count": 13,
   "id": "765f8d29",
   "metadata": {},
   "outputs": [
    {
     "data": {
      "text/plain": [
       "9"
      ]
     },
     "execution_count": 13,
     "metadata": {},
     "output_type": "execute_result"
    }
   ],
   "source": [
    "pow(3,2)"
   ]
  },
  {
   "cell_type": "markdown",
   "id": "55d1b608",
   "metadata": {},
   "source": [
    "in power builtin function if variables are passed then it means...."
   ]
  },
  {
   "cell_type": "code",
   "execution_count": 14,
   "id": "47f42951",
   "metadata": {},
   "outputs": [
    {
     "data": {
      "text/plain": [
       "0"
      ]
     },
     "execution_count": 14,
     "metadata": {},
     "output_type": "execute_result"
    }
   ],
   "source": [
    "##(x**y)%z\n",
    "# 3 variables are passed..then it means\n",
    "pow(4,3,2)"
   ]
  },
  {
   "cell_type": "code",
   "execution_count": 15,
   "id": "93096d8a",
   "metadata": {},
   "outputs": [
    {
     "data": {
      "text/plain": [
       "4"
      ]
     },
     "execution_count": 15,
     "metadata": {},
     "output_type": "execute_result"
    }
   ],
   "source": [
    "abs(4)"
   ]
  },
  {
   "cell_type": "code",
   "execution_count": 16,
   "id": "cd6eb98e",
   "metadata": {},
   "outputs": [
    {
     "data": {
      "text/plain": [
       "4"
      ]
     },
     "execution_count": 16,
     "metadata": {},
     "output_type": "execute_result"
    }
   ],
   "source": [
    "abs(-4)"
   ]
  },
  {
   "cell_type": "code",
   "execution_count": 17,
   "id": "3e0b2d5c",
   "metadata": {},
   "outputs": [
    {
     "data": {
      "text/plain": [
       "9"
      ]
     },
     "execution_count": 17,
     "metadata": {},
     "output_type": "execute_result"
    }
   ],
   "source": [
    "abs(9)"
   ]
  },
  {
   "cell_type": "code",
   "execution_count": 18,
   "id": "905e3b37",
   "metadata": {},
   "outputs": [
    {
     "data": {
      "text/plain": [
       "45"
      ]
     },
     "execution_count": 18,
     "metadata": {},
     "output_type": "execute_result"
    }
   ],
   "source": [
    "round(45)"
   ]
  },
  {
   "cell_type": "code",
   "execution_count": 19,
   "id": "741c1383",
   "metadata": {},
   "outputs": [
    {
     "data": {
      "text/plain": [
       "4"
      ]
     },
     "execution_count": 19,
     "metadata": {},
     "output_type": "execute_result"
    }
   ],
   "source": [
    "round(4.5)"
   ]
  },
  {
   "cell_type": "code",
   "execution_count": 20,
   "id": "a2f1ba38",
   "metadata": {},
   "outputs": [
    {
     "data": {
      "text/plain": [
       "5"
      ]
     },
     "execution_count": 20,
     "metadata": {},
     "output_type": "execute_result"
    }
   ],
   "source": [
    "round(4.9847)"
   ]
  },
  {
   "cell_type": "code",
   "execution_count": 21,
   "id": "8799d284",
   "metadata": {},
   "outputs": [
    {
     "data": {
      "text/plain": [
       "3.3747"
      ]
     },
     "execution_count": 21,
     "metadata": {},
     "output_type": "execute_result"
    }
   ],
   "source": [
    "round(3.3747439,4)#####after how many digits needed"
   ]
  },
  {
   "cell_type": "code",
   "execution_count": 22,
   "id": "7e1f2e1f",
   "metadata": {},
   "outputs": [],
   "source": [
    "s='hello world'"
   ]
  },
  {
   "cell_type": "code",
   "execution_count": 23,
   "id": "7b84045d",
   "metadata": {},
   "outputs": [
    {
     "data": {
      "text/plain": [
       "'HELLO WORLD'"
      ]
     },
     "execution_count": 23,
     "metadata": {},
     "output_type": "execute_result"
    }
   ],
   "source": [
    "s.upper()"
   ]
  },
  {
   "cell_type": "code",
   "execution_count": 24,
   "id": "070c7420",
   "metadata": {},
   "outputs": [
    {
     "data": {
      "text/plain": [
       "'hello world'"
      ]
     },
     "execution_count": 24,
     "metadata": {},
     "output_type": "execute_result"
    }
   ],
   "source": [
    "s.lower()"
   ]
  },
  {
   "cell_type": "code",
   "execution_count": 25,
   "id": "0595d1ec",
   "metadata": {},
   "outputs": [
    {
     "data": {
      "text/plain": [
       "'Hello world'"
      ]
     },
     "execution_count": 25,
     "metadata": {},
     "output_type": "execute_result"
    }
   ],
   "source": [
    "s.capitalize()"
   ]
  },
  {
   "cell_type": "code",
   "execution_count": 27,
   "id": "19d4b0cb",
   "metadata": {},
   "outputs": [
    {
     "data": {
      "text/plain": [
       "2"
      ]
     },
     "execution_count": 27,
     "metadata": {},
     "output_type": "execute_result"
    }
   ],
   "source": [
    "s.count('o')"
   ]
  },
  {
   "cell_type": "code",
   "execution_count": 28,
   "id": "4ff0da44",
   "metadata": {},
   "outputs": [
    {
     "data": {
      "text/plain": [
       "6"
      ]
     },
     "execution_count": 28,
     "metadata": {},
     "output_type": "execute_result"
    }
   ],
   "source": [
    "s.find('w')"
   ]
  },
  {
   "cell_type": "code",
   "execution_count": 29,
   "id": "42dc10e4",
   "metadata": {},
   "outputs": [
    {
     "data": {
      "text/plain": [
       "'$$$$hello world$$$$$'"
      ]
     },
     "execution_count": 29,
     "metadata": {},
     "output_type": "execute_result"
    }
   ],
   "source": [
    "s.center(20,'$')###centering the string----20string count,$-use of thid to center"
   ]
  },
  {
   "cell_type": "code",
   "execution_count": 32,
   "id": "8a329716",
   "metadata": {},
   "outputs": [
    {
     "name": "stdout",
     "output_type": "stream",
     "text": [
      "hello \n",
      " world\n"
     ]
    }
   ],
   "source": [
    "print('hello \\n world')"
   ]
  },
  {
   "cell_type": "code",
   "execution_count": 33,
   "id": "4c35859a",
   "metadata": {},
   "outputs": [
    {
     "data": {
      "text/plain": [
       "False"
      ]
     },
     "execution_count": 33,
     "metadata": {},
     "output_type": "execute_result"
    }
   ],
   "source": [
    "s.isalpha()"
   ]
  },
  {
   "cell_type": "code",
   "execution_count": 34,
   "id": "74b2f0e2",
   "metadata": {},
   "outputs": [],
   "source": [
    "s='hello'"
   ]
  },
  {
   "cell_type": "code",
   "execution_count": 35,
   "id": "66e4dbbd",
   "metadata": {},
   "outputs": [
    {
     "data": {
      "text/plain": [
       "True"
      ]
     },
     "execution_count": 35,
     "metadata": {},
     "output_type": "execute_result"
    }
   ],
   "source": [
    "s.isalpha()"
   ]
  },
  {
   "cell_type": "code",
   "execution_count": 37,
   "id": "6f4c637a",
   "metadata": {},
   "outputs": [
    {
     "data": {
      "text/plain": [
       "True"
      ]
     },
     "execution_count": 37,
     "metadata": {},
     "output_type": "execute_result"
    }
   ],
   "source": [
    "s.isalnum()"
   ]
  },
  {
   "cell_type": "code",
   "execution_count": 38,
   "id": "771d00c5",
   "metadata": {},
   "outputs": [
    {
     "data": {
      "text/plain": [
       "False"
      ]
     },
     "execution_count": 38,
     "metadata": {},
     "output_type": "execute_result"
    }
   ],
   "source": [
    "s.isspace()"
   ]
  },
  {
   "cell_type": "code",
   "execution_count": 39,
   "id": "416303ef",
   "metadata": {},
   "outputs": [
    {
     "data": {
      "text/plain": [
       "False"
      ]
     },
     "execution_count": 39,
     "metadata": {},
     "output_type": "execute_result"
    }
   ],
   "source": [
    "s.istitle()"
   ]
  },
  {
   "cell_type": "code",
   "execution_count": 40,
   "id": "74f772a1",
   "metadata": {},
   "outputs": [
    {
     "data": {
      "text/plain": [
       "True"
      ]
     },
     "execution_count": 40,
     "metadata": {},
     "output_type": "execute_result"
    }
   ],
   "source": [
    "s.endswith('o')"
   ]
  },
  {
   "cell_type": "code",
   "execution_count": 41,
   "id": "5160da50",
   "metadata": {},
   "outputs": [
    {
     "data": {
      "text/plain": [
       "['h', 'llo']"
      ]
     },
     "execution_count": 41,
     "metadata": {},
     "output_type": "execute_result"
    }
   ],
   "source": [
    "s.split('e')"
   ]
  },
  {
   "cell_type": "code",
   "execution_count": 42,
   "id": "d1616204",
   "metadata": {},
   "outputs": [
    {
     "data": {
      "text/plain": [
       "('h', 'e', 'llo')"
      ]
     },
     "execution_count": 42,
     "metadata": {},
     "output_type": "execute_result"
    }
   ],
   "source": [
    "s.partition('e')###partition,before,after"
   ]
  },
  {
   "cell_type": "code",
   "execution_count": 43,
   "id": "b60db0dc",
   "metadata": {},
   "outputs": [],
   "source": [
    "#######seee notebook....."
   ]
  },
  {
   "cell_type": "code",
   "execution_count": 44,
   "id": "69b03d5d",
   "metadata": {},
   "outputs": [
    {
     "data": {
      "text/plain": [
       "{0: 0, 1: 1, 2: 4, 3: 9, 4: 16, 5: 25, 6: 36, 7: 49, 8: 64}"
      ]
     },
     "execution_count": 44,
     "metadata": {},
     "output_type": "execute_result"
    }
   ],
   "source": [
    "##dictionary comprehension\n",
    "{x:x**2 for x in range(0,9)}"
   ]
  },
  {
   "cell_type": "code",
   "execution_count": null,
   "id": "7da32114",
   "metadata": {},
   "outputs": [],
   "source": [
    "#####gui"
   ]
  },
  {
   "cell_type": "code",
   "execution_count": null,
   "id": "aec6e4c8",
   "metadata": {},
   "outputs": [],
   "source": [
    "from ipywidgets import interact, interactive, fixed\n",
    "import ipywidgets as widgets"
   ]
  },
  {
   "cell_type": "code",
   "execution_count": null,
   "id": "a3411703",
   "metadata": {},
   "outputs": [],
   "source": [
    "def func(x):\n",
    "    return x"
   ]
  },
  {
   "cell_type": "code",
   "execution_count": null,
   "id": "1efc9e01",
   "metadata": {},
   "outputs": [],
   "source": [
    "interact(func,x=10)###func and then argument"
   ]
  },
  {
   "cell_type": "code",
   "execution_count": null,
   "id": "f5efb28e",
   "metadata": {},
   "outputs": [],
   "source": []
  },
  {
   "cell_type": "code",
   "execution_count": null,
   "id": "a07c5334",
   "metadata": {},
   "outputs": [],
   "source": []
  }
 ],
 "metadata": {
  "kernelspec": {
   "display_name": "Python 3 (ipykernel)",
   "language": "python",
   "name": "python3"
  },
  "language_info": {
   "codemirror_mode": {
    "name": "ipython",
    "version": 3
   },
   "file_extension": ".py",
   "mimetype": "text/x-python",
   "name": "python",
   "nbconvert_exporter": "python",
   "pygments_lexer": "ipython3",
   "version": "3.11.7"
  }
 },
 "nbformat": 4,
 "nbformat_minor": 5
}
