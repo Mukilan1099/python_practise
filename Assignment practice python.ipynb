{
 "cells": [
  {
   "cell_type": "markdown",
   "id": "07517170",
   "metadata": {},
   "source": [
    "Program to Reverse a string"
   ]
  },
  {
   "cell_type": "code",
   "execution_count": 1,
   "id": "1d677d35",
   "metadata": {},
   "outputs": [
    {
     "data": {
      "text/plain": [
       "'olleh'"
      ]
     },
     "execution_count": 1,
     "metadata": {},
     "output_type": "execute_result"
    }
   ],
   "source": [
    "a=\"hello\"\n",
    "a[::-1]"
   ]
  },
  {
   "cell_type": "markdown",
   "id": "5cdd0757",
   "metadata": {},
   "source": [
    "progrm to find whether a word is palindrome or not"
   ]
  },
  {
   "cell_type": "code",
   "execution_count": 3,
   "id": "b2fddbec",
   "metadata": {},
   "outputs": [],
   "source": [
    "stro=\"NuRses run\"\n",
    "def palindrome(stro):\n",
    "    a=stro.replace(' ','')\n",
    "    a=a.lower()\n",
    "    if a[::]==a[::-1]:\n",
    "        print(\"palindrome\")\n",
    "    else:\n",
    "        return False"
   ]
  },
  {
   "cell_type": "code",
   "execution_count": 4,
   "id": "b370f014",
   "metadata": {},
   "outputs": [
    {
     "name": "stdout",
     "output_type": "stream",
     "text": [
      "palindrome\n"
     ]
    }
   ],
   "source": [
    "palindrome(stro)"
   ]
  },
  {
   "cell_type": "markdown",
   "id": "7337af87",
   "metadata": {},
   "source": [
    "Write a function to read a file (create a txt file with some text) and find the count of some word in the file content. Function should take the word as input and then search for it in the file and give the count of how many times the word appears in the file. Output can be a dictionary {\"ball\": 5}"
   ]
  },
  {
   "cell_type": "code",
   "execution_count": 5,
   "id": "b30a0d71",
   "metadata": {},
   "outputs": [
    {
     "name": "stdout",
     "output_type": "stream",
     "text": [
      "Overwriting messi.txt\n"
     ]
    }
   ],
   "source": [
    "%%writefile messi.txt\n",
    "hello i am lionel\n",
    "messi i am a world champion\n",
    "lionel is best to known "
   ]
  },
  {
   "cell_type": "code",
   "execution_count": 8,
   "id": "49088389",
   "metadata": {},
   "outputs": [],
   "source": [
    "def findword(word):\n",
    "    with open(\"messi.txt\",mode=\"r\") as b:\n",
    "        messi=b.read()\n",
    "        lionel=messi.split()\n",
    "        counting=lionel.count(word)\n",
    "        return{word:counting}"
   ]
  },
  {
   "cell_type": "code",
   "execution_count": 9,
   "id": "23dd1cf2",
   "metadata": {},
   "outputs": [
    {
     "data": {
      "text/plain": [
       "{'lionel': 2}"
      ]
     },
     "execution_count": 9,
     "metadata": {},
     "output_type": "execute_result"
    }
   ],
   "source": [
    "findword('lionel')"
   ]
  },
  {
   "cell_type": "markdown",
   "id": "dfb0ce54",
   "metadata": {},
   "source": [
    "simple calculator"
   ]
  },
  {
   "cell_type": "code",
   "execution_count": 19,
   "id": "e863f260",
   "metadata": {},
   "outputs": [],
   "source": [
    "class calculator():\n",
    "    def __init__(self,a,b):\n",
    "        self.a=a\n",
    "        self.b=b\n",
    "    def add(self):\n",
    "        print(self.a+self.b)\n",
    "    def sub(self):\n",
    "        print(self.a-self.b)\n",
    "    def mul(self):\n",
    "        print(self.a*self.b)\n",
    "    def div(self):\n",
    "        print(self.a/self.b)\n",
    "obj=calculator(8,2)"
   ]
  },
  {
   "cell_type": "code",
   "execution_count": 20,
   "id": "91b56b04",
   "metadata": {},
   "outputs": [
    {
     "name": "stdout",
     "output_type": "stream",
     "text": [
      "10\n"
     ]
    }
   ],
   "source": [
    "obj.add()"
   ]
  },
  {
   "cell_type": "code",
   "execution_count": 22,
   "id": "4ef24597",
   "metadata": {},
   "outputs": [
    {
     "name": "stdout",
     "output_type": "stream",
     "text": [
      "6\n"
     ]
    }
   ],
   "source": [
    "obj.sub()"
   ]
  },
  {
   "cell_type": "code",
   "execution_count": 23,
   "id": "bf34bb67",
   "metadata": {},
   "outputs": [
    {
     "name": "stdout",
     "output_type": "stream",
     "text": [
      "16\n"
     ]
    }
   ],
   "source": [
    "obj.mul()"
   ]
  },
  {
   "cell_type": "code",
   "execution_count": 24,
   "id": "7a26b607",
   "metadata": {},
   "outputs": [
    {
     "name": "stdout",
     "output_type": "stream",
     "text": [
      "4.0\n"
     ]
    }
   ],
   "source": [
    "obj.div()"
   ]
  },
  {
   "cell_type": "code",
   "execution_count": null,
   "id": "c3b2a0dd",
   "metadata": {},
   "outputs": [],
   "source": []
  },
  {
   "cell_type": "markdown",
   "id": "d7539466",
   "metadata": {},
   "source": [
    "Using decorator,finding the time needed to execute the function"
   ]
  },
  {
   "cell_type": "code",
   "execution_count": 10,
   "id": "d8f96ff7",
   "metadata": {},
   "outputs": [
    {
     "name": "stdout",
     "output_type": "stream",
     "text": [
      "initial is 1714650169.8724537\n",
      "hariharan\n",
      "final is 1714650171.8835554\n",
      "elapsed time is 2.011101722717285\n"
     ]
    }
   ],
   "source": [
    "import time\n",
    "def decor(fun):\n",
    "    def sub():\n",
    "        current=time.time()\n",
    "        print('initial is',current)\n",
    "        fun()\n",
    "        after=time.time()\n",
    "        print('final is',after)\n",
    "        elapsed_time=after-current\n",
    "        print('elapsed time is',elapsed_time)\n",
    "    return sub\n",
    "@decor\n",
    "def new():\n",
    "    time.sleep(2)\n",
    "    print(\"hariharan\")\n",
    "#new=decor(new)\n",
    "    \n",
    "new()"
   ]
  },
  {
   "cell_type": "markdown",
   "id": "c788943c",
   "metadata": {},
   "source": [
    "function to count the number of times the letters occured in a word and giving result in dictionary. "
   ]
  },
  {
   "cell_type": "code",
   "execution_count": 25,
   "id": "4794f502",
   "metadata": {},
   "outputs": [
    {
     "data": {
      "text/plain": [
       "{'H': 1, 'e': 1, 'l': 2, 'o': 1}"
      ]
     },
     "execution_count": 25,
     "metadata": {},
     "output_type": "execute_result"
    }
   ],
   "source": [
    "s = \"Hello\"\n",
    "def countchar(s):\n",
    "    d = {}\n",
    "    for char in s:\n",
    "        if char in d:\n",
    "            d[char] += 1\n",
    "        else:\n",
    "            d[char] = 1\n",
    "    return d\n",
    "countchar(s)"
   ]
  },
  {
   "cell_type": "code",
   "execution_count": null,
   "id": "6536249c",
   "metadata": {},
   "outputs": [],
   "source": []
  }
 ],
 "metadata": {
  "kernelspec": {
   "display_name": "Python 3 (ipykernel)",
   "language": "python",
   "name": "python3"
  },
  "language_info": {
   "codemirror_mode": {
    "name": "ipython",
    "version": 3
   },
   "file_extension": ".py",
   "mimetype": "text/x-python",
   "name": "python",
   "nbconvert_exporter": "python",
   "pygments_lexer": "ipython3",
   "version": "3.11.7"
  }
 },
 "nbformat": 4,
 "nbformat_minor": 5
}
