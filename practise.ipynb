{
 "cells": [
  {
   "cell_type": "code",
   "execution_count": 1,
   "id": "a900be82-1118-4bad-96c0-b5284b404ae9",
   "metadata": {},
   "outputs": [],
   "source": [
    "from random import shuffle"
   ]
  },
  {
   "cell_type": "code",
   "execution_count": 2,
   "id": "613fa871-ada9-4ec0-b9c4-8d8c289c7e5c",
   "metadata": {},
   "outputs": [],
   "source": [
    "def shufflelist(list):\n",
    "    shuffle(list)\n",
    "    return list"
   ]
  },
  {
   "cell_type": "code",
   "execution_count": 3,
   "id": "b5a2de0b-8f52-45a6-83af-07a0d1474a69",
   "metadata": {},
   "outputs": [],
   "source": [
    "list=['','0','']"
   ]
  },
  {
   "cell_type": "code",
   "execution_count": 4,
   "id": "c4aed678-6ac4-4c52-bf10-7538ae49959e",
   "metadata": {},
   "outputs": [],
   "source": [
    "shuffle(list)"
   ]
  },
  {
   "cell_type": "code",
   "execution_count": 5,
   "id": "28f9184a-6e46-46fc-83f5-ad9b0bf974b2",
   "metadata": {},
   "outputs": [
    {
     "data": {
      "text/plain": [
       "['', '', '0']"
      ]
     },
     "execution_count": 5,
     "metadata": {},
     "output_type": "execute_result"
    }
   ],
   "source": [
    "list"
   ]
  },
  {
   "cell_type": "code",
   "execution_count": 31,
   "id": "f4861656-4fa0-4967-9444-e945301da188",
   "metadata": {},
   "outputs": [],
   "source": [
    "result=shufflelist(list)"
   ]
  },
  {
   "cell_type": "code",
   "execution_count": 32,
   "id": "c8ef2855-f6c8-4e3c-b998-72b08b02bcf9",
   "metadata": {},
   "outputs": [
    {
     "data": {
      "text/plain": [
       "['', 'o', '']"
      ]
     },
     "execution_count": 32,
     "metadata": {},
     "output_type": "execute_result"
    }
   ],
   "source": [
    "result"
   ]
  },
  {
   "cell_type": "code",
   "execution_count": 56,
   "id": "5e86f912-97df-40e2-a779-3c5e227e6dfb",
   "metadata": {},
   "outputs": [
    {
     "data": {
      "text/plain": [
       "['', '', 'o']"
      ]
     },
     "execution_count": 56,
     "metadata": {},
     "output_type": "execute_result"
    }
   ],
   "source": [
    "list"
   ]
  },
  {
   "cell_type": "code",
   "execution_count": 54,
   "id": "50d23822-7ecc-448a-8c32-e025989031f7",
   "metadata": {},
   "outputs": [],
   "source": [
    "def guess():\n",
    "    guess=''\n",
    "    while guess not in ['0','1','2']:\n",
    "        guess=input()\n",
    "    return int(guess)"
   ]
  },
  {
   "cell_type": "code",
   "execution_count": 55,
   "id": "c7a5d249-fd41-4b4f-86bc-7c45fb38f401",
   "metadata": {},
   "outputs": [
    {
     "name": "stdin",
     "output_type": "stream",
     "text": [
      " 2\n"
     ]
    },
    {
     "data": {
      "text/plain": [
       "2"
      ]
     },
     "execution_count": 55,
     "metadata": {},
     "output_type": "execute_result"
    }
   ],
   "source": [
    "guess()\n",
    "\n"
   ]
  },
  {
   "cell_type": "code",
   "execution_count": 52,
   "id": "73de4afb-21a3-47b0-bf42-95d4567dffb1",
   "metadata": {},
   "outputs": [],
   "source": [
    "def checkguess(list,guess):\n",
    "    if list[guess]=='0':\n",
    "        print('correct')\n",
    "    else:\n",
    "        print('wrong')\n",
    "        print(list)"
   ]
  },
  {
   "cell_type": "code",
   "execution_count": 57,
   "id": "b4dda6dc-884f-4843-89ac-0bedc02913aa",
   "metadata": {},
   "outputs": [
    {
     "name": "stdout",
     "output_type": "stream",
     "text": [
      "correct\n"
     ]
    }
   ],
   "source": [
    "checkguess(list,2)"
   ]
  },
  {
   "cell_type": "code",
   "execution_count": 58,
   "id": "0ae8047b-67de-49a6-8821-134d61f2c9b6",
   "metadata": {},
   "outputs": [
    {
     "name": "stdin",
     "output_type": "stream",
     "text": [
      " 2\n"
     ]
    },
    {
     "name": "stdout",
     "output_type": "stream",
     "text": [
      "wrong\n",
      "['', '0', '']\n"
     ]
    }
   ],
   "source": [
    "list=['','0','']\n",
    "result=shufflelist(list)\n",
    "y=guess()\n",
    "c=checkguess(result,y)\n"
   ]
  },
  {
   "cell_type": "code",
   "execution_count": 2,
   "id": "205485b7-3321-4a8d-a80f-a796219175fe",
   "metadata": {},
   "outputs": [
    {
     "name": "stdout",
     "output_type": "stream",
     "text": [
      "['#', 'X', 'O', 'X', 'O', 'X', 'O', 'X', 'O', 'X']\n"
     ]
    }
   ],
   "source": [
    "#test_board = ['#','X','O','X','O','X','O','X','O','X']\n",
    "#print(test_board)"
   ]
  },
  {
   "cell_type": "code",
   "execution_count": 3,
   "id": "61dca10d-12bd-4103-9bdb-6a00fd632c73",
   "metadata": {},
   "outputs": [],
   "source": [
    "from IPython.display import clear_output\n",
    "def display_board(board):\n",
    "    clear_output()\n",
    "    print(board[7]+'|'+board[8]+'|'+board[9]+'|')\n",
    "    print(board[4]+'|'+board[5]+'|'+board[6]+'|') \n",
    "    print(board[1]+'|'+board[2]+'|'+board[3]+'|')"
   ]
  },
  {
   "cell_type": "code",
   "execution_count": 4,
   "id": "e06680aa-ed77-49f7-8e38-faa372e43cc2",
   "metadata": {},
   "outputs": [],
   "source": [
    "test_board = ['#','X','O','X','O','X','O','X','O','X']"
   ]
  },
  {
   "cell_type": "code",
   "execution_count": 5,
   "id": "9e3b34bd-e4c4-486a-981d-e02a56b7963e",
   "metadata": {},
   "outputs": [
    {
     "name": "stdout",
     "output_type": "stream",
     "text": [
      "X|O|X|\n",
      "O|X|O|\n",
      "X|O|X|\n"
     ]
    }
   ],
   "source": [
    "display_board(test_board)"
   ]
  },
  {
   "cell_type": "code",
   "execution_count": 6,
   "id": "26270a07-c2d5-4e6e-a8be-77903bde1408",
   "metadata": {},
   "outputs": [],
   "source": [
    "def player_input():\n",
    "    marker=''\n",
    "    while marker != 'X' and marker != 'O':####while not(marker=='X' or marker=='O')\n",
    "        marker = input('Player 1: Do you want to be X or O? ').upper()\n",
    "    if marker=='X':\n",
    "        return ('X','O')\n",
    "    else:\n",
    "        return('O','X')\n",
    "        "
   ]
  },
  {
   "cell_type": "code",
   "execution_count": 7,
   "id": "cf1fcbc3-dfc9-4e0a-b817-9e16c91d6ea1",
   "metadata": {},
   "outputs": [
    {
     "name": "stdin",
     "output_type": "stream",
     "text": [
      "Player 1: Do you want to be X or O?  x\n"
     ]
    },
    {
     "data": {
      "text/plain": [
       "('X', 'O')"
      ]
     },
     "execution_count": 7,
     "metadata": {},
     "output_type": "execute_result"
    }
   ],
   "source": [
    "player_input()"
   ]
  },
  {
   "cell_type": "code",
   "execution_count": 8,
   "id": "7812d0dc-0c53-4118-936c-8a99f15958ef",
   "metadata": {},
   "outputs": [
    {
     "name": "stdin",
     "output_type": "stream",
     "text": [
      "Player 1: Do you want to be X or O?  x\n"
     ]
    }
   ],
   "source": [
    "player1,player2=player_input()"
   ]
  },
  {
   "cell_type": "code",
   "execution_count": 9,
   "id": "8a9e09bc-c42a-476a-92e6-23b7231af417",
   "metadata": {},
   "outputs": [
    {
     "data": {
      "text/plain": [
       "'X'"
      ]
     },
     "execution_count": 9,
     "metadata": {},
     "output_type": "execute_result"
    }
   ],
   "source": [
    "player1"
   ]
  },
  {
   "cell_type": "code",
   "execution_count": 10,
   "id": "669d662c-882b-4312-b4c6-a14a2f72e20b",
   "metadata": {},
   "outputs": [
    {
     "data": {
      "text/plain": [
       "'O'"
      ]
     },
     "execution_count": 10,
     "metadata": {},
     "output_type": "execute_result"
    }
   ],
   "source": [
    "player2"
   ]
  },
  {
   "cell_type": "code",
   "execution_count": 15,
   "id": "50de40c2-b6f3-41ea-9d9b-1f44c10da428",
   "metadata": {},
   "outputs": [],
   "source": [
    "def placeholder(board,marker,position):\n",
    "    board[position]=marker"
   ]
  },
  {
   "cell_type": "code",
   "execution_count": 16,
   "id": "10a7ac7b-55df-4ab4-a98d-5c9d9b565218",
   "metadata": {},
   "outputs": [
    {
     "data": {
      "text/plain": [
       "['#', 'X', 'O', 'X', 'O', 'X', 'O', 'X', 'O', 'X']"
      ]
     },
     "execution_count": 16,
     "metadata": {},
     "output_type": "execute_result"
    }
   ],
   "source": [
    "test_board"
   ]
  },
  {
   "cell_type": "code",
   "execution_count": 34,
   "id": "1566d481-3175-4653-a45e-24b8a27775bc",
   "metadata": {},
   "outputs": [
    {
     "name": "stdout",
     "output_type": "stream",
     "text": [
      "X|$|$|\n",
      "O|X|O|\n",
      "$|$|$|\n"
     ]
    }
   ],
   "source": [
    "placeholder(test_board,'$',3)\n",
    "display_board(test_board)"
   ]
  },
  {
   "cell_type": "code",
   "execution_count": 35,
   "id": "0dd4bab7-8403-4541-90f3-b96a58c7bced",
   "metadata": {},
   "outputs": [],
   "source": [
    "def wincheck(board,mark):\n",
    "    return ((board[7] == mark and board[8] == mark and board[9] == mark) or # across the top\n",
    "    (board[4] == mark and board[5] == mark and board[6] == mark) or # across the middle\n",
    "    (board[1] == mark and board[2] == mark and board[3] == mark) or # across the bottom\n",
    "    (board[7] == mark and board[4] == mark and board[1] == mark) or # down the middle\n",
    "    (board[8] == mark and board[5] == mark and board[2] == mark) or # down the middle\n",
    "    (board[9] == mark and board[6] == mark and board[3] == mark) or # down the right side\n",
    "    (board[7] == mark and board[5] == mark and board[3] == mark) or # diagonal\n",
    "    (board[9] == mark and board[5] == mark and board[1] == mark)) # diagonal"
   ]
  },
  {
   "cell_type": "code",
   "execution_count": 36,
   "id": "604f2e26-3fc5-40de-a749-31ba4b90efdc",
   "metadata": {},
   "outputs": [
    {
     "data": {
      "text/plain": [
       "False"
      ]
     },
     "execution_count": 36,
     "metadata": {},
     "output_type": "execute_result"
    }
   ],
   "source": [
    "wincheck(test_board,'X')\n"
   ]
  },
  {
   "cell_type": "code",
   "execution_count": 37,
   "id": "ab82c31a-bcf6-4a37-a5a3-8fce1b72fb52",
   "metadata": {},
   "outputs": [],
   "source": [
    "import random\n",
    "def choose():\n",
    "    if random.randint(0,1)==0:\n",
    "        return player2\n",
    "    else:\n",
    "        return player1\n",
    "        "
   ]
  },
  {
   "cell_type": "code",
   "execution_count": 38,
   "id": "56431d14-10be-47c5-910b-cd112a64f7e2",
   "metadata": {},
   "outputs": [],
   "source": [
    "def space_check(board,position):\n",
    "    return board[position]==' '"
   ]
  },
  {
   "cell_type": "code",
   "execution_count": 41,
   "id": "c04648c5-237d-4218-bbb9-e6db2d6d2439",
   "metadata": {},
   "outputs": [],
   "source": [
    "def full_board_check(board):\n",
    "    for i in range(1,10):\n",
    "        if space_check(board, i):\n",
    "            return False\n",
    "    return True"
   ]
  },
  {
   "cell_type": "code",
   "execution_count": 42,
   "id": "3c2b577b-b818-4eb4-a657-94d0186b7a85",
   "metadata": {},
   "outputs": [],
   "source": [
    "def player_choice(board):\n",
    "    position = 0\n",
    "    \n",
    "    while position not in [1,2,3,4,5,6,7,8,9] or not space_check(board, position):\n",
    "        position = int(input('Choose your next position: (1-9) '))\n",
    "        \n",
    "    return position"
   ]
  },
  {
   "cell_type": "code",
   "execution_count": 43,
   "id": "fbc67400-6729-4183-a01c-e25bd93a8f22",
   "metadata": {},
   "outputs": [],
   "source": [
    "\n",
    "def replay():\n",
    "    \n",
    "    return input('Do you want to play again? Enter Yes or No: ').lower().startswith('y')"
   ]
  },
  {
   "cell_type": "code",
   "execution_count": null,
   "id": "b96293b4-c6b1-456b-84a4-6cf8bf1afd63",
   "metadata": {},
   "outputs": [],
   "source": []
  }
 ],
 "metadata": {
  "kernelspec": {
   "display_name": "Python 3 (ipykernel)",
   "language": "python",
   "name": "python3"
  },
  "language_info": {
   "codemirror_mode": {
    "name": "ipython",
    "version": 3
   },
   "file_extension": ".py",
   "mimetype": "text/x-python",
   "name": "python",
   "nbconvert_exporter": "python",
   "pygments_lexer": "ipython3",
   "version": "3.11.7"
  }
 },
 "nbformat": 4,
 "nbformat_minor": 5
}
