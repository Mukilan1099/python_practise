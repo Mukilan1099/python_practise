{
 "cells": [
  {
   "cell_type": "code",
   "execution_count": 2,
   "id": "1c3bd8ae-b1fa-4c5a-8613-444fdd2200fa",
   "metadata": {},
   "outputs": [
    {
     "name": "stdout",
     "output_type": "stream",
     "text": [
      "this is very important message\n"
     ]
    }
   ],
   "source": [
    "print(\"this is very {}\".format('important message'))"
   ]
  },
  {
   "cell_type": "code",
   "execution_count": 6,
   "id": "622f8b9f-9b32-4a10-95cd-1131eed7673d",
   "metadata": {},
   "outputs": [
    {
     "name": "stdout",
     "output_type": "stream",
     "text": [
      "this is very important message for people\n"
     ]
    }
   ],
   "source": [
    "print(\"this is very {} {} {}\".format('important message',\"for\",'people'))"
   ]
  },
  {
   "cell_type": "code",
   "execution_count": 8,
   "id": "53fa4034-390e-4a52-8a99-49747f10c5ce",
   "metadata": {},
   "outputs": [
    {
     "name": "stdout",
     "output_type": "stream",
     "text": [
      "this is very people for important message\n"
     ]
    }
   ],
   "source": [
    "print(\"this is very {2} {1} {0}\".format('important message',\"for\",'people'))"
   ]
  },
  {
   "cell_type": "code",
   "execution_count": 9,
   "id": "18f168ca-332e-40b3-8987-341eaa83e1ef",
   "metadata": {},
   "outputs": [
    {
     "name": "stdout",
     "output_type": "stream",
     "text": [
      "this is very important message important message important message\n"
     ]
    }
   ],
   "source": [
    "print(\"this is very {0} {0} {0}\".format('important message',\"for\",'people'))"
   ]
  },
  {
   "cell_type": "code",
   "execution_count": 12,
   "id": "4c29c4db-4981-409c-8614-f7c682d5952d",
   "metadata": {},
   "outputs": [
    {
     "name": "stdout",
     "output_type": "stream",
     "text": [
      "this is very important message for people\n"
     ]
    }
   ],
   "source": [
    "print(\"this is very {a} {b} {c}\".format(a='important message',b=\"for\",c='people'))"
   ]
  },
  {
   "cell_type": "code",
   "execution_count": 13,
   "id": "d7197e1e-c066-4df5-9b0a-a601a284af24",
   "metadata": {},
   "outputs": [],
   "source": [
    "c=100/7"
   ]
  },
  {
   "cell_type": "code",
   "execution_count": 14,
   "id": "5014a88a-fd02-4606-9b11-5ed9841f75f5",
   "metadata": {},
   "outputs": [
    {
     "data": {
      "text/plain": [
       "14.285714285714286"
      ]
     },
     "execution_count": 14,
     "metadata": {},
     "output_type": "execute_result"
    }
   ],
   "source": [
    "c"
   ]
  },
  {
   "cell_type": "code",
   "execution_count": 21,
   "id": "4309b089-d087-48c8-9577-39d84abaf7c5",
   "metadata": {},
   "outputs": [
    {
     "name": "stdout",
     "output_type": "stream",
     "text": [
      "the number value is 14.28571\n"
     ]
    }
   ],
   "source": [
    "print(\"the number value is {d:1.5f}\".format(d=c))"
   ]
  },
  {
   "cell_type": "code",
   "execution_count": 22,
   "id": "7689f33d-3c03-42ec-8a0d-a8a3c4acf1b2",
   "metadata": {},
   "outputs": [
    {
     "name": "stdout",
     "output_type": "stream",
     "text": [
      "my name is BHUVI\n"
     ]
    }
   ],
   "source": [
    "j='BHUVI'\n",
    "print(\"my name is {}\".format(j))"
   ]
  },
  {
   "cell_type": "code",
   "execution_count": 23,
   "id": "0858ba8c-27f7-4f1b-ba5c-fe26c5ba11c6",
   "metadata": {},
   "outputs": [
    {
     "name": "stdout",
     "output_type": "stream",
     "text": [
      "my name isBHUVI\n"
     ]
    }
   ],
   "source": [
    "print(f\"my name is{j}\")"
   ]
  },
  {
   "cell_type": "code",
   "execution_count": 24,
   "id": "22d4735a-7441-4770-afc6-2c92e99485e8",
   "metadata": {},
   "outputs": [
    {
     "data": {
      "text/plain": [
       "4"
      ]
     },
     "execution_count": 24,
     "metadata": {},
     "output_type": "execute_result"
    }
   ],
   "source": [
    "tup=(1,2,3,4,5,6)\n",
    "tup[3]"
   ]
  },
  {
   "cell_type": "code",
   "execution_count": 25,
   "id": "6c409844-9657-444e-8e3b-0acd8ac05527",
   "metadata": {},
   "outputs": [
    {
     "data": {
      "text/plain": [
       "(2, 3, 4)"
      ]
     },
     "execution_count": 25,
     "metadata": {},
     "output_type": "execute_result"
    }
   ],
   "source": [
    "tup[1:4]"
   ]
  },
  {
   "cell_type": "code",
   "execution_count": 29,
   "id": "63179296-a16b-4dfa-aad8-3e965a3f1443",
   "metadata": {},
   "outputs": [],
   "source": [
    "lst=[3,4]\n",
    "lst[0]='8'"
   ]
  },
  {
   "cell_type": "code",
   "execution_count": 30,
   "id": "39453a23-88de-4ee8-a18f-2321d21c95da",
   "metadata": {},
   "outputs": [
    {
     "data": {
      "text/plain": [
       "['8', 4]"
      ]
     },
     "execution_count": 30,
     "metadata": {},
     "output_type": "execute_result"
    }
   ],
   "source": [
    "lst"
   ]
  },
  {
   "cell_type": "code",
   "execution_count": 32,
   "id": "4ad3e457-9b28-4db9-b795-d1495234be22",
   "metadata": {},
   "outputs": [],
   "source": [
    "a=set()"
   ]
  },
  {
   "cell_type": "code",
   "execution_count": 33,
   "id": "ee74c788-ddb9-4236-915b-eba1a3087ddd",
   "metadata": {},
   "outputs": [
    {
     "data": {
      "text/plain": [
       "set()"
      ]
     },
     "execution_count": 33,
     "metadata": {},
     "output_type": "execute_result"
    }
   ],
   "source": [
    "a"
   ]
  },
  {
   "cell_type": "code",
   "execution_count": 34,
   "id": "11965d5e-9418-4450-b803-4af862e31da8",
   "metadata": {},
   "outputs": [
    {
     "name": "stdout",
     "output_type": "stream",
     "text": [
      "{5}\n"
     ]
    }
   ],
   "source": [
    "a.add(5)\n",
    "print(a)"
   ]
  },
  {
   "cell_type": "code",
   "execution_count": 35,
   "id": "b49da0b4-c4d7-4bca-82d4-24fe95804afc",
   "metadata": {},
   "outputs": [],
   "source": [
    "a.add(6)"
   ]
  },
  {
   "cell_type": "code",
   "execution_count": 36,
   "id": "e1b8f086-0d48-4447-af76-3b5156d7b5b9",
   "metadata": {},
   "outputs": [
    {
     "data": {
      "text/plain": [
       "{5, 6}"
      ]
     },
     "execution_count": 36,
     "metadata": {},
     "output_type": "execute_result"
    }
   ],
   "source": [
    "a"
   ]
  },
  {
   "cell_type": "code",
   "execution_count": 46,
   "id": "c9d41969-aafb-4ce6-b108-48bc20446b70",
   "metadata": {},
   "outputs": [
    {
     "data": {
      "text/plain": [
       "{6, 8, 55, 88}"
      ]
     },
     "execution_count": 46,
     "metadata": {},
     "output_type": "execute_result"
    }
   ],
   "source": [
    "l=[55,55,6,6,8,88]\n",
    "set(l)"
   ]
  },
  {
   "cell_type": "code",
   "execution_count": 55,
   "id": "bcd0d38a-63a5-402c-93d0-6301db2d7175",
   "metadata": {},
   "outputs": [
    {
     "data": {
      "text/plain": [
       "{6, 8, 55, 88}"
      ]
     },
     "execution_count": 55,
     "metadata": {},
     "output_type": "execute_result"
    }
   ],
   "source": [
    "set(l)"
   ]
  },
  {
   "cell_type": "code",
   "execution_count": 60,
   "id": "d20f24e9-390f-46a3-9c6e-a4606b6c7891",
   "metadata": {},
   "outputs": [],
   "source": [
    "a={4,5,6,3,21}"
   ]
  },
  {
   "cell_type": "code",
   "execution_count": 61,
   "id": "934a4db4-d0b2-4e76-aef8-049b2ccce79a",
   "metadata": {},
   "outputs": [
    {
     "data": {
      "text/plain": [
       "3"
      ]
     },
     "execution_count": 61,
     "metadata": {},
     "output_type": "execute_result"
    }
   ],
   "source": [
    "a.pop()"
   ]
  },
  {
   "cell_type": "code",
   "execution_count": 62,
   "id": "2a8d1d13-f964-4b60-9a6c-b894ad3ac4b2",
   "metadata": {},
   "outputs": [
    {
     "name": "stdout",
     "output_type": "stream",
     "text": [
      "{4, 5, 6, 21}\n"
     ]
    }
   ],
   "source": [
    "print(a)"
   ]
  },
  {
   "cell_type": "code",
   "execution_count": 63,
   "id": "84ba465b-990f-495e-9f7c-71c7d30a13ad",
   "metadata": {},
   "outputs": [
    {
     "data": {
      "text/plain": [
       "{'a', 'h', 'i', 'k', 'l', 'm', 'r', 'u'}"
      ]
     },
     "execution_count": 63,
     "metadata": {},
     "output_type": "execute_result"
    }
   ],
   "source": [
    "set(\"harimukil\")"
   ]
  },
  {
   "cell_type": "code",
   "execution_count": 64,
   "id": "51526b70-fa3f-431c-8584-a8a1788958f0",
   "metadata": {},
   "outputs": [
    {
     "name": "stdout",
     "output_type": "stream",
     "text": [
      "Writing practise.txt\n"
     ]
    }
   ],
   "source": [
    "%%writefile practise.txt\n",
    "hi i am practising\n",
    "it is very good to praactise"
   ]
  },
  {
   "cell_type": "code",
   "execution_count": 65,
   "id": "2af4b664-65db-41b2-9462-7ffb3e4fb2a7",
   "metadata": {},
   "outputs": [],
   "source": [
    "file=open('practise.txt')"
   ]
  },
  {
   "cell_type": "code",
   "execution_count": 66,
   "id": "f1ea60d7-6c57-43e5-8b27-19239d6af8c1",
   "metadata": {},
   "outputs": [
    {
     "data": {
      "text/plain": [
       "'hi i am practising\\nit is very good to praactise\\n'"
      ]
     },
     "execution_count": 66,
     "metadata": {},
     "output_type": "execute_result"
    }
   ],
   "source": [
    "file.read()"
   ]
  },
  {
   "cell_type": "code",
   "execution_count": 67,
   "id": "53eea4fa-ed77-427b-9127-f2b1607aa961",
   "metadata": {},
   "outputs": [
    {
     "data": {
      "text/plain": [
       "''"
      ]
     },
     "execution_count": 67,
     "metadata": {},
     "output_type": "execute_result"
    }
   ],
   "source": [
    "file.read()"
   ]
  },
  {
   "cell_type": "code",
   "execution_count": 68,
   "id": "df77b4f4-2f07-4f74-a9f7-53ac31f74e9a",
   "metadata": {},
   "outputs": [
    {
     "data": {
      "text/plain": [
       "0"
      ]
     },
     "execution_count": 68,
     "metadata": {},
     "output_type": "execute_result"
    }
   ],
   "source": [
    "file.seek(0)"
   ]
  },
  {
   "cell_type": "code",
   "execution_count": 69,
   "id": "4dec4439-3507-414d-b105-3d1f7d9bf028",
   "metadata": {},
   "outputs": [
    {
     "data": {
      "text/plain": [
       "'hi i am practising\\nit is very good to praactise\\n'"
      ]
     },
     "execution_count": 69,
     "metadata": {},
     "output_type": "execute_result"
    }
   ],
   "source": [
    "file.read()"
   ]
  },
  {
   "cell_type": "code",
   "execution_count": 70,
   "id": "f76e6af6-cbba-4ef0-8ec7-201e37aa1ee4",
   "metadata": {},
   "outputs": [],
   "source": [
    "file.close()"
   ]
  },
  {
   "cell_type": "code",
   "execution_count": 74,
   "id": "e3d8eb7d-5d0b-4d66-a2c7-e6ce5fda7bda",
   "metadata": {},
   "outputs": [],
   "source": [
    "with open('practise.txt') as g:\n",
    "    pract=g.read"
   ]
  },
  {
   "cell_type": "code",
   "execution_count": 75,
   "id": "b63da2e5-c0fa-4e96-ab6d-a8df53a1cb4b",
   "metadata": {},
   "outputs": [
    {
     "data": {
      "text/plain": [
       "<function TextIOWrapper.read(size=-1, /)>"
      ]
     },
     "execution_count": 75,
     "metadata": {},
     "output_type": "execute_result"
    }
   ],
   "source": [
    "pract"
   ]
  },
  {
   "cell_type": "code",
   "execution_count": 76,
   "id": "3cb16d25-77de-471f-a286-434fe0c5b18f",
   "metadata": {},
   "outputs": [
    {
     "name": "stdout",
     "output_type": "stream",
     "text": [
      "hi i am practising\n",
      "it is very good to praactise\n",
      "\n"
     ]
    }
   ],
   "source": [
    "with open('practise.txt') as g:\n",
    "    pract=g.read()\n",
    "    print(pract)"
   ]
  },
  {
   "cell_type": "code",
   "execution_count": 88,
   "id": "cc39046d-93fc-493a-b2d9-0347b47875ad",
   "metadata": {},
   "outputs": [],
   "source": [
    "with open('practise.txt',mode='w') as g:\n",
    "    g.write('vanakkam')"
   ]
  },
  {
   "cell_type": "code",
   "execution_count": 89,
   "id": "0e627d2a-38ff-4375-a56f-40e8742eb8bb",
   "metadata": {},
   "outputs": [
    {
     "name": "stdout",
     "output_type": "stream",
     "text": [
      "vanakkam\n"
     ]
    }
   ],
   "source": [
    "with open('practise.txt') as g:\n",
    "    pract=g.read()\n",
    "    print(pract)"
   ]
  },
  {
   "cell_type": "markdown",
   "id": "e751187d-20a5-4fab-b39e-1881217d2b16",
   "metadata": {},
   "source": [
    "'w'-overwrites the existing ones...after overwriting we have to do the previous ones for reading what is overwrited or updated.\n"
   ]
  },
  {
   "cell_type": "code",
   "execution_count": 100,
   "id": "ae434438-ed10-401d-8825-8b80b0c9d333",
   "metadata": {},
   "outputs": [
    {
     "ename": "AttributeError",
     "evalue": "'int' object has no attribute 'read'",
     "output_type": "error",
     "traceback": [
      "\u001b[1;31m---------------------------------------------------------------------------\u001b[0m",
      "\u001b[1;31mAttributeError\u001b[0m                            Traceback (most recent call last)",
      "Cell \u001b[1;32mIn[100], line 3\u001b[0m\n\u001b[0;32m      1\u001b[0m \u001b[38;5;28;01mwith\u001b[39;00m \u001b[38;5;28mopen\u001b[39m(\u001b[38;5;124m'\u001b[39m\u001b[38;5;124mpractise.txt\u001b[39m\u001b[38;5;124m'\u001b[39m,mode\u001b[38;5;241m=\u001b[39m\u001b[38;5;124m'\u001b[39m\u001b[38;5;124ma\u001b[39m\u001b[38;5;124m'\u001b[39m) \u001b[38;5;28;01mas\u001b[39;00m k:\n\u001b[0;32m      2\u001b[0m     pract\u001b[38;5;241m=\u001b[39mk\u001b[38;5;241m.\u001b[39mwrite(\u001b[38;5;124m'\u001b[39m\u001b[38;5;124mhello\u001b[39m\u001b[38;5;124m'\u001b[39m)\n\u001b[1;32m----> 3\u001b[0m     \u001b[38;5;28mprint\u001b[39m(pract\u001b[38;5;241m.\u001b[39mread())\n",
      "\u001b[1;31mAttributeError\u001b[0m: 'int' object has no attribute 'read'"
     ]
    }
   ],
   "source": [
    "with open('practise.txt',mode='a') as k:\n",
    "    pract=k.write('hello')"
   ]
  },
  {
   "cell_type": "code",
   "execution_count": 101,
   "id": "3bad4fa2-f094-45ed-8aef-bf694f6a0571",
   "metadata": {},
   "outputs": [
    {
     "name": "stdout",
     "output_type": "stream",
     "text": [
      "hellokamhellohello\n"
     ]
    }
   ],
   "source": [
    "with open('practise.txt',mode='r') as j:\n",
    "    print(j.read())"
   ]
  },
  {
   "cell_type": "code",
   "execution_count": 1,
   "id": "aec74891-57e6-42b8-a6f1-ec6c7a7679bc",
   "metadata": {},
   "outputs": [],
   "source": [
    "##project \n",
    "from random import shuffle\n",
    "list=[1,2,3]\n",
    "shuffle(list)"
   ]
  },
  {
   "cell_type": "code",
   "execution_count": 2,
   "id": "30514ef3-0682-4b08-b44e-c45fc8555e71",
   "metadata": {},
   "outputs": [
    {
     "data": {
      "text/plain": [
       "[3, 1, 2]"
      ]
     },
     "execution_count": 2,
     "metadata": {},
     "output_type": "execute_result"
    }
   ],
   "source": [
    "list"
   ]
  },
  {
   "cell_type": "code",
   "execution_count": 3,
   "id": "f071661c-d55e-4779-a317-16cb1c867a15",
   "metadata": {},
   "outputs": [],
   "source": [
    "def shuffle_list(list):\n",
    "    shuffle(list)\n",
    "    return(list)"
   ]
  },
  {
   "cell_type": "code",
   "execution_count": 4,
   "id": "9ca63009-f3df-474e-95f6-3d42dc40a0ca",
   "metadata": {},
   "outputs": [],
   "source": [
    "list=[\" \",\"o\",\" \"]"
   ]
  },
  {
   "cell_type": "code",
   "execution_count": 8,
   "id": "db2b68e5-96ed-4b4f-83b7-d34d04d1a4ba",
   "metadata": {},
   "outputs": [
    {
     "data": {
      "text/plain": [
       "[' ', ' ', 'o']"
      ]
     },
     "execution_count": 8,
     "metadata": {},
     "output_type": "execute_result"
    }
   ],
   "source": [
    "shuffle_list(list)"
   ]
  },
  {
   "cell_type": "code",
   "execution_count": 9,
   "id": "a34f9a02-ab3e-44a1-bf4f-d4e9e2d5d39a",
   "metadata": {},
   "outputs": [],
   "source": [
    "result=shuffle_list(list)"
   ]
  },
  {
   "cell_type": "code",
   "execution_count": 10,
   "id": "52b7a183-f266-4162-9b0d-5b9a88109d5e",
   "metadata": {},
   "outputs": [
    {
     "data": {
      "text/plain": [
       "[' ', 'o', ' ']"
      ]
     },
     "execution_count": 10,
     "metadata": {},
     "output_type": "execute_result"
    }
   ],
   "source": [
    "result"
   ]
  },
  {
   "cell_type": "code",
   "execution_count": 21,
   "id": "98516129-c813-41b9-810f-5c9f953079b4",
   "metadata": {},
   "outputs": [],
   "source": [
    "def guess():\n",
    "    guess=''\n",
    "    while guess not in ['0','1','2']:\n",
    "        guess=input(\"enter value 0,1 or 2\")\n",
    "    return int(guess)\n",
    "        "
   ]
  },
  {
   "cell_type": "code",
   "execution_count": 22,
   "id": "b066dd9e-5188-46ae-acbc-b043336b7e88",
   "metadata": {},
   "outputs": [
    {
     "name": "stdin",
     "output_type": "stream",
     "text": [
      "enter value 0,1 or 2 4\n",
      "enter value 0,1 or 2 2\n"
     ]
    },
    {
     "data": {
      "text/plain": [
       "2"
      ]
     },
     "execution_count": 22,
     "metadata": {},
     "output_type": "execute_result"
    }
   ],
   "source": [
    "guess()"
   ]
  },
  {
   "cell_type": "code",
   "execution_count": 23,
   "id": "7ce7dcfb-4b34-4e2c-8a4f-1d33eb94c467",
   "metadata": {},
   "outputs": [
    {
     "name": "stdin",
     "output_type": "stream",
     "text": [
      "enter value 0,1 or 2 3\n",
      "enter value 0,1 or 2 2\n"
     ]
    }
   ],
   "source": [
    "final=guess()"
   ]
  },
  {
   "cell_type": "code",
   "execution_count": 24,
   "id": "6a5327f3-a047-40c3-b086-9d50ca22a7e2",
   "metadata": {},
   "outputs": [
    {
     "data": {
      "text/plain": [
       "2"
      ]
     },
     "execution_count": 24,
     "metadata": {},
     "output_type": "execute_result"
    }
   ],
   "source": [
    "final"
   ]
  },
  {
   "cell_type": "code",
   "execution_count": 27,
   "id": "87238dce-0e2c-4b6f-a8fe-669a8077e720",
   "metadata": {},
   "outputs": [],
   "source": [
    "def checkguess(list,guess):\n",
    "    if list[guess]==\"0\":\n",
    "        print(\"correct\")\n",
    "    else:\n",
    "        print(\"wrong\")\n",
    "        print(list)"
   ]
  },
  {
   "cell_type": "code",
   "execution_count": 29,
   "id": "3141b990-236b-4fdf-b9ae-e31f75318af0",
   "metadata": {},
   "outputs": [
    {
     "name": "stdin",
     "output_type": "stream",
     "text": [
      "enter value 0,1 or 2 3\n",
      "enter value 0,1 or 2 2\n"
     ]
    },
    {
     "name": "stdout",
     "output_type": "stream",
     "text": [
      "wrong\n",
      "['o', ' ', '']\n"
     ]
    }
   ],
   "source": [
    "list=[' ','o','']\n",
    "mixed=shuffle_list(list)\n",
    "guessing=guess()\n",
    "checkguess(mixed,guessing)\n"
   ]
  },
  {
   "cell_type": "code",
   "execution_count": 16,
   "id": "1ace132c-19c0-47a7-af8e-49a53086a237",
   "metadata": {},
   "outputs": [],
   "source": [
    " def newgenerator(original):\n",
    "    def new():\n",
    "        print(\"some\")\n",
    "    original()\n",
    "    print('bad')\n",
    "    return new\n",
    "def toadd():\n",
    "    print(\"trule needed\")\n",
    "    "
   ]
  },
  {
   "cell_type": "code",
   "execution_count": 17,
   "id": "12280a33-fcfa-465e-86b9-7b79a4429871",
   "metadata": {},
   "outputs": [
    {
     "name": "stdout",
     "output_type": "stream",
     "text": [
      "trule needed\n"
     ]
    }
   ],
   "source": [
    "toadd()"
   ]
  },
  {
   "cell_type": "code",
   "execution_count": 18,
   "id": "151ef56c-25dd-43f0-b9dc-974fd23f55dc",
   "metadata": {},
   "outputs": [
    {
     "name": "stdout",
     "output_type": "stream",
     "text": [
      "trule needed\n",
      "bad\n"
     ]
    }
   ],
   "source": [
    "toadd=newgenerator(toadd)"
   ]
  },
  {
   "cell_type": "code",
   "execution_count": 30,
   "id": "867431af-3f17-48ad-adff-28495c6d414b",
   "metadata": {},
   "outputs": [
    {
     "name": "stdout",
     "output_type": "stream",
     "text": [
      "magic show is bore\n",
      "welcome to kirikalan\n"
     ]
    }
   ],
   "source": [
    "def adding(func):\n",
    "    def laks():\n",
    "        print('magic show is bore')\n",
    "        func()\n",
    "    return laks\n",
    "@adding\n",
    "def newone():\n",
    "    print(\"welcome to kirikalan\")\n",
    "#newone=adding(newone) \n",
    "newone()"
   ]
  },
  {
   "cell_type": "code",
   "execution_count": 23,
   "id": "e33b7690-e82d-4679-b8ac-27e5e8473f83",
   "metadata": {},
   "outputs": [
    {
     "ename": "TypeError",
     "evalue": "'NoneType' object is not callable",
     "output_type": "error",
     "traceback": [
      "\u001b[1;31m---------------------------------------------------------------------------\u001b[0m",
      "\u001b[1;31mTypeError\u001b[0m                                 Traceback (most recent call last)",
      "Cell \u001b[1;32mIn[23], line 1\u001b[0m\n\u001b[1;32m----> 1\u001b[0m newone()\n",
      "\u001b[1;31mTypeError\u001b[0m: 'NoneType' object is not callable"
     ]
    }
   ],
   "source": []
  },
  {
   "cell_type": "code",
   "execution_count": 31,
   "id": "5e408fdf-a828-4c33-a843-6ccbd82af499",
   "metadata": {},
   "outputs": [
    {
     "data": {
      "text/plain": [
       "'e'"
      ]
     },
     "execution_count": 31,
     "metadata": {},
     "output_type": "execute_result"
    }
   ],
   "source": [
    "'hello'[1]"
   ]
  },
  {
   "cell_type": "code",
   "execution_count": 33,
   "id": "c33de643-dafa-4cf8-9a23-1deda6eaf807",
   "metadata": {},
   "outputs": [],
   "source": [
    "d={'k1':{'k2':'hello'}}"
   ]
  },
  {
   "cell_type": "code",
   "execution_count": 34,
   "id": "6ec4ee84-ff3b-4eaf-993c-ebafc7f6ad66",
   "metadata": {},
   "outputs": [
    {
     "data": {
      "text/plain": [
       "'hello'"
      ]
     },
     "execution_count": 34,
     "metadata": {},
     "output_type": "execute_result"
    }
   ],
   "source": [
    "d['k1']['k2']"
   ]
  },
  {
   "cell_type": "code",
   "execution_count": 35,
   "id": "e56ccee4-7c16-4252-86ec-a1e93c7bbfbd",
   "metadata": {},
   "outputs": [],
   "source": [
    "def myfunc(name):\n",
    "    print('Hello Name')"
   ]
  },
  {
   "cell_type": "code",
   "execution_count": 38,
   "id": "b897a814-3888-47e4-ae6a-5601c1a5fbb4",
   "metadata": {},
   "outputs": [
    {
     "ename": "SyntaxError",
     "evalue": "incomplete input (2008255390.py, line 1)",
     "output_type": "error",
     "traceback": [
      "\u001b[1;36m  Cell \u001b[1;32mIn[38], line 1\u001b[1;36m\u001b[0m\n\u001b[1;33m    def myfunc(name='Hello Name'):\u001b[0m\n\u001b[1;37m                                  ^\u001b[0m\n\u001b[1;31mSyntaxError\u001b[0m\u001b[1;31m:\u001b[0m incomplete input\n"
     ]
    }
   ],
   "source": [
    "def myfunc(name='Hello Name'):"
   ]
  },
  {
   "cell_type": "code",
   "execution_count": 62,
   "id": "fcc0a15b-f6ee-4b79-bbf9-222af3422dc3",
   "metadata": {},
   "outputs": [],
   "source": [
    "def myfunc(*args):\n",
    "    output=[]\n",
    "    for a in args:\n",
    "        if a%2==0:\n",
    "            output.append(a)\n",
    "    return output"
   ]
  },
  {
   "cell_type": "code",
   "execution_count": 63,
   "id": "20b0b8b0-a5db-42e8-95a8-34abe319c1d2",
   "metadata": {},
   "outputs": [
    {
     "data": {
      "text/plain": [
       "[2, 4, 44, 42]"
      ]
     },
     "execution_count": 63,
     "metadata": {},
     "output_type": "execute_result"
    }
   ],
   "source": [
    "myfunc(1,2,4,5,7,9,87,65,44,42)"
   ]
  },
  {
   "cell_type": "code",
   "execution_count": 1,
   "id": "bc11fc12-66cc-4c48-bf5a-61c5fd3cd157",
   "metadata": {},
   "outputs": [],
   "source": [
    "def hari(**kwargs):\n",
    "    print(kwargs)"
   ]
  },
  {
   "cell_type": "code",
   "execution_count": 2,
   "id": "2cb979ad-be3f-4dde-8ba5-dc033d93f3f4",
   "metadata": {},
   "outputs": [
    {
     "name": "stdout",
     "output_type": "stream",
     "text": [
      "{'fruit': 'lemon', 'veg': 'brinjal'}\n"
     ]
    }
   ],
   "source": [
    "hari(fruit='lemon',veg='brinjal')"
   ]
  },
  {
   "cell_type": "code",
   "execution_count": 10,
   "id": "d0f17967-0a26-4d1c-a5b2-9048f6258bf2",
   "metadata": {},
   "outputs": [],
   "source": [
    "def hari(**kwargs):\n",
    "    if 'fruit' in kwargs:\n",
    "        print('the fruit is {}'.format((kwargs)['fruit']) )\n",
    "    else:\n",
    "        print('hello {}'.format('all'))"
   ]
  },
  {
   "cell_type": "code",
   "execution_count": 11,
   "id": "2333b78b-c272-4aa4-887e-8c29036e1a66",
   "metadata": {},
   "outputs": [
    {
     "name": "stdout",
     "output_type": "stream",
     "text": [
      "the fruit is lemon\n"
     ]
    }
   ],
   "source": [
    "#hari(fruit='lemon',veg='brinjal')"
   ]
  },
  {
   "cell_type": "code",
   "execution_count": 12,
   "id": "1678e0a6-ec40-48bf-8293-5ca13423163f",
   "metadata": {},
   "outputs": [
    {
     "name": "stdout",
     "output_type": "stream",
     "text": [
      "hello all\n"
     ]
    }
   ],
   "source": [
    "hari(spice='lemon',veg='brinjal')"
   ]
  },
  {
   "cell_type": "code",
   "execution_count": 1,
   "id": "11fba2fd-0fde-467f-9d9e-17cb1302d9c5",
   "metadata": {},
   "outputs": [
    {
     "name": "stdout",
     "output_type": "stream",
     "text": [
      " hello all epdi irukinga\n"
     ]
    }
   ],
   "source": [
    "print(f' hello all epdi irukinga')"
   ]
  },
  {
   "cell_type": "code",
   "execution_count": 2,
   "id": "1539e891-cb0e-4a92-95e6-3e7e05862f2f",
   "metadata": {},
   "outputs": [],
   "source": [
    "a='mkstalin'\n",
    "\n"
   ]
  },
  {
   "cell_type": "code",
   "execution_count": 3,
   "id": "e1e07fd1-18b2-4cb5-8870-2aed14cee877",
   "metadata": {},
   "outputs": [
    {
     "data": {
      "text/plain": [
       "True"
      ]
     },
     "execution_count": 3,
     "metadata": {},
     "output_type": "execute_result"
    }
   ],
   "source": [
    "a.isalpha()"
   ]
  },
  {
   "cell_type": "code",
   "execution_count": 5,
   "id": "099c3057-6002-4ab5-acdf-05f655400f02",
   "metadata": {},
   "outputs": [
    {
     "data": {
      "text/plain": [
       "'Mkstalin'"
      ]
     },
     "execution_count": 5,
     "metadata": {},
     "output_type": "execute_result"
    }
   ],
   "source": [
    "a.capitalize()"
   ]
  },
  {
   "cell_type": "code",
   "execution_count": 7,
   "id": "99e9ebbf-bc39-4e03-ad33-86a6c2d6569b",
   "metadata": {},
   "outputs": [
    {
     "data": {
      "text/plain": [
       "True"
      ]
     },
     "execution_count": 7,
     "metadata": {},
     "output_type": "execute_result"
    }
   ],
   "source": [
    "bool(1==1)"
   ]
  },
  {
   "cell_type": "code",
   "execution_count": 9,
   "id": "842371ad-0127-4b53-9360-a47b3f85249c",
   "metadata": {},
   "outputs": [
    {
     "name": "stdout",
     "output_type": "stream",
     "text": [
      "0\n",
      "1\n",
      "2\n",
      "3\n",
      "4\n",
      "5\n",
      "6\n",
      "7\n",
      "8\n"
     ]
    }
   ],
   "source": [
    "for i in range(9):\n",
    "    print(i)"
   ]
  },
  {
   "cell_type": "code",
   "execution_count": 10,
   "id": "f40c0d9b-e724-422f-9d73-90e71f5ef4f1",
   "metadata": {},
   "outputs": [
    {
     "name": "stdout",
     "output_type": "stream",
     "text": [
      "He said his name is mukil.\n"
     ]
    }
   ],
   "source": [
    "print(f\"He said his name is {'mukil'}.\")"
   ]
  },
  {
   "cell_type": "code",
   "execution_count": 11,
   "id": "2ab1476b-d6a2-477d-88b7-9c2bcb144e67",
   "metadata": {},
   "outputs": [],
   "source": [
    "d=4.9876543"
   ]
  },
  {
   "cell_type": "code",
   "execution_count": 12,
   "id": "291e0ff5-f248-432e-988d-72f2ae1753b6",
   "metadata": {},
   "outputs": [
    {
     "name": "stdout",
     "output_type": "stream",
     "text": [
      "the value is 4.98765\n"
     ]
    }
   ],
   "source": [
    "print('the value is {y:5.5f}'.format(y=d))"
   ]
  },
  {
   "cell_type": "code",
   "execution_count": 24,
   "id": "19712f9c-b85a-4bb7-acbd-9c34e1831e41",
   "metadata": {},
   "outputs": [],
   "source": [
    "a=[0,1,8,3,4]"
   ]
  },
  {
   "cell_type": "code",
   "execution_count": 25,
   "id": "c835574f-a2c7-4d61-a532-46c41b9d64dd",
   "metadata": {},
   "outputs": [
    {
     "data": {
      "text/plain": [
       "8"
      ]
     },
     "execution_count": 25,
     "metadata": {},
     "output_type": "execute_result"
    }
   ],
   "source": [
    "a.pop(2)"
   ]
  },
  {
   "cell_type": "code",
   "execution_count": 17,
   "id": "5817a2c4-d913-4e75-b439-82af7409eb50",
   "metadata": {},
   "outputs": [
    {
     "data": {
      "text/plain": [
       "[0, 1, 2, 3, [0, 1, 2, 3]]"
      ]
     },
     "execution_count": 17,
     "metadata": {},
     "output_type": "execute_result"
    }
   ],
   "source": [
    "a+[a]"
   ]
  },
  {
   "cell_type": "code",
   "execution_count": 26,
   "id": "57ca57a2-62b8-4f83-b549-425f2c463c7e",
   "metadata": {},
   "outputs": [],
   "source": [
    "b='mukil'"
   ]
  },
  {
   "cell_type": "code",
   "execution_count": 28,
   "id": "e24e2e08-8a80-4fde-836d-997bd83e01bf",
   "metadata": {},
   "outputs": [
    {
     "data": {
      "text/plain": [
       "'likum'"
      ]
     },
     "execution_count": 28,
     "metadata": {},
     "output_type": "execute_result"
    }
   ],
   "source": [
    "b[::-1]"
   ]
  },
  {
   "cell_type": "code",
   "execution_count": 29,
   "id": "195c7a9d-536a-4900-b661-173d55835514",
   "metadata": {},
   "outputs": [
    {
     "data": {
      "text/plain": [
       "[0, 1, 3, 4]"
      ]
     },
     "execution_count": 29,
     "metadata": {},
     "output_type": "execute_result"
    }
   ],
   "source": [
    "a"
   ]
  },
  {
   "cell_type": "code",
   "execution_count": 31,
   "id": "db034b42-93b7-476c-b931-db15495827ce",
   "metadata": {},
   "outputs": [],
   "source": [
    "a.reverse()"
   ]
  },
  {
   "cell_type": "code",
   "execution_count": 32,
   "id": "43a1ea6d-1758-4e45-bda5-49676e6dacf9",
   "metadata": {},
   "outputs": [
    {
     "data": {
      "text/plain": [
       "[0, 1, 3, 4]"
      ]
     },
     "execution_count": 32,
     "metadata": {},
     "output_type": "execute_result"
    }
   ],
   "source": [
    "a"
   ]
  },
  {
   "cell_type": "code",
   "execution_count": 33,
   "id": "3ba8e379-2df1-407e-9ee5-04cbd934cda0",
   "metadata": {},
   "outputs": [],
   "source": [
    "a.sort()"
   ]
  },
  {
   "cell_type": "code",
   "execution_count": 34,
   "id": "2658695e-543a-43f9-a4f9-cebe7fe03ff1",
   "metadata": {},
   "outputs": [
    {
     "data": {
      "text/plain": [
       "[0, 1, 3, 4]"
      ]
     },
     "execution_count": 34,
     "metadata": {},
     "output_type": "execute_result"
    }
   ],
   "source": [
    "a\n"
   ]
  },
  {
   "cell_type": "code",
   "execution_count": 35,
   "id": "7e49b7ce-57c3-405b-ba9a-db3a53560abe",
   "metadata": {},
   "outputs": [],
   "source": [
    "a.reverse()"
   ]
  },
  {
   "cell_type": "code",
   "execution_count": 36,
   "id": "de19e0f1-e172-44da-87c0-b59feaf0187d",
   "metadata": {},
   "outputs": [
    {
     "data": {
      "text/plain": [
       "[4, 3, 1, 0]"
      ]
     },
     "execution_count": 36,
     "metadata": {},
     "output_type": "execute_result"
    }
   ],
   "source": [
    "a"
   ]
  },
  {
   "cell_type": "code",
   "execution_count": 47,
   "id": "d909fbd6-d7e3-4561-bcf9-2032949448ef",
   "metadata": {},
   "outputs": [],
   "source": [
    "with open('laks.txt',mode='w') as h:\n",
    "    h.write('very good mother')"
   ]
  },
  {
   "cell_type": "code",
   "execution_count": 48,
   "id": "bc804a2f-9b9a-4cf3-aa89-87957c3a286c",
   "metadata": {},
   "outputs": [
    {
     "name": "stdout",
     "output_type": "stream",
     "text": [
      "very good mother\n"
     ]
    }
   ],
   "source": [
    "with open('laks.txt',mode='r') as h:\n",
    "    print(h.read())"
   ]
  },
  {
   "cell_type": "code",
   "execution_count": 49,
   "id": "cc639f6f-a02c-4ba8-bebd-6f43932bfd4d",
   "metadata": {},
   "outputs": [],
   "source": [
    "d = {'k1':[{'nest_key':['this is deep',['hello']]}]}"
   ]
  },
  {
   "cell_type": "code",
   "execution_count": 57,
   "id": "7ec2ddc0-80f5-48fb-b68e-8ab51a31f35f",
   "metadata": {},
   "outputs": [
    {
     "data": {
      "text/plain": [
       "'hello'"
      ]
     },
     "execution_count": 57,
     "metadata": {},
     "output_type": "execute_result"
    }
   ],
   "source": [
    "d['k1'][0]['nest_key'][1][0]"
   ]
  },
  {
   "cell_type": "code",
   "execution_count": 58,
   "id": "8fad6e40-2494-4fad-b1ce-0602f24fe7f3",
   "metadata": {},
   "outputs": [],
   "source": [
    "d = {'k1':[1,2,{'k2':['this is tricky',{'tough':[1,2,['hello']]}]}]}"
   ]
  },
  {
   "cell_type": "code",
   "execution_count": 71,
   "id": "f96c822a-2f17-4bb6-a08a-9e06ee05da09",
   "metadata": {},
   "outputs": [
    {
     "data": {
      "text/plain": [
       "'hello'"
      ]
     },
     "execution_count": 71,
     "metadata": {},
     "output_type": "execute_result"
    }
   ],
   "source": [
    "d['k1'][2]['k2'][1]['tough'][2][0]"
   ]
  },
  {
   "cell_type": "code",
   "execution_count": 72,
   "id": "a144c367-6e1f-4dff-b2ea-f9eacba50915",
   "metadata": {},
   "outputs": [],
   "source": [
    "list=[1,2,3,3,45]"
   ]
  },
  {
   "cell_type": "code",
   "execution_count": 73,
   "id": "94b33873-09d5-4526-8295-a1ab95539a16",
   "metadata": {},
   "outputs": [],
   "source": []
  },
  {
   "cell_type": "code",
   "execution_count": 87,
   "id": "3e8c1c81-342b-4673-8761-1a55a1a16dd1",
   "metadata": {},
   "outputs": [
    {
     "name": "stdout",
     "output_type": "stream",
     "text": [
      "54\n"
     ]
    }
   ],
   "source": [
    "sum=0\n",
    "for num in list:\n",
    "    sum=sum+num\n",
    "print(sum)"
   ]
  },
  {
   "cell_type": "code",
   "execution_count": 88,
   "id": "dbc3e457-dace-4c39-889a-c4d0ae0b2e53",
   "metadata": {},
   "outputs": [],
   "source": [
    "list=[(1,2),(3,3)]"
   ]
  },
  {
   "cell_type": "code",
   "execution_count": 90,
   "id": "3861822e-2753-4353-bb53-d6a79f09eca4",
   "metadata": {},
   "outputs": [
    {
     "name": "stdout",
     "output_type": "stream",
     "text": [
      "1\n",
      "3\n"
     ]
    }
   ],
   "source": [
    "for (x,y) in list:\n",
    "    print(x)"
   ]
  },
  {
   "cell_type": "code",
   "execution_count": 91,
   "id": "8632a362-2fe9-420b-8312-d62ec1285a3f",
   "metadata": {},
   "outputs": [],
   "source": [
    "d = {'k1':1,'k2':2,'k3':3}"
   ]
  },
  {
   "cell_type": "code",
   "execution_count": 92,
   "id": "eafa98a9-b73d-439c-b5de-42aee8f3b68f",
   "metadata": {},
   "outputs": [
    {
     "data": {
      "text/plain": [
       "dict_items([('k1', 1), ('k2', 2), ('k3', 3)])"
      ]
     },
     "execution_count": 92,
     "metadata": {},
     "output_type": "execute_result"
    }
   ],
   "source": [
    "d.items()"
   ]
  },
  {
   "cell_type": "code",
   "execution_count": 93,
   "id": "98b04ea3-ac7a-4d1a-8260-84aac440b0da",
   "metadata": {},
   "outputs": [
    {
     "data": {
      "text/plain": [
       "dict_keys(['k1', 'k2', 'k3'])"
      ]
     },
     "execution_count": 93,
     "metadata": {},
     "output_type": "execute_result"
    }
   ],
   "source": [
    "d.keys()"
   ]
  },
  {
   "cell_type": "code",
   "execution_count": 94,
   "id": "a812db1f-31b6-4342-99de-bf66796ad2fa",
   "metadata": {},
   "outputs": [
    {
     "data": {
      "text/plain": [
       "dict_values([1, 2, 3])"
      ]
     },
     "execution_count": 94,
     "metadata": {},
     "output_type": "execute_result"
    }
   ],
   "source": [
    "d.values()"
   ]
  },
  {
   "cell_type": "code",
   "execution_count": 95,
   "id": "e82f0e4e-828f-4a2a-96a6-be3fcb2b9789",
   "metadata": {},
   "outputs": [
    {
     "data": {
      "text/plain": [
       "dict_items([('k1', 1), ('k2', 2), ('k3', 3)])"
      ]
     },
     "execution_count": 95,
     "metadata": {},
     "output_type": "execute_result"
    }
   ],
   "source": [
    "d.items()"
   ]
  },
  {
   "cell_type": "code",
   "execution_count": 97,
   "id": "ed4bf6e6-c0f0-40c0-8697-a216d83fab90",
   "metadata": {},
   "outputs": [
    {
     "name": "stdout",
     "output_type": "stream",
     "text": [
      "1\n",
      "2\n",
      "3\n"
     ]
    }
   ],
   "source": [
    "for x,y in d.items():\n",
    "    print(y)"
   ]
  },
  {
   "cell_type": "code",
   "execution_count": 98,
   "id": "0765fad3-4327-420d-8eeb-c004220b4b60",
   "metadata": {},
   "outputs": [],
   "source": [
    "m='mukilan'"
   ]
  },
  {
   "cell_type": "code",
   "execution_count": 100,
   "id": "d495e339-8a5f-4be6-9a8b-cf774f1f53de",
   "metadata": {},
   "outputs": [
    {
     "name": "stdout",
     "output_type": "stream",
     "text": [
      "(0, 'm')\n",
      "(1, 'u')\n",
      "(2, 'k')\n",
      "(3, 'i')\n",
      "(4, 'l')\n",
      "(5, 'a')\n",
      "(6, 'n')\n"
     ]
    }
   ],
   "source": [
    "for i in enumerate(m):\n",
    "    print(i)"
   ]
  },
  {
   "cell_type": "code",
   "execution_count": 102,
   "id": "fb6e3702-62b0-45d9-8c9f-cd37e1428d82",
   "metadata": {},
   "outputs": [
    {
     "name": "stdout",
     "output_type": "stream",
     "text": [
      "m\n",
      "u\n",
      "k\n",
      "i\n",
      "l\n",
      "a\n",
      "n\n"
     ]
    }
   ],
   "source": [
    "for (x,y) in enumerate(m):###enumerate function\n",
    "    print(y)"
   ]
  },
  {
   "cell_type": "code",
   "execution_count": 103,
   "id": "2f440e4f-064d-4757-91fc-039c5415f7c2",
   "metadata": {},
   "outputs": [],
   "source": [
    "l1=[1,2,3,45,5,6,5]\n"
   ]
  },
  {
   "cell_type": "code",
   "execution_count": 104,
   "id": "adf03c4c-e8f5-49a9-8ca0-e78636f462b5",
   "metadata": {},
   "outputs": [],
   "source": [
    "l2=[4,45,34,3,4,3,7]"
   ]
  },
  {
   "cell_type": "code",
   "execution_count": 105,
   "id": "729c6a11-5da4-4400-a573-ce989fc02164",
   "metadata": {},
   "outputs": [
    {
     "name": "stdout",
     "output_type": "stream",
     "text": [
      "(1, 4)\n",
      "(2, 45)\n",
      "(3, 34)\n",
      "(45, 3)\n",
      "(5, 4)\n",
      "(6, 3)\n",
      "(5, 7)\n"
     ]
    }
   ],
   "source": [
    "for i in zip(l1,l2):\n",
    "    print(i)"
   ]
  },
  {
   "cell_type": "code",
   "execution_count": 106,
   "id": "a983bda7-7a34-4a13-9d64-966241c4bfe9",
   "metadata": {},
   "outputs": [
    {
     "name": "stdout",
     "output_type": "stream",
     "text": [
      "4\n",
      "45\n",
      "34\n",
      "3\n",
      "4\n",
      "3\n",
      "7\n"
     ]
    }
   ],
   "source": [
    "for (x,y) in zip(l1,l2):###zip function\n",
    "    print(y)"
   ]
  },
  {
   "cell_type": "code",
   "execution_count": 107,
   "id": "0adc66c1-4e8a-4dfb-8877-e4e99e992516",
   "metadata": {},
   "outputs": [
    {
     "data": {
      "text/plain": [
       "[0, 1, 4, 9, 16, 25, 36, 49, 64, 81, 100]"
      ]
     },
     "execution_count": 107,
     "metadata": {},
     "output_type": "execute_result"
    }
   ],
   "source": [
    "lst =  [x**2 for x in range(11)]\n",
    "lst"
   ]
  },
  {
   "cell_type": "code",
   "execution_count": 108,
   "id": "3231b1e4-d097-4312-90a3-18a75166812d",
   "metadata": {},
   "outputs": [
    {
     "data": {
      "text/plain": [
       "[0, 1, 16, 81, 256, 625, 1296, 2401, 4096, 6561, 10000]"
      ]
     },
     "execution_count": 108,
     "metadata": {},
     "output_type": "execute_result"
    }
   ],
   "source": [
    "lst = [ x**2 for x in [x**2 for x in range(11)]]\n",
    "lst"
   ]
  },
  {
   "cell_type": "code",
   "execution_count": 109,
   "id": "6e02fea1-15a4-4dc1-8c82-b2e99c453437",
   "metadata": {},
   "outputs": [],
   "source": [
    "st = 'Print only the words that start with s in this sentence'"
   ]
  },
  {
   "cell_type": "code",
   "execution_count": 111,
   "id": "e3393308-28ca-4891-bbd5-9c55c8cd0db9",
   "metadata": {},
   "outputs": [
    {
     "data": {
      "text/plain": [
       "['Print',\n",
       " 'only',\n",
       " 'the',\n",
       " 'words',\n",
       " 'that',\n",
       " 'start',\n",
       " 'with',\n",
       " 's',\n",
       " 'in',\n",
       " 'this',\n",
       " 'sentence']"
      ]
     },
     "execution_count": 111,
     "metadata": {},
     "output_type": "execute_result"
    }
   ],
   "source": [
    "st.split()"
   ]
  },
  {
   "cell_type": "code",
   "execution_count": 121,
   "id": "44b115b7-6506-46b9-b71c-363db89750e7",
   "metadata": {},
   "outputs": [
    {
     "name": "stdout",
     "output_type": "stream",
     "text": [
      "start\n",
      "s\n",
      "sentence\n"
     ]
    }
   ],
   "source": [
    "for item in st.split():\n",
    "    if item[0]=='s':\n",
    "        print(item)"
   ]
  },
  {
   "cell_type": "code",
   "execution_count": 122,
   "id": "8e0a977f-b106-4065-9809-fdf25d4b690d",
   "metadata": {},
   "outputs": [],
   "source": [
    "st = 'Create a list of the first letters of every word in this string'"
   ]
  },
  {
   "cell_type": "code",
   "execution_count": 123,
   "id": "a73e259a-4d18-4dec-934a-5a9267cbab5a",
   "metadata": {},
   "outputs": [
    {
     "name": "stdout",
     "output_type": "stream",
     "text": [
      "C\n",
      "a\n",
      "l\n",
      "o\n",
      "t\n",
      "f\n",
      "l\n",
      "o\n",
      "e\n",
      "w\n",
      "i\n",
      "t\n",
      "s\n"
     ]
    }
   ],
   "source": [
    "for item in st.split():\n",
    "    print(item[0])"
   ]
  },
  {
   "cell_type": "code",
   "execution_count": 124,
   "id": "d23a96d8-a481-4dc4-a014-e9c4e8307a25",
   "metadata": {},
   "outputs": [
    {
     "data": {
      "text/plain": [
       "['C', 'a', 'l', 'o', 't', 'f', 'l', 'o', 'e', 'w', 'i', 't', 's']"
      ]
     },
     "execution_count": 124,
     "metadata": {},
     "output_type": "execute_result"
    }
   ],
   "source": [
    "[item[0] for item in st.split()]"
   ]
  },
  {
   "cell_type": "code",
   "execution_count": 138,
   "id": "2640afcc-0446-4ee1-900e-b613f68a820d",
   "metadata": {},
   "outputs": [],
   "source": [
    "def check_even_list(num_list):\n",
    "    even=[]\n",
    "    for number in num_list:\n",
    "        if number % 2 == 0:\n",
    "            even.append(number)\n",
    "        else:\n",
    "            pass\n",
    "    return even"
   ]
  },
  {
   "cell_type": "code",
   "execution_count": 139,
   "id": "44ac8331-8d0c-4922-a2ea-aadc7da889fd",
   "metadata": {},
   "outputs": [
    {
     "data": {
      "text/plain": [
       "[2, 4]"
      ]
     },
     "execution_count": 139,
     "metadata": {},
     "output_type": "execute_result"
    }
   ],
   "source": [
    "check_even_list([1,2,4])"
   ]
  },
  {
   "cell_type": "code",
   "execution_count": 189,
   "id": "9629c6a6-0fab-4893-9b7c-3ed19aa50119",
   "metadata": {},
   "outputs": [],
   "source": [
    "def lesser_of_two_evens(a,b):\n",
    "    if a%2 == 0 and b%2 == 0:\n",
    "        return min(a,b)\n",
    "    else:\n",
    "        return max(a,b)"
   ]
  },
  {
   "cell_type": "code",
   "execution_count": 190,
   "id": "0f017e49-008a-4045-a34d-c1ef70ce49df",
   "metadata": {},
   "outputs": [
    {
     "data": {
      "text/plain": [
       "9"
      ]
     },
     "execution_count": 190,
     "metadata": {},
     "output_type": "execute_result"
    }
   ],
   "source": [
    "lesser_of_two_evens(7,9)"
   ]
  },
  {
   "cell_type": "code",
   "execution_count": 192,
   "id": "5ed4cacf-9042-4e83-bc09-ced6d5dd79f9",
   "metadata": {},
   "outputs": [],
   "source": [
    "def paper_doll(text):\n",
    "    result = ''\n",
    "    for char in text:\n",
    "        result =result+char * 3\n",
    "    return result"
   ]
  },
  {
   "cell_type": "code",
   "execution_count": 194,
   "id": "736c7782-e516-47aa-bcc9-98d371edbcd3",
   "metadata": {},
   "outputs": [
    {
     "data": {
      "text/plain": [
       "'hhhaaarrriiimmmuuukkkiiilll'"
      ]
     },
     "execution_count": 194,
     "metadata": {},
     "output_type": "execute_result"
    }
   ],
   "source": [
    "paper_doll('harimukil')"
   ]
  },
  {
   "cell_type": "code",
   "execution_count": 195,
   "id": "d0db6716-f065-492d-9fbf-b828fd8195eb",
   "metadata": {},
   "outputs": [],
   "source": [
    "class Dog:\n",
    "    def __init__(self,breed):\n",
    "        self.breed = breed\n",
    "        \n",
    "sam = Dog(breed='Lab')\n",
    "frank = Dog(breed='Huskie')"
   ]
  },
  {
   "cell_type": "code",
   "execution_count": 196,
   "id": "29a10dc8-3b58-445a-b332-3b3763a63823",
   "metadata": {},
   "outputs": [
    {
     "data": {
      "text/plain": [
       "'Lab'"
      ]
     },
     "execution_count": 196,
     "metadata": {},
     "output_type": "execute_result"
    }
   ],
   "source": [
    "sam.breed"
   ]
  },
  {
   "cell_type": "code",
   "execution_count": 197,
   "id": "dd78d2fa-f1d7-464d-9319-beb19901d85e",
   "metadata": {},
   "outputs": [
    {
     "data": {
      "text/plain": [
       "'Huskie'"
      ]
     },
     "execution_count": 197,
     "metadata": {},
     "output_type": "execute_result"
    }
   ],
   "source": [
    "frank.breed"
   ]
  },
  {
   "cell_type": "code",
   "execution_count": 198,
   "id": "cf497974-791b-456f-9ca5-cc58b16d2caf",
   "metadata": {},
   "outputs": [
    {
     "name": "stdout",
     "output_type": "stream",
     "text": [
      "Radius is:  1\n",
      "Area is:  3.14\n",
      "Circumference is:  6.28\n"
     ]
    }
   ],
   "source": [
    "class Circle:\n",
    "    pi = 3.14\n",
    "    def __init__(self, radius=1):\n",
    "        self.radius = radius \n",
    "        self.area = radius * radius * Circle.pi\n",
    "    def setRadius(self, new_radius):\n",
    "        self.radius = new_radius\n",
    "        self.area = new_radius * new_radius * Circle.pi\n",
    "    def getCircumference(self):\n",
    "        return self.radius * Circle.pi * 2\n",
    "\n",
    "\n",
    "c = Circle()\n",
    "\n",
    "print('Radius is: ',c.radius)\n",
    "print('Area is: ',c.area)\n",
    "print('Circumference is: ',c.getCircumference())"
   ]
  },
  {
   "cell_type": "code",
   "execution_count": 199,
   "id": "0bb961b0-58de-4b92-a092-6a89e2827d7f",
   "metadata": {},
   "outputs": [
    {
     "name": "stdout",
     "output_type": "stream",
     "text": [
      "Niko says Woof!\n",
      "Felix says Meow!\n"
     ]
    }
   ],
   "source": [
    "class Dog:\n",
    "    def __init__(self, name):\n",
    "        self.name = name\n",
    "\n",
    "    def speak(self):\n",
    "        return self.name+' says Woof!'\n",
    "    \n",
    "class Cat:\n",
    "    def __init__(self, name):\n",
    "        self.name = name\n",
    "\n",
    "    def speak(self):\n",
    "        return self.name+' says Meow!' \n",
    "    \n",
    "niko = Dog('Niko')\n",
    "felix = Cat('Felix')\n",
    "\n",
    "print(niko.speak())\n",
    "print(felix.speak())"
   ]
  },
  {
   "cell_type": "code",
   "execution_count": 200,
   "id": "99e9edf1-acd4-4017-85f8-240517eee451",
   "metadata": {},
   "outputs": [],
   "source": [
    "class Account:\n",
    "    def __init__(self,owner,balance=0):\n",
    "        self.owner = owner\n",
    "        self.balance = balance\n",
    "        \n",
    "  #  def __str__(self):\n",
    "        #return f'Account owner:   {self.owner}\\nAccount balance: ${self.balance}'\n",
    "        \n",
    "    def deposit(self,dep_amt):\n",
    "        self.balance += dep_amt\n",
    "        print('Deposit Accepted')\n",
    "        \n",
    "    def withdraw(self,wd_amt):\n",
    "        if self.balance >= wd_amt:\n",
    "            self.balance -= wd_amt\n",
    "            print('Withdrawal Accepted')\n",
    "        else:\n",
    "            print('Funds Unavailable!')"
   ]
  },
  {
   "cell_type": "code",
   "execution_count": 206,
   "id": "b7958ab7-430d-4d6e-88fc-aa42a88767a0",
   "metadata": {},
   "outputs": [],
   "source": [
    "mukilacc=Account('mukil',500)"
   ]
  },
  {
   "cell_type": "code",
   "execution_count": 208,
   "id": "3cd99b90-56b0-451b-959d-6523c91a48c5",
   "metadata": {},
   "outputs": [
    {
     "name": "stdout",
     "output_type": "stream",
     "text": [
      "<__main__.Account object at 0x000001118765FB90>\n"
     ]
    }
   ],
   "source": [
    "print(mukilacc)"
   ]
  },
  {
   "cell_type": "code",
   "execution_count": 211,
   "id": "cecb3a49-d603-44b8-8349-0d7d5b5a2d7a",
   "metadata": {},
   "outputs": [
    {
     "data": {
      "text/plain": [
       "'mukil'"
      ]
     },
     "execution_count": 211,
     "metadata": {},
     "output_type": "execute_result"
    }
   ],
   "source": [
    "mukilacc.owner"
   ]
  },
  {
   "cell_type": "code",
   "execution_count": 212,
   "id": "fdc47c73-3a02-42a7-bd58-77b68faff56b",
   "metadata": {},
   "outputs": [
    {
     "name": "stdout",
     "output_type": "stream",
     "text": [
      "Deposit Accepted\n"
     ]
    }
   ],
   "source": [
    "mukilacc.deposit(700)"
   ]
  },
  {
   "cell_type": "code",
   "execution_count": 214,
   "id": "16ecc206-8721-4f0b-9aa8-e81c8a113e7f",
   "metadata": {},
   "outputs": [
    {
     "name": "stdout",
     "output_type": "stream",
     "text": [
      "Funds Unavailable!\n"
     ]
    }
   ],
   "source": [
    "mukilacc.withdraw(1500)"
   ]
  },
  {
   "cell_type": "code",
   "execution_count": 215,
   "id": "63dc071c-4b1a-48a0-86db-c50dfe79b176",
   "metadata": {},
   "outputs": [
    {
     "name": "stdout",
     "output_type": "stream",
     "text": [
      "Always execute finally code blocks\n"
     ]
    }
   ],
   "source": [
    "try:\n",
    "    f = open(\"testfile\", \"w\")\n",
    "    f.write(\"Test write statement\")\n",
    "    f.close()\n",
    "finally:\n",
    "    print(\"Always execute finally code blocks\")"
   ]
  },
  {
   "cell_type": "code",
   "execution_count": 219,
   "id": "97d5ce65-2305-4ca6-bc3a-113ffdc41767",
   "metadata": {},
   "outputs": [],
   "source": [
    "def askint():\n",
    "    try:\n",
    "        val = int(input(\"Please enter an integer: \"))\n",
    "    except:\n",
    "        print(\"Looks like you did not enter an integer!\")\n",
    "\n",
    "    finally:\n",
    "        print(\"Finally, I executed!\")\n",
    "    print(val)"
   ]
  },
  {
   "cell_type": "code",
   "execution_count": 221,
   "id": "49533b61-3618-4192-b482-c80294c051b1",
   "metadata": {},
   "outputs": [
    {
     "name": "stdin",
     "output_type": "stream",
     "text": [
      "Please enter an integer:  y\n"
     ]
    },
    {
     "name": "stdout",
     "output_type": "stream",
     "text": [
      "Looks like you did not enter an integer!\n",
      "Finally, I executed!\n"
     ]
    },
    {
     "ename": "UnboundLocalError",
     "evalue": "cannot access local variable 'val' where it is not associated with a value",
     "output_type": "error",
     "traceback": [
      "\u001b[1;31m---------------------------------------------------------------------------\u001b[0m",
      "\u001b[1;31mUnboundLocalError\u001b[0m                         Traceback (most recent call last)",
      "Cell \u001b[1;32mIn[221], line 1\u001b[0m\n\u001b[1;32m----> 1\u001b[0m askint()\n",
      "Cell \u001b[1;32mIn[219], line 9\u001b[0m, in \u001b[0;36maskint\u001b[1;34m()\u001b[0m\n\u001b[0;32m      7\u001b[0m \u001b[38;5;28;01mfinally\u001b[39;00m:\n\u001b[0;32m      8\u001b[0m     \u001b[38;5;28mprint\u001b[39m(\u001b[38;5;124m\"\u001b[39m\u001b[38;5;124mFinally, I executed!\u001b[39m\u001b[38;5;124m\"\u001b[39m)\n\u001b[1;32m----> 9\u001b[0m \u001b[38;5;28mprint\u001b[39m(val)\n",
      "\u001b[1;31mUnboundLocalError\u001b[0m: cannot access local variable 'val' where it is not associated with a value"
     ]
    }
   ],
   "source": [
    "askint()"
   ]
  },
  {
   "cell_type": "code",
   "execution_count": 224,
   "id": "dd454c3f-22c0-4403-92c0-05ac2a7f6857",
   "metadata": {},
   "outputs": [],
   "source": [
    "def askint():\n",
    "    while True:\n",
    "        try:\n",
    "            val = int(input(\"Please enter an integer: \"))\n",
    "        except:\n",
    "            print(\"Looks like you did not enter an integer!\")\n",
    "            continue\n",
    "        else:\n",
    "            print(\"Yep that's an integer!\")\n",
    "            break\n",
    "        finally:\n",
    "            print(\"Finally, I executed!\")\n",
    "        print(val)"
   ]
  },
  {
   "cell_type": "code",
   "execution_count": 225,
   "id": "99b80675-5640-4d44-a52c-65f86fe5db09",
   "metadata": {},
   "outputs": [
    {
     "name": "stdin",
     "output_type": "stream",
     "text": [
      "Please enter an integer:  6\n"
     ]
    },
    {
     "name": "stdout",
     "output_type": "stream",
     "text": [
      "Yep that's an integer!\n",
      "Finally, I executed!\n"
     ]
    }
   ],
   "source": [
    "askint()"
   ]
  },
  {
   "cell_type": "code",
   "execution_count": 231,
   "id": "36fd05c7-8bbd-4129-9f31-da81016a01ed",
   "metadata": {},
   "outputs": [
    {
     "ename": "SyntaxError",
     "evalue": "incomplete input (2842864194.py, line 3)",
     "output_type": "error",
     "traceback": [
      "\u001b[1;36m  Cell \u001b[1;32mIn[231], line 3\u001b[1;36m\u001b[0m\n\u001b[1;33m    print(i**3)\u001b[0m\n\u001b[1;37m               ^\u001b[0m\n\u001b[1;31mSyntaxError\u001b[0m\u001b[1;31m:\u001b[0m incomplete input\n"
     ]
    }
   ],
   "source": [
    "try:\n",
    "    for i in [2,3,4]:\n",
    "        print(i**3)"
   ]
  },
  {
   "cell_type": "code",
   "execution_count": 236,
   "id": "1adef745-6779-4819-a218-5f1b8ecb3f6f",
   "metadata": {},
   "outputs": [
    {
     "name": "stdout",
     "output_type": "stream",
     "text": [
      "wrong\n",
      "anything is possible\n"
     ]
    }
   ],
   "source": [
    "try:\n",
    "    for i in ['a','b','c']:\n",
    "        print(i**3)\n",
    "except:\n",
    "    print('wrong')\n",
    "finally:\n",
    "    print('anything is possible')"
   ]
  },
  {
   "cell_type": "code",
   "execution_count": null,
   "id": "35916fe4-b6fd-475a-aec8-62ecc613b3b4",
   "metadata": {},
   "outputs": [],
   "source": [
    "def ask():\n",
    "    \n",
    "    while True:\n",
    "        try:\n",
    "            n = int(input('Input an integer: '))\n",
    "        except:\n",
    "            print('An error occurred!')\n",
    "            continue\n",
    "        else:\n",
    "            break\n",
    "            \n",
    "finally:\n",
    "('Thank you, your number squared is: ',n**2)"
   ]
  },
  {
   "cell_type": "code",
   "execution_count": 4,
   "id": "c43a3e13-7e31-4b63-8406-b85ddff14e43",
   "metadata": {},
   "outputs": [],
   "source": [
    "class Line(object):\n",
    "    \n",
    "    def __init__(self,coor1,coor2):\n",
    "        self.coor1 = coor1\n",
    "        self.coor2 = coor2\n",
    "    \n",
    "    def distance(self):\n",
    "        x1,y1 = self.coor1\n",
    "        x2,y2 = self.coor2\n",
    "        return ((x2-x1)**2 + (y2-y1)**2)**0.5\n",
    "    \n",
    "    def slope(self):\n",
    "        x1,y1 = self.coor1\n",
    "        x2,y2 = self.coor2\n",
    "        return (y2-y1)/(x2-x1)"
   ]
  },
  {
   "cell_type": "code",
   "execution_count": 11,
   "id": "ce9f0456-ce7b-4d3e-b4c7-0ce507cc3f93",
   "metadata": {},
   "outputs": [],
   "source": [
    "co1=(4,6)\n",
    "co2=(3,8)"
   ]
  },
  {
   "cell_type": "code",
   "execution_count": 12,
   "id": "c387344a-2c40-4be5-bd8c-bb02b5411908",
   "metadata": {},
   "outputs": [],
   "source": [
    "area=Line(co1,co2)"
   ]
  },
  {
   "cell_type": "code",
   "execution_count": 14,
   "id": "089de841-a042-41ad-85ed-cad40835d9fe",
   "metadata": {},
   "outputs": [
    {
     "data": {
      "text/plain": [
       "2.23606797749979"
      ]
     },
     "execution_count": 14,
     "metadata": {},
     "output_type": "execute_result"
    }
   ],
   "source": [
    "area.distance()"
   ]
  },
  {
   "cell_type": "code",
   "execution_count": 15,
   "id": "372980f0-5a41-40c5-959e-d1bf3d740ba2",
   "metadata": {},
   "outputs": [
    {
     "data": {
      "text/plain": [
       "-2.0"
      ]
     },
     "execution_count": 15,
     "metadata": {},
     "output_type": "execute_result"
    }
   ],
   "source": [
    "area.slope()"
   ]
  },
  {
   "cell_type": "code",
   "execution_count": null,
   "id": "1a8a1ffd-5938-4bb7-bc62-41dec130db88",
   "metadata": {},
   "outputs": [],
   "source": []
  }
 ],
 "metadata": {
  "kernelspec": {
   "display_name": "Python 3 (ipykernel)",
   "language": "python",
   "name": "python3"
  },
  "language_info": {
   "codemirror_mode": {
    "name": "ipython",
    "version": 3
   },
   "file_extension": ".py",
   "mimetype": "text/x-python",
   "name": "python",
   "nbconvert_exporter": "python",
   "pygments_lexer": "ipython3",
   "version": "3.11.7"
  }
 },
 "nbformat": 4,
 "nbformat_minor": 5
}
